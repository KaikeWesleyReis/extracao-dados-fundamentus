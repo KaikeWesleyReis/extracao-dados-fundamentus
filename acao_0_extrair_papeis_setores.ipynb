{
 "cells": [
  {
   "cell_type": "markdown",
   "id": "0eabd924",
   "metadata": {},
   "source": [
    "# Objetivo\n",
    "\n",
    "- Adicionar setores dos papéis\n",
    "- Remover papéis inválidos ou sem setores"
   ]
  },
  {
   "cell_type": "code",
   "execution_count": 22,
   "id": "a1bc93c1",
   "metadata": {},
   "outputs": [],
   "source": [
    "# Bibliotecas\n",
    "import fundamentus\n",
    "import pandas as pd\n",
    "from numpy import nan\n",
    "from datetime import datetime"
   ]
  },
  {
   "cell_type": "code",
   "execution_count": 23,
   "id": "9174522f",
   "metadata": {
    "collapsed": true
   },
   "outputs": [
    {
     "name": "stdout",
     "output_type": "stream",
     "text": [
      "> Setor de codigo 1 feito com sucesso!\n",
      "> Setor de codigo 2 feito com sucesso!\n",
      "> Setor de codigo 3 feito com sucesso!\n",
      "> Setor de codigo 4 feito com sucesso!\n",
      "> Setor de codigo 5 feito com sucesso!\n",
      "> Setor de codigo 6 feito com sucesso!\n",
      "> Setor de codigo 7 feito com sucesso!\n",
      "> Setor de codigo 8 feito com sucesso!\n",
      "> Setor de codigo 9 feito com sucesso!\n",
      "> Setor de codigo 10 feito com sucesso!\n",
      "> Setor de codigo 11 feito com sucesso!\n",
      "> Setor de codigo 12 feito com sucesso!\n",
      "> Setor de codigo 14 feito com sucesso!\n",
      "> Setor de codigo 15 feito com sucesso!\n",
      "> Setor de codigo 16 feito com sucesso!\n",
      "> Setor de codigo 17 feito com sucesso!\n",
      "> Setor de codigo 18 feito com sucesso!\n",
      "> Setor de codigo 19 feito com sucesso!\n",
      "> Setor de codigo 20 feito com sucesso!\n",
      "> Setor de codigo 21 feito com sucesso!\n",
      "> Setor de codigo 22 feito com sucesso!\n",
      "> Setor de codigo 23 feito com sucesso!\n",
      "> Setor de codigo 24 feito com sucesso!\n",
      "> Setor de codigo 25 feito com sucesso!\n",
      "> Setor de codigo 26 feito com sucesso!\n",
      "> Setor de codigo 27 feito com sucesso!\n",
      "> Setor de codigo 28 feito com sucesso!\n",
      "> Setor de codigo 30 feito com sucesso!\n",
      "> Setor de codigo 31 feito com sucesso!\n",
      "> Setor de codigo 32 feito com sucesso!\n",
      "> Setor de codigo 33 feito com sucesso!\n",
      "> Setor de codigo 34 feito com sucesso!\n",
      "> Setor de codigo 36 feito com sucesso!\n",
      "> Setor de codigo 37 feito com sucesso!\n",
      "> Setor de codigo 38 feito com sucesso!\n",
      "> Setor de codigo 39 feito com sucesso!\n",
      "> Setor de codigo 40 feito com sucesso!\n",
      "> Setor de codigo 41 feito com sucesso!\n",
      "> Setor de codigo 42 feito com sucesso!\n",
      "> Setor de codigo 43 feito com sucesso!\n"
     ]
    }
   ],
   "source": [
    "# Carregar base de setores\n",
    "df_setor = pd.read_excel('./dados/FUNDAMENTUS_SETORES.xlsx')\n",
    "# Tratar\n",
    "df_setor = df_setor[df_setor['SETOR_NOME'] != '???'].reset_index(drop=True).copy()\n",
    "df_setor['SETOR_FOCO'] = df_setor['SETOR_FOCO'].replace({1:'Sim', nan:'Não'})\n",
    "\n",
    "# Loop para executar\n",
    "list_id_papeis = list()\n",
    "for codigo in df_setor['SETOR_CODIGO'].values:\n",
    "    try:\n",
    "        # Listar + Salvar papeis\n",
    "        df_papel = pd.DataFrame()\n",
    "        df_papel['PAPEIS'] = fundamentus.list_papel_setor(int(codigo))\n",
    "        df_papel['SETOR_CODIGO'] = int(codigo)\n",
    "        list_id_papeis.append(df_papel)\n",
    "        \n",
    "        # Atualizar status\n",
    "        print(f'> Setor de codigo {codigo} feito com sucesso!')\n",
    "    except:\n",
    "        print(f'(!) Falha com setor de código {codigo}')\n",
    "        \n",
    "# Unificar\n",
    "df = pd.merge(df_setor, pd.concat(list_id_papeis), how='left', on='SETOR_CODIGO')"
   ]
  },
  {
   "cell_type": "code",
   "execution_count": 24,
   "id": "5c217f33",
   "metadata": {},
   "outputs": [],
   "source": [
    "# Salvar\n",
    "nome = 'setores_papeis_' + datetime.today().strftime('%Y-%m-%d') + '.parquet'\n",
    "df.to_parquet(f'./dados/1_EXT/{nome}', index=False)"
   ]
  },
  {
   "cell_type": "markdown",
   "id": "bb063ec6",
   "metadata": {},
   "source": [
    "**fim**"
   ]
  }
 ],
 "metadata": {
  "kernelspec": {
   "display_name": "Python 3 (ipykernel)",
   "language": "python",
   "name": "python3"
  },
  "language_info": {
   "codemirror_mode": {
    "name": "ipython",
    "version": 3
   },
   "file_extension": ".py",
   "mimetype": "text/x-python",
   "name": "python",
   "nbconvert_exporter": "python",
   "pygments_lexer": "ipython3",
   "version": "3.9.12"
  }
 },
 "nbformat": 4,
 "nbformat_minor": 5
}
