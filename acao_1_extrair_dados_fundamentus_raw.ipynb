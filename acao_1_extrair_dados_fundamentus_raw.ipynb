{
 "cells": [
  {
   "cell_type": "code",
   "execution_count": 1,
   "id": "0fd68548",
   "metadata": {},
   "outputs": [],
   "source": [
    "# Carregar lista de papeis com setores via fin = fundamentus.list_papel_setor(35)\n",
    "# Puxar por detalhes todas as informações"
   ]
  },
  {
   "cell_type": "code",
   "execution_count": 2,
   "id": "aafa92e1",
   "metadata": {},
   "outputs": [
    {
     "name": "stderr",
     "output_type": "stream",
     "text": [
      "2023-11-15 10:52:22,577 [logging.log_init] INFO: LOGLEVEL=INFO\n"
     ]
    }
   ],
   "source": [
    "# Bibliotecas\n",
    "import pickle\n",
    "import fundamentus\n",
    "import pandas as pd\n",
    "from datetime import datetime"
   ]
  },
  {
   "cell_type": "code",
   "execution_count": 11,
   "id": "dd75df67",
   "metadata": {},
   "outputs": [],
   "source": [
    "def linearizar_info_bruta_acao(papel, tipo='acao'):\n",
    "    '''\n",
    "    \n",
    "    '''\n",
    "    # Puxar informação de ações\n",
    "    df_acao = fundamentus.get_detalhes_raw(papel)\n",
    "    \n",
    "    # Validar tamanho esparado \n",
    "    if tipo == 'acao':\n",
    "        assert len(df_acao) == 5, 'ERRO - Extração não possui quantidade esperada de informações.'\n",
    "    else:\n",
    "        assert len(df_acao) == 6, 'ERRO - Extração não possui quantidade esperada de informações.'\n",
    "    \n",
    "    # Montar linha de ação\n",
    "    linha_acao = dict()\n",
    "    \n",
    "    # Loop nas informações\n",
    "    for df in df_acao:\n",
    "        # Remover qualquer nulo\n",
    "        df.fillna('', inplace=True)\n",
    "        # Validar existência de coluna - valor (número par)\n",
    "        assert len(df.columns) % 2 == 0, 'ERRO - Padrão desconhecido de dados extraídos.'\n",
    "        # Loop nas colunas que contém o nome\n",
    "        for col_idx in range(0, len(df.columns), 2):\n",
    "            # Definir index de valor\n",
    "            val_idx = col_idx + 1\n",
    "            # Extração chave - valor\n",
    "            res = dict(zip(df[col_idx].tolist(), df[val_idx].tolist()))\n",
    "            # Salvar\n",
    "            linha_acao = {**linha_acao, **res}\n",
    "    # Retornar\n",
    "    return linha_acao"
   ]
  },
  {
   "cell_type": "code",
   "execution_count": 15,
   "id": "a2e3c954",
   "metadata": {},
   "outputs": [],
   "source": [
    "# Carregar lista de setores com papeis listados - IMPROVE :: MES\n",
    "df_set_pap = pd.read_parquet('dados/1_EXT/setores_fii_papeis_2023-11-15.parquet')\n",
    "qtd_papeis = len(df_set_pap)\n",
    "qtd_papeis\n",
    "\n",
    "# Definir tipo de extracao\n",
    "tipo = 'fii'"
   ]
  },
  {
   "cell_type": "code",
   "execution_count": 16,
   "id": "e8e47e26",
   "metadata": {},
   "outputs": [
    {
     "name": "stdout",
     "output_type": "stream",
     "text": [
      "> Feito 10 de 341 até o momento.\n",
      "> Feito 20 de 341 até o momento.\n",
      "> Feito 30 de 341 até o momento.\n",
      "> Feito 40 de 341 até o momento.\n",
      "> Feito 50 de 341 até o momento.\n",
      "> Feito 60 de 341 até o momento.\n",
      "> Feito 70 de 341 até o momento.\n",
      "> Feito 80 de 341 até o momento.\n",
      "> Feito 90 de 341 até o momento.\n",
      "> Feito 100 de 341 até o momento.\n",
      "> Feito 110 de 341 até o momento.\n",
      "> Feito 120 de 341 até o momento.\n",
      "> Feito 130 de 341 até o momento.\n",
      "> Feito 140 de 341 até o momento.\n",
      "> Feito 150 de 341 até o momento.\n",
      "> Feito 160 de 341 até o momento.\n",
      "> Feito 170 de 341 até o momento.\n",
      "> Feito 180 de 341 até o momento.\n",
      "> Feito 190 de 341 até o momento.\n",
      "> Feito 200 de 341 até o momento.\n",
      "> Feito 210 de 341 até o momento.\n",
      "> Feito 220 de 341 até o momento.\n",
      "> Feito 230 de 341 até o momento.\n",
      "> Feito 240 de 341 até o momento.\n",
      "> Feito 250 de 341 até o momento.\n",
      "> Feito 260 de 341 até o momento.\n",
      "> Feito 270 de 341 até o momento.\n",
      "> Feito 280 de 341 até o momento.\n",
      "> Feito 290 de 341 até o momento.\n",
      "> Feito 300 de 341 até o momento.\n",
      "> Feito 310 de 341 até o momento.\n",
      "> Feito 320 de 341 até o momento.\n",
      "> Feito 330 de 341 até o momento.\n",
      "> Feito 340 de 341 até o momento.\n"
     ]
    }
   ],
   "source": [
    "# Definir papel para puxar informação\n",
    "df_papeis = list()\n",
    "for n, papel in enumerate(df_set_pap['PAPEIS']):\n",
    "    # Executar extração\n",
    "    try:\n",
    "        df_papeis.append(linearizar_info_bruta_acao(papel, tipo))\n",
    "    except:\n",
    "        print(f'(!) Falha - {papel} não encontrado no site.')\n",
    "    # Report\n",
    "    if n % 10 == 0 and n > 0:\n",
    "        print(f'> Feito {n} de {qtd_papeis} até o momento.')"
   ]
  },
  {
   "cell_type": "code",
   "execution_count": 18,
   "id": "75911feb",
   "metadata": {},
   "outputs": [],
   "source": [
    "# Salvar\n",
    "data = pd.DataFrame(df_papeis)\n",
    "nome = f'raw_fundamentus_{tipo}' + datetime.today().strftime('%Y-%m-%d') + '.csv'\n",
    "data.to_csv(f'dados/1_EXT/{nome}', index=False)"
   ]
  }
 ],
 "metadata": {
  "kernelspec": {
   "display_name": "Python 3 (ipykernel)",
   "language": "python",
   "name": "python3"
  },
  "language_info": {
   "codemirror_mode": {
    "name": "ipython",
    "version": 3
   },
   "file_extension": ".py",
   "mimetype": "text/x-python",
   "name": "python",
   "nbconvert_exporter": "python",
   "pygments_lexer": "ipython3",
   "version": "3.9.12"
  }
 },
 "nbformat": 4,
 "nbformat_minor": 5
}
