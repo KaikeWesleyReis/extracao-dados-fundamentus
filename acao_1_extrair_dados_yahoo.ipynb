{
 "cells": [
  {
   "cell_type": "code",
   "execution_count": 1,
   "id": "38e98cb6",
   "metadata": {},
   "outputs": [],
   "source": [
    "# Bibliotecas\n",
    "import yfinance\n",
    "import pandas as pd\n",
    "import pandas_datareader.data as pdr\n",
    "\n",
    "# Garantir compatibilidade\n",
    "yfinance.pdr_override()"
   ]
  },
  {
   "cell_type": "code",
   "execution_count": 30,
   "id": "81f8d37b",
   "metadata": {},
   "outputs": [],
   "source": [
    "# Listar ativos atuais da sua carteira\n",
    "ativos_pap = ['VRTA11.SA', 'CVBI11.SA', 'MCCI11.SA']\n",
    "ativos_tij = ['KNRI11.SA', 'XPML11.SA', 'BTLG11.SA', 'MALL11.SA']\n",
    "ativos = ativos_tij + ativos_pap"
   ]
  },
  {
   "cell_type": "code",
   "execution_count": 31,
   "id": "360b06a2",
   "metadata": {},
   "outputs": [],
   "source": [
    "# Definir datas\n",
    "data_ini = '2023-01-01'\n",
    "data_fim = '2023-08-30'"
   ]
  },
  {
   "cell_type": "code",
   "execution_count": 32,
   "id": "3f709e57",
   "metadata": {},
   "outputs": [
    {
     "name": "stdout",
     "output_type": "stream",
     "text": [
      "[*********************100%%**********************]  7 of 7 completed\n"
     ]
    }
   ],
   "source": [
    "# Puxar tabela de cotações\n",
    "df_cotacoes = pdr.get_data_yahoo(ativos, start=data_ini, end=data_fim)['Adj Close'];"
   ]
  },
  {
   "cell_type": "code",
   "execution_count": 33,
   "id": "ea9acc81",
   "metadata": {},
   "outputs": [],
   "source": [
    "# Montar tabela de retornos\n",
    "df_retorno = df_cotacoes.copy()\n",
    "for ativo in df_retorno.columns:\n",
    "    df_retorno[ativo] = df_retorno[ativo].pct_change()"
   ]
  },
  {
   "cell_type": "code",
   "execution_count": 34,
   "id": "1b0965b4",
   "metadata": {},
   "outputs": [],
   "source": [
    "# Imputar zero no primeiro dia\n",
    "df_retorno.iloc[0, :] = 0"
   ]
  },
  {
   "cell_type": "code",
   "execution_count": 35,
   "id": "1f2e8bf3",
   "metadata": {},
   "outputs": [],
   "source": [
    "# Salvar arquivos\n",
    "df_retorno.to_parquet('./dados/retornos_01-08_2023.parquet', index=True)\n",
    "df_cotacoes.to_parquet('./dados/cotacoes_01-08_2023.parquet', index=True)"
   ]
  }
 ],
 "metadata": {
  "kernelspec": {
   "display_name": "Python 3 (ipykernel)",
   "language": "python",
   "name": "python3"
  },
  "language_info": {
   "codemirror_mode": {
    "name": "ipython",
    "version": 3
   },
   "file_extension": ".py",
   "mimetype": "text/x-python",
   "name": "python",
   "nbconvert_exporter": "python",
   "pygments_lexer": "ipython3",
   "version": "3.9.12"
  }
 },
 "nbformat": 4,
 "nbformat_minor": 5
}
