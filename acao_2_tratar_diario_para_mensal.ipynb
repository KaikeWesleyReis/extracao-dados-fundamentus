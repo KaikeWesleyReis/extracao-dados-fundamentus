{
 "cells": [
  {
   "cell_type": "markdown",
   "id": "d4a17af2",
   "metadata": {},
   "source": [
    "# Objetivo\n",
    "\n",
    "Puxar os dados diários e converter em mensais. Manter apenas papéis com setores associados. Renomear colunas."
   ]
  },
  {
   "cell_type": "code",
   "execution_count": 13,
   "id": "b62d184e",
   "metadata": {},
   "outputs": [],
   "source": [
    "# Bibliotecas\n",
    "import glob\n",
    "import numpy as np\n",
    "import pandas as pd\n",
    "from scipy.stats import iqr"
   ]
  },
  {
   "cell_type": "markdown",
   "id": "8636440d",
   "metadata": {},
   "source": [
    "# Funções"
   ]
  },
  {
   "cell_type": "code",
   "execution_count": 2,
   "id": "77faf879",
   "metadata": {},
   "outputs": [],
   "source": [
    "def encontrar_setor(papel, df_setor):\n",
    "    '''\n",
    "    Função para encontrar o setor de um papel.\n",
    "    '''\n",
    "    for setor, papeis_setor in zip(df_setor['SETOR_NOME'], df_setor['PAPEIS']):\n",
    "        if papel in papeis_setor:\n",
    "            return setor\n",
    "    return 'NDA'"
   ]
  },
  {
   "cell_type": "code",
   "execution_count": 3,
   "id": "96b1ffad",
   "metadata": {},
   "outputs": [],
   "source": [
    "def tratar_extracao_diaria(ano, mes, df_ext, df_setor):\n",
    "    '''\n",
    "    Função para unificar extrações diarias em um só dataframe.\n",
    "    '''\n",
    "    # Listar papéis que possuem algum setor\n",
    "    filtro_papeis = list(set([papel for papeis in df_setor['PAPEIS'] for papel in papeis]))\n",
    "    len(filtro_papeis)\n",
    "    \n",
    "    # Tratar colunas\n",
    "    df_ext.columns = [col.replace(' ','').upper() for col in df_ext.columns]\n",
    "    \n",
    "    # Checar - Quantos papéis com setor existem na extracao\n",
    "    #df_ext['PAPEL'].isin(filtro_papeis).sum()\n",
    "    \n",
    "    # Filtrar papeis que possuem setores\n",
    "    df_tra = df_ext[df_ext['PAPEL'].str.replace(' ','').isin(filtro_papeis)].copy()\n",
    "\n",
    "    # Definir setor\n",
    "    df_tra['SETOR'] = df_tra['PAPEL'].apply(lambda p: encontrar_setor(p, df_setor))\n",
    "\n",
    "    # Adicionar colunas de mês e ano\n",
    "    df_tra['ANO'] = ano\n",
    "    df_tra['MES'] = mes\n",
    "    \n",
    "    # Reordenar\n",
    "    cols_def = ['PAPEL', 'SETOR', 'ANO', 'MES']\n",
    "    cols = cols_def + [c for c in df_tra.columns if c not in cols_def]\n",
    "    df_tra = df_tra[cols].copy()\n",
    "    \n",
    "    # Retorno\n",
    "    return df_tra"
   ]
  },
  {
   "cell_type": "markdown",
   "id": "56cfcd70",
   "metadata": {},
   "source": [
    "# Execução"
   ]
  },
  {
   "cell_type": "code",
   "execution_count": 5,
   "id": "7d955d2f",
   "metadata": {},
   "outputs": [],
   "source": [
    "# Definir parâmetros\n",
    "ANO = '2023'\n",
    "MES = '09'"
   ]
  },
  {
   "cell_type": "code",
   "execution_count": 6,
   "id": "78265d87",
   "metadata": {},
   "outputs": [],
   "source": [
    "# Puxar extracoes diarias a partir de parâmetros\n",
    "lista_ext_dia = list(sorted(glob.glob(f'./dados/1_EXT/fundamentalista_br_{ANO}-{MES}*')))\n",
    "setor_ano_mes = list(sorted(glob.glob(f'./dados/1_EXT/setores_papeis_{ANO}-{MES}*')))[-1]"
   ]
  },
  {
   "cell_type": "code",
   "execution_count": 7,
   "id": "31c06eee",
   "metadata": {},
   "outputs": [],
   "source": [
    "# Puxar e atuar em base de setores\n",
    "df_setor = pd.read_parquet(setor_ano_mes)\n",
    "df_setor = df_setor[df_setor['SETOR_NOME'] != '???'].reset_index(drop=True).copy()\n",
    "_ = df_setor['PAPEIS'].str.split('###').tolist()\n",
    "df_setor['PAPEIS'] = _\n",
    "\n",
    "# Listagem\n",
    "l_papeis_tra = list()\n",
    "\n",
    "# Loop\n",
    "for papel_diario in lista_ext_dia:\n",
    "    # Puxar dia mês ano\n",
    "    ano, mes, dia = papel_diario.split('.')[-2].split('_')[-1].split('-')\n",
    "    \n",
    "    # Puxar bases de dados - Melhorar com \"try except\"\n",
    "    df_ext = pd.read_parquet(papel_diario)\n",
    "    \n",
    "    # Tratar\n",
    "    l_papeis_tra.append(tratar_extracao_diaria(ano, mes, df_ext, df_setor))"
   ]
  },
  {
   "cell_type": "code",
   "execution_count": 8,
   "id": "164c799c",
   "metadata": {},
   "outputs": [],
   "source": [
    "# Unificar base diarias tratadas\n",
    "df_papeis_dia = pd.concat(l_papeis_tra).sort_values('PAPEL')"
   ]
  },
  {
   "cell_type": "code",
   "execution_count": 14,
   "id": "ed0f4378",
   "metadata": {},
   "outputs": [],
   "source": [
    "# Gerar base mensal com estatisticas descritvas\n",
    "df_papeis_mes_media = df_papeis_dia.groupby(['PAPEL', 'SETOR', 'ANO', 'MES']).agg(np.mean).reset_index()\n",
    "df_papeis_mes_mediana = df_papeis_dia.groupby(['PAPEL', 'SETOR', 'ANO', 'MES']).agg(np.median).reset_index()\n",
    "df_papeis_mes_std = df_papeis_dia.groupby(['PAPEL', 'SETOR', 'ANO', 'MES']).agg(np.std).reset_index()\n",
    "df_papeis_mes_iqr = df_papeis_dia.groupby(['PAPEL', 'SETOR', 'ANO', 'MES']).agg(iqr).reset_index()"
   ]
  },
  {
   "cell_type": "code",
   "execution_count": 17,
   "id": "80936049",
   "metadata": {},
   "outputs": [],
   "source": [
    "# Salvar transformações\n",
    "df_papeis_mes_media.to_parquet(f'./dados/2_TRA/papeis_{ANO}_{MES}_media.parquet')\n",
    "df_papeis_mes_mediana.to_parquet(f'./dados/2_TRA/papeis_{ANO}_{MES}_mediana.parquet')\n",
    "df_papeis_mes_std.to_parquet(f'./dados/2_TRA/papeis_{ANO}_{MES}_desvio.parquet')\n",
    "df_papeis_mes_iqr.to_parquet(f'./dados/2_TRA/papeis_{ANO}_{MES}_iqr.parquet')"
   ]
  }
 ],
 "metadata": {
  "kernelspec": {
   "display_name": "Python 3 (ipykernel)",
   "language": "python",
   "name": "python3"
  },
  "language_info": {
   "codemirror_mode": {
    "name": "ipython",
    "version": 3
   },
   "file_extension": ".py",
   "mimetype": "text/x-python",
   "name": "python",
   "nbconvert_exporter": "python",
   "pygments_lexer": "ipython3",
   "version": "3.9.12"
  }
 },
 "nbformat": 4,
 "nbformat_minor": 5
}
