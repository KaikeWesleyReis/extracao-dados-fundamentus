{
 "cells": [
  {
   "cell_type": "markdown",
   "id": "0eabd924",
   "metadata": {},
   "source": [
    "# Objetivo\n",
    "\n",
    "- Adicionar setores dos papéis\n",
    "- Remover papéis inválidos ou sem setores"
   ]
  },
  {
   "cell_type": "code",
   "execution_count": 6,
   "id": "a1bc93c1",
   "metadata": {},
   "outputs": [],
   "source": [
    "# Bibliotecas\n",
    "import pandas as pd\n",
    "from numpy import nan\n",
    "from datetime import datetime\n",
    "from fundamentus_api.src.fundamentus.setor import list_papel_setor_url"
   ]
  },
  {
   "cell_type": "code",
   "execution_count": 2,
   "id": "e06faad2",
   "metadata": {},
   "outputs": [],
   "source": [
    "# Carregar base de setores\n",
    "df_setor = pd.read_excel('./dados/FUNDAMENTUS_SETORES_FII.xlsx')\n",
    "# Tratar\n",
    "df_setor = df_setor[df_setor['SETOR_NOME'] != '???'].reset_index(drop=True).copy()\n",
    "df_setor['SETOR_FOCO'] = df_setor['SETOR_FOCO'].replace({1:'Sim', nan:'Não'})"
   ]
  },
  {
   "cell_type": "code",
   "execution_count": 3,
   "id": "9174522f",
   "metadata": {},
   "outputs": [
    {
     "name": "stdout",
     "output_type": "stream",
     "text": [
      "> Setor de codigo 1 feito com sucesso!\n",
      "> Setor de codigo 2 feito com sucesso!\n",
      "> Setor de codigo 3 feito com sucesso!\n",
      "> Setor de codigo 4 feito com sucesso!\n",
      "> Setor de codigo 5 feito com sucesso!\n",
      "> Setor de codigo 6 feito com sucesso!\n",
      "> Setor de codigo 7 feito com sucesso!\n",
      "> Setor de codigo 8 feito com sucesso!\n",
      "> Setor de codigo 9 feito com sucesso!\n",
      "> Setor de codigo 10 feito com sucesso!\n"
     ]
    }
   ],
   "source": [
    "# Loop para executar\n",
    "list_id_papeis = list()\n",
    "for codigo in df_setor['SETOR_CODIGO'].values:\n",
    "    try:\n",
    "        # Listar + Salvar papeis\n",
    "        df_papel = pd.DataFrame()\n",
    "        url = f'https://www.fundamentus.com.br/fii_resultado.php?segmento={int(codigo)}'\n",
    "        df_papel['PAPEIS'] = list_papel_setor_url(url)\n",
    "        df_papel['SETOR_CODIGO'] = int(codigo)\n",
    "        list_id_papeis.append(df_papel)\n",
    "        \n",
    "        # Atualizar status\n",
    "        print(f'> Setor de codigo {codigo} feito com sucesso!')\n",
    "    except:\n",
    "        print(f'(!) Falha com setor de código {codigo}')\n",
    "        \n",
    "# Unificar\n",
    "df = pd.merge(df_setor, pd.concat(list_id_papeis), how='left', on='SETOR_CODIGO')"
   ]
  },
  {
   "cell_type": "code",
   "execution_count": 7,
   "id": "5c217f33",
   "metadata": {},
   "outputs": [],
   "source": [
    "# Salvar\n",
    "nome = 'fii_setores_papeis_' + datetime.today().strftime('%Y-%m-%d') + '.parquet'\n",
    "df.to_parquet(f'./dados/1_EXT/{nome}', index=False)"
   ]
  },
  {
   "cell_type": "markdown",
   "id": "bb063ec6",
   "metadata": {},
   "source": [
    "**fim**"
   ]
  }
 ],
 "metadata": {
  "kernelspec": {
   "display_name": "Python 3 (ipykernel)",
   "language": "python",
   "name": "python3"
  },
  "language_info": {
   "codemirror_mode": {
    "name": "ipython",
    "version": 3
   },
   "file_extension": ".py",
   "mimetype": "text/x-python",
   "name": "python",
   "nbconvert_exporter": "python",
   "pygments_lexer": "ipython3",
   "version": "3.9.12"
  }
 },
 "nbformat": 4,
 "nbformat_minor": 5
}
