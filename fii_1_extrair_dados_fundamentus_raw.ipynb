{
 "cells": [
  {
   "cell_type": "code",
   "execution_count": 1,
   "id": "0fd68548",
   "metadata": {},
   "outputs": [],
   "source": [
    "# Carregar lista de papeis com setores via fin = fundamentus.list_papel_setor(35)\n",
    "# Puxar por detalhes todas as informações"
   ]
  },
  {
   "cell_type": "code",
   "execution_count": 8,
   "id": "aafa92e1",
   "metadata": {},
   "outputs": [],
   "source": [
    "# Bibliotecas\n",
    "import pandas as pd\n",
    "from datetime import datetime\n",
    "from funcoes.utils import linearizar_info_bruta_acao"
   ]
  },
  {
   "cell_type": "markdown",
   "id": "4c4bef88",
   "metadata": {},
   "source": [
    "# Execução"
   ]
  },
  {
   "cell_type": "code",
   "execution_count": 9,
   "id": "209b1854",
   "metadata": {},
   "outputs": [],
   "source": [
    "# Definir tipo\n",
    "TIPO = 'fii'"
   ]
  },
  {
   "cell_type": "code",
   "execution_count": 10,
   "id": "a2e3c954",
   "metadata": {},
   "outputs": [
    {
     "data": {
      "text/plain": [
       "341"
      ]
     },
     "execution_count": 10,
     "metadata": {},
     "output_type": "execute_result"
    }
   ],
   "source": [
    "# Carregar lista de setores com papeis listados\n",
    "df_set_pap = pd.read_parquet(f'dados/1_EXT/{TIPO}_setores_papeis_' + datetime.today().strftime('%Y-%m-%d') + '.parquet')\n",
    "qtd_papeis = len(df_set_pap)\n",
    "qtd_papeis"
   ]
  },
  {
   "cell_type": "code",
   "execution_count": 11,
   "id": "e8e47e26",
   "metadata": {},
   "outputs": [
    {
     "name": "stdout",
     "output_type": "stream",
     "text": [
      "> Feito 10 de 341 até o momento.\n",
      "> Feito 20 de 341 até o momento.\n",
      "> Feito 30 de 341 até o momento.\n",
      "> Feito 40 de 341 até o momento.\n",
      "> Feito 50 de 341 até o momento.\n",
      "> Feito 60 de 341 até o momento.\n",
      "> Feito 70 de 341 até o momento.\n",
      "> Feito 80 de 341 até o momento.\n",
      "> Feito 90 de 341 até o momento.\n",
      "> Feito 100 de 341 até o momento.\n",
      "> Feito 110 de 341 até o momento.\n",
      "> Feito 120 de 341 até o momento.\n",
      "> Feito 130 de 341 até o momento.\n",
      "> Feito 140 de 341 até o momento.\n",
      "> Feito 150 de 341 até o momento.\n",
      "> Feito 160 de 341 até o momento.\n",
      "> Feito 170 de 341 até o momento.\n",
      "> Feito 180 de 341 até o momento.\n",
      "> Feito 190 de 341 até o momento.\n",
      "> Feito 200 de 341 até o momento.\n",
      "> Feito 210 de 341 até o momento.\n",
      "> Feito 220 de 341 até o momento.\n",
      "> Feito 230 de 341 até o momento.\n",
      "> Feito 240 de 341 até o momento.\n",
      "> Feito 250 de 341 até o momento.\n",
      "> Feito 260 de 341 até o momento.\n",
      "> Feito 270 de 341 até o momento.\n",
      "> Feito 280 de 341 até o momento.\n",
      "> Feito 290 de 341 até o momento.\n",
      "> Feito 300 de 341 até o momento.\n",
      "> Feito 310 de 341 até o momento.\n",
      "> Feito 320 de 341 até o momento.\n",
      "> Feito 330 de 341 até o momento.\n",
      "> Feito 340 de 341 até o momento.\n"
     ]
    }
   ],
   "source": [
    "# Definir papel para puxar informação\n",
    "df_papeis = list()\n",
    "for n, papel in enumerate(df_set_pap['PAPEIS']):\n",
    "    # Executar extração\n",
    "    try:\n",
    "        df_papeis.append(linearizar_info_bruta_acao(papel, TIPO))\n",
    "    except:\n",
    "        print(f'(!) Falha - {papel} não encontrado no site.')\n",
    "    # Report\n",
    "    if n % 10 == 0 and n > 0 or n == qtd_papeis - 1:\n",
    "        print(f'> Feito {n} de {qtd_papeis} até o momento.')"
   ]
  },
  {
   "cell_type": "code",
   "execution_count": 12,
   "id": "423be845",
   "metadata": {},
   "outputs": [],
   "source": [
    "# Converter em dataframe\n",
    "data = pd.DataFrame(df_papeis)"
   ]
  },
  {
   "cell_type": "code",
   "execution_count": 13,
   "id": "75911feb",
   "metadata": {},
   "outputs": [],
   "source": [
    "# Salvar\n",
    "data.to_csv(f'dados/1_EXT/{TIPO}_raw_fundamentus_' + datetime.today().strftime('%Y-%m-%d') + '.csv', index=False)"
   ]
  }
 ],
 "metadata": {
  "kernelspec": {
   "display_name": "Python 3 (ipykernel)",
   "language": "python",
   "name": "python3"
  },
  "language_info": {
   "codemirror_mode": {
    "name": "ipython",
    "version": 3
   },
   "file_extension": ".py",
   "mimetype": "text/x-python",
   "name": "python",
   "nbconvert_exporter": "python",
   "pygments_lexer": "ipython3",
   "version": "3.9.12"
  }
 },
 "nbformat": 4,
 "nbformat_minor": 5
}
