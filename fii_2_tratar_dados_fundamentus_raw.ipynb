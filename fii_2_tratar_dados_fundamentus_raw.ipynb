{
 "cells": [
  {
   "cell_type": "code",
   "execution_count": 1,
   "id": "aafa92e1",
   "metadata": {},
   "outputs": [
    {
     "name": "stderr",
     "output_type": "stream",
     "text": [
      "2024-03-05 17:58:00,441 [logging.log_init] INFO: LOGLEVEL=INFO\n"
     ]
    }
   ],
   "source": [
    "# Bibliotecas\n",
    "import re\n",
    "import unicodedata\n",
    "import numpy as np\n",
    "import pandas as pd\n",
    "from datetime import datetime\n",
    "from funcoes.utils import converter_string_numero"
   ]
  },
  {
   "cell_type": "markdown",
   "id": "99f8cfbd",
   "metadata": {},
   "source": [
    "# Funções"
   ]
  },
  {
   "cell_type": "code",
   "execution_count": null,
   "id": "bac47e58",
   "metadata": {},
   "outputs": [],
   "source": []
  },
  {
   "cell_type": "markdown",
   "id": "ad637577",
   "metadata": {},
   "source": [
    "# Execução"
   ]
  },
  {
   "cell_type": "code",
   "execution_count": 2,
   "id": "a2e3c954",
   "metadata": {},
   "outputs": [],
   "source": [
    "# Carregar dados brutos\n",
    "df = pd.read_csv(f'dados/1_EXT/fii_raw_fundamentus_' + datetime.today().strftime('%Y-%m-%d') + '.csv')"
   ]
  },
  {
   "cell_type": "code",
   "execution_count": 3,
   "id": "7461eea8",
   "metadata": {},
   "outputs": [],
   "source": [
    "# Fazer tratamentos iniciais\n",
    "df.columns = [c.upper().replace('?','').strip() for c in df.columns]\n",
    "# Fazer tratamentos adicionais\n",
    "df.columns = [re.sub('\\s+', ' ', c) for c in df.columns]\n",
    "df.columns = [c.replace('. ', '_') for c in df.columns]\n",
    "df.columns = [c.replace(' / ', '_POR_') for c in df.columns]\n",
    "df.columns = [c.replace('/', '_POR_') for c in df.columns]\n",
    "df.columns = [c.replace(' ', '_') for c in df.columns]\n",
    "df.columns = [c.replace('(', '') for c in df.columns]\n",
    "df.columns = [c.replace(')', '') for c in df.columns]\n",
    "df.columns = [unicodedata.normalize('NFD', c).encode('ascii', 'ignore').decode(\"utf-8\")  for c in df.columns]\n",
    "df.columns = [re.sub('_+', '_', c) for c in df.columns]"
   ]
  },
  {
   "cell_type": "code",
   "execution_count": 4,
   "id": "f69d8529",
   "metadata": {},
   "outputs": [],
   "source": [
    "# Especial colunas para ficar\n",
    "cols = ['FII','NOME', 'MANDATO', 'SEGMENTO', 'GESTAO', 'ATIVOS', 'QTD_IMOVEIS', 'QTD_UNIDADES',    # Informações gerais\n",
    "        'COTACAO', 'DATA_ULT_COT', 'MIN_52_SEM', 'MAX_52_SEM', 'VOL_$_MED_2M',                     # Valor de cotas\n",
    "        'VALOR_DE_MERCADO', 'NRO_COTAS',                                                           # Market\n",
    "        'DIA', 'MES', '30_DIAS', '12_MESES', '2023', '2022', '2021', '2020', '2019',               # Oscilações\n",
    "        'RECEITA_12_MESES','VENDA_DE_ATIVOS_12_MESES', 'FFO_12_MESES', 'REND_DISTRIBUIDO_12_MESES',# Indicadores\n",
    "        'RECEITA_3_MESES', 'VENDA_DE_ATIVOS_3_MESES','FFO_3_MESES', 'REND_DISTRIBUIDO_3_MESES',    # Indicadores\n",
    "        'FFO_POR_COTA', 'FFO_YIELD', 'DIV_YIELD', 'P_POR_VP', 'VP_POR_COTA', 'DIVIDENDO_POR_COTA', # Indicadores\n",
    "        'PATRIM_LIQUIDO', 'IMOVEIS_POR_PL_DO_FII', 'AREA_M2', 'ALUGUEL_POR_M2', 'PRECO_DO_M2',     # Indicadores\n",
    "        'CAP_RATE', 'VACANCIA_MEDIA']                                                              # Indicadores"
   ]
  },
  {
   "cell_type": "code",
   "execution_count": 5,
   "id": "193370b7",
   "metadata": {},
   "outputs": [],
   "source": [
    "# Selecionar\n",
    "df = df[cols].copy()"
   ]
  },
  {
   "cell_type": "code",
   "execution_count": 6,
   "id": "f1311d42",
   "metadata": {},
   "outputs": [],
   "source": [
    "# Renomear\n",
    "df.rename(columns={'DIA': 'OSCILACOES_%_DIA',\n",
    "                   'MES': 'OSCILACOES_%_MES',\n",
    "                   '30_DIAS': 'OSCILACOES_%_30_DIAS',\n",
    "                   '12_MESES': 'OSCILACOES_%_12_MESES',\n",
    "                   '2023': 'OSCILACOES_%_2023',\n",
    "                   '2022': 'OSCILACOES_%_2022',\n",
    "                   '2021': 'OSCILACOES_%_2021',\n",
    "                   '2020': 'OSCILACOES_%_2020',\n",
    "                   '2019': 'OSCILACOES_%_2019'}, inplace=True)"
   ]
  },
  {
   "cell_type": "code",
   "execution_count": 7,
   "id": "4348b728",
   "metadata": {},
   "outputs": [],
   "source": [
    "# Colunas de atributos\n",
    "cols_atr = ['FII','NOME', 'MANDATO', 'SEGMENTO', 'GESTAO', 'DATA_ULT_COT']\n",
    "cols_num = [c for c in df.columns if c not in cols_atr] "
   ]
  },
  {
   "cell_type": "code",
   "execution_count": 8,
   "id": "917b82cf",
   "metadata": {},
   "outputs": [],
   "source": [
    "# Criar backup para comparar\n",
    "df_bkp = df.copy()"
   ]
  },
  {
   "cell_type": "code",
   "execution_count": 9,
   "id": "825d6b9b",
   "metadata": {},
   "outputs": [],
   "source": [
    "# Converter colunas numericas\n",
    "for cn in cols_num:\n",
    "    df[cn] = df[cn].apply(lambda x:converter_string_numero(x))"
   ]
  },
  {
   "cell_type": "code",
   "execution_count": 10,
   "id": "0a4a7651",
   "metadata": {},
   "outputs": [
    {
     "name": "stdout",
     "output_type": "stream",
     "text": [
      "<class 'pandas.core.frame.DataFrame'>\n",
      "RangeIndex: 341 entries, 0 to 340\n",
      "Data columns (total 39 columns):\n",
      " #   Column                     Non-Null Count  Dtype  \n",
      "---  ------                     --------------  -----  \n",
      " 0   ATIVOS                     341 non-null    int64  \n",
      " 1   QTD_IMOVEIS                341 non-null    int64  \n",
      " 2   QTD_UNIDADES               337 non-null    float64\n",
      " 3   COTACAO                    341 non-null    float64\n",
      " 4   MIN_52_SEM                 341 non-null    float64\n",
      " 5   MAX_52_SEM                 341 non-null    float64\n",
      " 6   VOL_$_MED_2M               341 non-null    int64  \n",
      " 7   VALOR_DE_MERCADO           341 non-null    int64  \n",
      " 8   NRO_COTAS                  341 non-null    int64  \n",
      " 9   OSCILACOES_%_DIA           341 non-null    float64\n",
      " 10  OSCILACOES_%_MES           341 non-null    float64\n",
      " 11  OSCILACOES_%_30_DIAS       341 non-null    float64\n",
      " 12  OSCILACOES_%_12_MESES      341 non-null    float64\n",
      " 13  OSCILACOES_%_2023          340 non-null    float64\n",
      " 14  OSCILACOES_%_2022          341 non-null    float64\n",
      " 15  OSCILACOES_%_2021          341 non-null    float64\n",
      " 16  OSCILACOES_%_2020          341 non-null    float64\n",
      " 17  OSCILACOES_%_2019          341 non-null    float64\n",
      " 18  RECEITA_12_MESES           341 non-null    int64  \n",
      " 19  VENDA_DE_ATIVOS_12_MESES   341 non-null    int64  \n",
      " 20  FFO_12_MESES               341 non-null    int64  \n",
      " 21  REND_DISTRIBUIDO_12_MESES  341 non-null    int64  \n",
      " 22  RECEITA_3_MESES            341 non-null    int64  \n",
      " 23  VENDA_DE_ATIVOS_3_MESES    341 non-null    int64  \n",
      " 24  FFO_3_MESES                341 non-null    int64  \n",
      " 25  REND_DISTRIBUIDO_3_MESES   341 non-null    int64  \n",
      " 26  FFO_POR_COTA               341 non-null    float64\n",
      " 27  FFO_YIELD                  341 non-null    float64\n",
      " 28  DIV_YIELD                  341 non-null    float64\n",
      " 29  P_POR_VP                   341 non-null    float64\n",
      " 30  VP_POR_COTA                341 non-null    float64\n",
      " 31  DIVIDENDO_POR_COTA         341 non-null    float64\n",
      " 32  PATRIM_LIQUIDO             341 non-null    int64  \n",
      " 33  IMOVEIS_POR_PL_DO_FII      341 non-null    float64\n",
      " 34  AREA_M2                    341 non-null    int64  \n",
      " 35  ALUGUEL_POR_M2             175 non-null    float64\n",
      " 36  PRECO_DO_M2                175 non-null    float64\n",
      " 37  CAP_RATE                   180 non-null    float64\n",
      " 38  VACANCIA_MEDIA             175 non-null    float64\n",
      "dtypes: float64(24), int64(15)\n",
      "memory usage: 104.0 KB\n"
     ]
    }
   ],
   "source": [
    "# Checar tipos\n",
    "df[cols_num].info()"
   ]
  },
  {
   "cell_type": "code",
   "execution_count": 11,
   "id": "184965aa",
   "metadata": {},
   "outputs": [],
   "source": [
    "# Salvar\n",
    "df.to_csv(f'dados/2_TRA/fii_tratado_fundamentus_' + datetime.today().strftime('%Y-%m-%d') + '.csv', index=False)"
   ]
  }
 ],
 "metadata": {
  "kernelspec": {
   "display_name": "Python 3 (ipykernel)",
   "language": "python",
   "name": "python3"
  },
  "language_info": {
   "codemirror_mode": {
    "name": "ipython",
    "version": 3
   },
   "file_extension": ".py",
   "mimetype": "text/x-python",
   "name": "python",
   "nbconvert_exporter": "python",
   "pygments_lexer": "ipython3",
   "version": "3.9.12"
  }
 },
 "nbformat": 4,
 "nbformat_minor": 5
}
