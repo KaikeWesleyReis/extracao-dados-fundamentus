{
 "cells": [
  {
   "cell_type": "markdown",
   "id": "69ec3098",
   "metadata": {},
   "source": [
    "# Objetivo\n",
    "\n",
    "Aqui vamos atuar em cima das bases mensais para calcular conceitos e avaliações fundamentalistas. São elas:\n",
    "- DY próximo de 10%\n",
    "- P/VP Abaixo de 1.0 é um bom indicativo\n",
    "- Baixa oscilação\n",
    "\n",
    "## Bibliotecas"
   ]
  },
  {
   "cell_type": "code",
   "execution_count": 1,
   "id": "78ca57c0",
   "metadata": {},
   "outputs": [],
   "source": [
    "# Geral\n",
    "import warnings\n",
    "import numpy as np\n",
    "import pandas as pd\n",
    "from datetime import datetime\n",
    "\n",
    "# Plots\n",
    "import seaborn as sns\n",
    "import plotly.express as px\n",
    "import matplotlib.pyplot as plt\n",
    "\n",
    "# Remover warnings chatos do pandas\n",
    "warnings.filterwarnings(\"ignore\")"
   ]
  },
  {
   "cell_type": "markdown",
   "id": "42081934",
   "metadata": {},
   "source": [
    "# Funções"
   ]
  },
  {
   "cell_type": "code",
   "execution_count": 2,
   "id": "cbd3cad7",
   "metadata": {},
   "outputs": [],
   "source": [
    "def calcular_preco_graham_setor(pl, pvp, lpa, vpa):\n",
    "    # Calcular valor\n",
    "    val = pl * pvp * lpa * vpa\n",
    "    if val > 0:\n",
    "        return round(np.sqrt(val), 2)\n",
    "    else:\n",
    "        return np.nan"
   ]
  },
  {
   "cell_type": "code",
   "execution_count": 3,
   "id": "ee1c0207",
   "metadata": {},
   "outputs": [],
   "source": [
    "def calcular_razao(v1, v2):\n",
    "    if v1 == 0 or v2 == 0:\n",
    "        return 0\n",
    "    else:\n",
    "        return v1 / v2"
   ]
  },
  {
   "cell_type": "markdown",
   "id": "c8595b98",
   "metadata": {},
   "source": [
    "# Execução"
   ]
  },
  {
   "cell_type": "code",
   "execution_count": 4,
   "id": "d2282dd7",
   "metadata": {},
   "outputs": [],
   "source": [
    "# Carregar base(s)\n",
    "path_file = f'dados/2_TRA/fii_tratado_fundamentus_2023-12-26.csv'\n",
    "df = pd.read_csv(path_file)"
   ]
  },
  {
   "cell_type": "code",
   "execution_count": 5,
   "id": "68202a7b",
   "metadata": {},
   "outputs": [],
   "source": [
    "# Filtrar apenas aqueles com informações de atributo\n",
    "filtro = df[['FII','NOME','MANDATO','SEGMENTO','GESTAO']].notnull().sum(axis=1) == 5\n",
    "df = df[filtro].reset_index(drop=True).copy()"
   ]
  },
  {
   "cell_type": "code",
   "execution_count": 6,
   "id": "dc4ee222",
   "metadata": {},
   "outputs": [],
   "source": [
    "# Calcular Razão de cotação / dividendo por cota\n",
    "# Quantidade de cotas que preciso ter para reaver uma nova cota através apenas de dividendos\n",
    "# Quanto menor, melhor!\n",
    "df['RAZAO_COTACAO_DIVIDENDO'] = df.apply(lambda df: calcular_razao(df['COTACAO'], df['DIVIDENDO_POR_COTA']), axis=1)"
   ]
  },
  {
   "cell_type": "markdown",
   "id": "b3a67546",
   "metadata": {},
   "source": [
    "**Agregados por setor necessários**"
   ]
  },
  {
   "cell_type": "code",
   "execution_count": 7,
   "id": "71798399",
   "metadata": {},
   "outputs": [],
   "source": [
    "# Gerar agregados\n",
    "indicadores = ['P_POR_VP', 'DIV_YIELD', 'RAZAO_COTACAO_DIVIDENDO', 'DIVIDENDO_POR_COTA']\n",
    "df_agg = df[['SEGMENTO'] + indicadores].groupby('SEGMENTO').median().reset_index()"
   ]
  },
  {
   "cell_type": "code",
   "execution_count": 8,
   "id": "7871e012",
   "metadata": {},
   "outputs": [],
   "source": [
    "# Modificar colunas\n",
    "df_agg.columns = [c if c == 'SEGMENTO' else f'AGG_{c}' for c in df_agg.columns]"
   ]
  },
  {
   "cell_type": "code",
   "execution_count": 9,
   "id": "69edc53b",
   "metadata": {},
   "outputs": [],
   "source": [
    "# Unificar informações na base\n",
    "df = pd.merge(df, df_agg, on='SEGMENTO', how='left')"
   ]
  },
  {
   "cell_type": "markdown",
   "id": "70e6a6a6",
   "metadata": {},
   "source": [
    "**Criar Flags**"
   ]
  },
  {
   "cell_type": "code",
   "execution_count": 10,
   "id": "34f7364c",
   "metadata": {},
   "outputs": [],
   "source": [
    "df['FLAG_DY_ACIMA_10'] = (df['DIV_YIELD'] >= 10).astype(int)"
   ]
  },
  {
   "cell_type": "code",
   "execution_count": 11,
   "id": "9d23414f",
   "metadata": {},
   "outputs": [],
   "source": [
    "df['FLAG_DY_ACIMA_DY_SETOR'] = (df['DIV_YIELD'] >= df['AGG_DIV_YIELD']).astype(int)"
   ]
  },
  {
   "cell_type": "markdown",
   "id": "b824a552",
   "metadata": {},
   "source": [
    "**Avaliação de Carteira**"
   ]
  },
  {
   "cell_type": "code",
   "execution_count": 12,
   "id": "d8147761",
   "metadata": {},
   "outputs": [],
   "source": [
    "# Definir papeis atuais a partir da carteira e seus setores\n",
    "papeis_atuais = ['BTLG11','CVBI11','KNRI11','MALL11','MCCI11','VRTA11','XPML11']\n",
    "setores_atuais = df.loc[df['FII'].isin(papeis_atuais), 'SEGMENTO'].unique().tolist()"
   ]
  },
  {
   "cell_type": "code",
   "execution_count": 13,
   "id": "a3ae754f",
   "metadata": {},
   "outputs": [],
   "source": [
    "# Criar dataframe de análise\n",
    "df_aval = df.loc[df['SEGMENTO'].isin(setores_atuais)] "
   ]
  },
  {
   "cell_type": "code",
   "execution_count": 14,
   "id": "37c015e2",
   "metadata": {},
   "outputs": [],
   "source": [
    "# Flag para apontar papeis de sua carteira\n",
    "df_aval['CARTEIRA'] = df_aval['FII'].isin(papeis_atuais).astype(int).copy()"
   ]
  },
  {
   "cell_type": "code",
   "execution_count": 15,
   "id": "2e7051cd",
   "metadata": {},
   "outputs": [],
   "source": [
    "# Definir colunas de analise\n",
    "cols = ['FII','SEGMENTO','COTACAO', 'OSCILACOES_%_2023'] + indicadores + [f'AGG_{i}' for i in indicadores]\n",
    "cols += [c for c in df.columns if 'FLAG' in c]"
   ]
  },
  {
   "cell_type": "code",
   "execution_count": 16,
   "id": "372d15ea",
   "metadata": {},
   "outputs": [],
   "source": [
    "# Criar coluna de flags\n",
    "df_aval['FLAG_DY_ACIMA_10_E_SETOR'] = (df_aval['FLAG_DY_ACIMA_10'] == True)&(df_aval['FLAG_DY_ACIMA_DY_SETOR'] == True)"
   ]
  },
  {
   "cell_type": "code",
   "execution_count": 17,
   "id": "8653df2e",
   "metadata": {},
   "outputs": [
    {
     "data": {
      "text/html": [
       "<div>\n",
       "<style scoped>\n",
       "    .dataframe tbody tr th:only-of-type {\n",
       "        vertical-align: middle;\n",
       "    }\n",
       "\n",
       "    .dataframe tbody tr th {\n",
       "        vertical-align: top;\n",
       "    }\n",
       "\n",
       "    .dataframe thead th {\n",
       "        text-align: right;\n",
       "    }\n",
       "</style>\n",
       "<table border=\"1\" class=\"dataframe\">\n",
       "  <thead>\n",
       "    <tr style=\"text-align: right;\">\n",
       "      <th></th>\n",
       "      <th>FII</th>\n",
       "      <th>SEGMENTO</th>\n",
       "      <th>COTACAO</th>\n",
       "      <th>OSCILACOES_%_2023</th>\n",
       "      <th>P_POR_VP</th>\n",
       "      <th>DIV_YIELD</th>\n",
       "      <th>RAZAO_COTACAO_DIVIDENDO</th>\n",
       "      <th>DIVIDENDO_POR_COTA</th>\n",
       "      <th>AGG_P_POR_VP</th>\n",
       "      <th>AGG_DIV_YIELD</th>\n",
       "      <th>AGG_RAZAO_COTACAO_DIVIDENDO</th>\n",
       "      <th>AGG_DIVIDENDO_POR_COTA</th>\n",
       "      <th>FLAG_DY_ACIMA_10</th>\n",
       "      <th>FLAG_DY_ACIMA_DY_SETOR</th>\n",
       "    </tr>\n",
       "  </thead>\n",
       "  <tbody>\n",
       "    <tr>\n",
       "      <th>13</th>\n",
       "      <td>BTLG11</td>\n",
       "      <td>Híbrido</td>\n",
       "      <td>99.89</td>\n",
       "      <td>8.19</td>\n",
       "      <td>1.02</td>\n",
       "      <td>8.5</td>\n",
       "      <td>13.835180</td>\n",
       "      <td>7.22</td>\n",
       "      <td>0.930</td>\n",
       "      <td>9.30</td>\n",
       "      <td>10.155556</td>\n",
       "      <td>6.840</td>\n",
       "      <td>0</td>\n",
       "      <td>0</td>\n",
       "    </tr>\n",
       "    <tr>\n",
       "      <th>42</th>\n",
       "      <td>KNRI11</td>\n",
       "      <td>Híbrido</td>\n",
       "      <td>161.01</td>\n",
       "      <td>23.62</td>\n",
       "      <td>1.01</td>\n",
       "      <td>7.2</td>\n",
       "      <td>13.384040</td>\n",
       "      <td>12.03</td>\n",
       "      <td>0.930</td>\n",
       "      <td>9.30</td>\n",
       "      <td>10.155556</td>\n",
       "      <td>6.840</td>\n",
       "      <td>0</td>\n",
       "      <td>0</td>\n",
       "    </tr>\n",
       "    <tr>\n",
       "      <th>203</th>\n",
       "      <td>MALL11</td>\n",
       "      <td>Shoppings</td>\n",
       "      <td>114.98</td>\n",
       "      <td>20.48</td>\n",
       "      <td>0.96</td>\n",
       "      <td>8.0</td>\n",
       "      <td>12.128692</td>\n",
       "      <td>9.48</td>\n",
       "      <td>0.840</td>\n",
       "      <td>8.05</td>\n",
       "      <td>11.649395</td>\n",
       "      <td>8.515</td>\n",
       "      <td>0</td>\n",
       "      <td>0</td>\n",
       "    </tr>\n",
       "    <tr>\n",
       "      <th>210</th>\n",
       "      <td>XPML11</td>\n",
       "      <td>Shoppings</td>\n",
       "      <td>113.56</td>\n",
       "      <td>29.26</td>\n",
       "      <td>1.01</td>\n",
       "      <td>8.1</td>\n",
       "      <td>14.652903</td>\n",
       "      <td>7.75</td>\n",
       "      <td>0.840</td>\n",
       "      <td>8.05</td>\n",
       "      <td>11.649395</td>\n",
       "      <td>8.515</td>\n",
       "      <td>0</td>\n",
       "      <td>1</td>\n",
       "    </tr>\n",
       "    <tr>\n",
       "      <th>236</th>\n",
       "      <td>CVBI11</td>\n",
       "      <td>Títulos e Val. Mob.</td>\n",
       "      <td>90.05</td>\n",
       "      <td>17.41</td>\n",
       "      <td>0.94</td>\n",
       "      <td>12.5</td>\n",
       "      <td>7.961981</td>\n",
       "      <td>11.31</td>\n",
       "      <td>0.935</td>\n",
       "      <td>12.10</td>\n",
       "      <td>8.125014</td>\n",
       "      <td>9.430</td>\n",
       "      <td>1</td>\n",
       "      <td>1</td>\n",
       "    </tr>\n",
       "    <tr>\n",
       "      <th>275</th>\n",
       "      <td>MCCI11</td>\n",
       "      <td>Títulos e Val. Mob.</td>\n",
       "      <td>91.07</td>\n",
       "      <td>16.28</td>\n",
       "      <td>0.97</td>\n",
       "      <td>12.9</td>\n",
       "      <td>7.850862</td>\n",
       "      <td>11.60</td>\n",
       "      <td>0.935</td>\n",
       "      <td>12.10</td>\n",
       "      <td>8.125014</td>\n",
       "      <td>9.430</td>\n",
       "      <td>1</td>\n",
       "      <td>1</td>\n",
       "    </tr>\n",
       "    <tr>\n",
       "      <th>327</th>\n",
       "      <td>VRTA11</td>\n",
       "      <td>Títulos e Val. Mob.</td>\n",
       "      <td>88.00</td>\n",
       "      <td>10.18</td>\n",
       "      <td>0.95</td>\n",
       "      <td>11.0</td>\n",
       "      <td>8.527132</td>\n",
       "      <td>10.32</td>\n",
       "      <td>0.935</td>\n",
       "      <td>12.10</td>\n",
       "      <td>8.125014</td>\n",
       "      <td>9.430</td>\n",
       "      <td>1</td>\n",
       "      <td>0</td>\n",
       "    </tr>\n",
       "  </tbody>\n",
       "</table>\n",
       "</div>"
      ],
      "text/plain": [
       "        FII             SEGMENTO  COTACAO  OSCILACOES_%_2023  P_POR_VP  \\\n",
       "13   BTLG11              Híbrido    99.89               8.19      1.02   \n",
       "42   KNRI11              Híbrido   161.01              23.62      1.01   \n",
       "203  MALL11            Shoppings   114.98              20.48      0.96   \n",
       "210  XPML11            Shoppings   113.56              29.26      1.01   \n",
       "236  CVBI11  Títulos e Val. Mob.    90.05              17.41      0.94   \n",
       "275  MCCI11  Títulos e Val. Mob.    91.07              16.28      0.97   \n",
       "327  VRTA11  Títulos e Val. Mob.    88.00              10.18      0.95   \n",
       "\n",
       "     DIV_YIELD  RAZAO_COTACAO_DIVIDENDO  DIVIDENDO_POR_COTA  AGG_P_POR_VP  \\\n",
       "13         8.5                13.835180                7.22         0.930   \n",
       "42         7.2                13.384040               12.03         0.930   \n",
       "203        8.0                12.128692                9.48         0.840   \n",
       "210        8.1                14.652903                7.75         0.840   \n",
       "236       12.5                 7.961981               11.31         0.935   \n",
       "275       12.9                 7.850862               11.60         0.935   \n",
       "327       11.0                 8.527132               10.32         0.935   \n",
       "\n",
       "     AGG_DIV_YIELD  AGG_RAZAO_COTACAO_DIVIDENDO  AGG_DIVIDENDO_POR_COTA  \\\n",
       "13            9.30                    10.155556                   6.840   \n",
       "42            9.30                    10.155556                   6.840   \n",
       "203           8.05                    11.649395                   8.515   \n",
       "210           8.05                    11.649395                   8.515   \n",
       "236          12.10                     8.125014                   9.430   \n",
       "275          12.10                     8.125014                   9.430   \n",
       "327          12.10                     8.125014                   9.430   \n",
       "\n",
       "     FLAG_DY_ACIMA_10  FLAG_DY_ACIMA_DY_SETOR  \n",
       "13                  0                       0  \n",
       "42                  0                       0  \n",
       "203                 0                       0  \n",
       "210                 0                       1  \n",
       "236                 1                       1  \n",
       "275                 1                       1  \n",
       "327                 1                       0  "
      ]
     },
     "execution_count": 17,
     "metadata": {},
     "output_type": "execute_result"
    }
   ],
   "source": [
    "# Visualizar\n",
    "df_aval.loc[df_aval['CARTEIRA'] == 1, cols]"
   ]
  },
  {
   "cell_type": "code",
   "execution_count": 18,
   "id": "1b5bc738",
   "metadata": {},
   "outputs": [
    {
     "data": {
      "text/html": [
       "<div>\n",
       "<style scoped>\n",
       "    .dataframe tbody tr th:only-of-type {\n",
       "        vertical-align: middle;\n",
       "    }\n",
       "\n",
       "    .dataframe tbody tr th {\n",
       "        vertical-align: top;\n",
       "    }\n",
       "\n",
       "    .dataframe thead th {\n",
       "        text-align: right;\n",
       "    }\n",
       "</style>\n",
       "<table border=\"1\" class=\"dataframe\">\n",
       "  <thead>\n",
       "    <tr style=\"text-align: right;\">\n",
       "      <th></th>\n",
       "      <th>FII</th>\n",
       "      <th>SEGMENTO</th>\n",
       "      <th>COTACAO</th>\n",
       "      <th>OSCILACOES_%_2023</th>\n",
       "      <th>P_POR_VP</th>\n",
       "      <th>DIV_YIELD</th>\n",
       "      <th>RAZAO_COTACAO_DIVIDENDO</th>\n",
       "      <th>DIVIDENDO_POR_COTA</th>\n",
       "      <th>AGG_P_POR_VP</th>\n",
       "      <th>AGG_DIV_YIELD</th>\n",
       "      <th>AGG_RAZAO_COTACAO_DIVIDENDO</th>\n",
       "      <th>AGG_DIVIDENDO_POR_COTA</th>\n",
       "      <th>FLAG_DY_ACIMA_10</th>\n",
       "      <th>FLAG_DY_ACIMA_DY_SETOR</th>\n",
       "    </tr>\n",
       "  </thead>\n",
       "  <tbody>\n",
       "    <tr>\n",
       "      <th>193</th>\n",
       "      <td>ABCP11</td>\n",
       "      <td>Shoppings</td>\n",
       "      <td>69.19</td>\n",
       "      <td>4.95</td>\n",
       "      <td>0.75</td>\n",
       "      <td>8.0</td>\n",
       "      <td>10.250370</td>\n",
       "      <td>6.75</td>\n",
       "      <td>0.84</td>\n",
       "      <td>8.05</td>\n",
       "      <td>11.649395</td>\n",
       "      <td>8.515</td>\n",
       "      <td>0</td>\n",
       "      <td>0</td>\n",
       "    </tr>\n",
       "    <tr>\n",
       "      <th>194</th>\n",
       "      <td>ANCR11B</td>\n",
       "      <td>Shoppings</td>\n",
       "      <td>3465.99</td>\n",
       "      <td>3.53</td>\n",
       "      <td>0.95</td>\n",
       "      <td>1.8</td>\n",
       "      <td>57.862938</td>\n",
       "      <td>59.90</td>\n",
       "      <td>0.84</td>\n",
       "      <td>8.05</td>\n",
       "      <td>11.649395</td>\n",
       "      <td>8.515</td>\n",
       "      <td>0</td>\n",
       "      <td>0</td>\n",
       "    </tr>\n",
       "    <tr>\n",
       "      <th>195</th>\n",
       "      <td>ATSA11</td>\n",
       "      <td>Shoppings</td>\n",
       "      <td>56.37</td>\n",
       "      <td>-28.39</td>\n",
       "      <td>0.69</td>\n",
       "      <td>0.4</td>\n",
       "      <td>281.850000</td>\n",
       "      <td>0.20</td>\n",
       "      <td>0.84</td>\n",
       "      <td>8.05</td>\n",
       "      <td>11.649395</td>\n",
       "      <td>8.515</td>\n",
       "      <td>0</td>\n",
       "      <td>0</td>\n",
       "    </tr>\n",
       "    <tr>\n",
       "      <th>196</th>\n",
       "      <td>FIGS11</td>\n",
       "      <td>Shoppings</td>\n",
       "      <td>60.30</td>\n",
       "      <td>30.89</td>\n",
       "      <td>0.79</td>\n",
       "      <td>8.4</td>\n",
       "      <td>11.334586</td>\n",
       "      <td>5.32</td>\n",
       "      <td>0.84</td>\n",
       "      <td>8.05</td>\n",
       "      <td>11.649395</td>\n",
       "      <td>8.515</td>\n",
       "      <td>0</td>\n",
       "      <td>1</td>\n",
       "    </tr>\n",
       "    <tr>\n",
       "      <th>197</th>\n",
       "      <td>FLRP11</td>\n",
       "      <td>Shoppings</td>\n",
       "      <td>1949.99</td>\n",
       "      <td>34.15</td>\n",
       "      <td>1.07</td>\n",
       "      <td>8.2</td>\n",
       "      <td>11.645208</td>\n",
       "      <td>167.45</td>\n",
       "      <td>0.84</td>\n",
       "      <td>8.05</td>\n",
       "      <td>11.649395</td>\n",
       "      <td>8.515</td>\n",
       "      <td>0</td>\n",
       "      <td>1</td>\n",
       "    </tr>\n",
       "    <tr>\n",
       "      <th>198</th>\n",
       "      <td>FVPQ11</td>\n",
       "      <td>Shoppings</td>\n",
       "      <td>113.18</td>\n",
       "      <td>14.77</td>\n",
       "      <td>0.59</td>\n",
       "      <td>10.3</td>\n",
       "      <td>9.807626</td>\n",
       "      <td>11.54</td>\n",
       "      <td>0.84</td>\n",
       "      <td>8.05</td>\n",
       "      <td>11.649395</td>\n",
       "      <td>8.515</td>\n",
       "      <td>1</td>\n",
       "      <td>1</td>\n",
       "    </tr>\n",
       "    <tr>\n",
       "      <th>199</th>\n",
       "      <td>GSFI11</td>\n",
       "      <td>Shoppings</td>\n",
       "      <td>8.20</td>\n",
       "      <td>64.00</td>\n",
       "      <td>0.57</td>\n",
       "      <td>0.0</td>\n",
       "      <td>0.000000</td>\n",
       "      <td>0.00</td>\n",
       "      <td>0.84</td>\n",
       "      <td>8.05</td>\n",
       "      <td>11.649395</td>\n",
       "      <td>8.515</td>\n",
       "      <td>0</td>\n",
       "      <td>0</td>\n",
       "    </tr>\n",
       "    <tr>\n",
       "      <th>200</th>\n",
       "      <td>HGBS11</td>\n",
       "      <td>Shoppings</td>\n",
       "      <td>224.99</td>\n",
       "      <td>28.86</td>\n",
       "      <td>1.00</td>\n",
       "      <td>8.0</td>\n",
       "      <td>11.904233</td>\n",
       "      <td>18.90</td>\n",
       "      <td>0.84</td>\n",
       "      <td>8.05</td>\n",
       "      <td>11.649395</td>\n",
       "      <td>8.515</td>\n",
       "      <td>0</td>\n",
       "      <td>0</td>\n",
       "    </tr>\n",
       "    <tr>\n",
       "      <th>201</th>\n",
       "      <td>HPDP11</td>\n",
       "      <td>Shoppings</td>\n",
       "      <td>85.00</td>\n",
       "      <td>22.19</td>\n",
       "      <td>0.95</td>\n",
       "      <td>7.0</td>\n",
       "      <td>13.776337</td>\n",
       "      <td>6.17</td>\n",
       "      <td>0.84</td>\n",
       "      <td>8.05</td>\n",
       "      <td>11.649395</td>\n",
       "      <td>8.515</td>\n",
       "      <td>0</td>\n",
       "      <td>0</td>\n",
       "    </tr>\n",
       "    <tr>\n",
       "      <th>202</th>\n",
       "      <td>HSML11</td>\n",
       "      <td>Shoppings</td>\n",
       "      <td>91.85</td>\n",
       "      <td>23.18</td>\n",
       "      <td>0.97</td>\n",
       "      <td>9.0</td>\n",
       "      <td>10.509153</td>\n",
       "      <td>8.74</td>\n",
       "      <td>0.84</td>\n",
       "      <td>8.05</td>\n",
       "      <td>11.649395</td>\n",
       "      <td>8.515</td>\n",
       "      <td>0</td>\n",
       "      <td>1</td>\n",
       "    </tr>\n",
       "    <tr>\n",
       "      <th>203</th>\n",
       "      <td>MALL11</td>\n",
       "      <td>Shoppings</td>\n",
       "      <td>114.98</td>\n",
       "      <td>20.48</td>\n",
       "      <td>0.96</td>\n",
       "      <td>8.0</td>\n",
       "      <td>12.128692</td>\n",
       "      <td>9.48</td>\n",
       "      <td>0.84</td>\n",
       "      <td>8.05</td>\n",
       "      <td>11.649395</td>\n",
       "      <td>8.515</td>\n",
       "      <td>0</td>\n",
       "      <td>0</td>\n",
       "    </tr>\n",
       "    <tr>\n",
       "      <th>204</th>\n",
       "      <td>PQDP11</td>\n",
       "      <td>Shoppings</td>\n",
       "      <td>1939.16</td>\n",
       "      <td>-0.43</td>\n",
       "      <td>0.62</td>\n",
       "      <td>10.1</td>\n",
       "      <td>9.344449</td>\n",
       "      <td>207.52</td>\n",
       "      <td>0.84</td>\n",
       "      <td>8.05</td>\n",
       "      <td>11.649395</td>\n",
       "      <td>8.515</td>\n",
       "      <td>1</td>\n",
       "      <td>1</td>\n",
       "    </tr>\n",
       "    <tr>\n",
       "      <th>205</th>\n",
       "      <td>SCPF11</td>\n",
       "      <td>Shoppings</td>\n",
       "      <td>4.96</td>\n",
       "      <td>4.17</td>\n",
       "      <td>0.42</td>\n",
       "      <td>5.7</td>\n",
       "      <td>17.103448</td>\n",
       "      <td>0.29</td>\n",
       "      <td>0.84</td>\n",
       "      <td>8.05</td>\n",
       "      <td>11.649395</td>\n",
       "      <td>8.515</td>\n",
       "      <td>0</td>\n",
       "      <td>0</td>\n",
       "    </tr>\n",
       "    <tr>\n",
       "      <th>206</th>\n",
       "      <td>SHPH11</td>\n",
       "      <td>Shoppings</td>\n",
       "      <td>796.98</td>\n",
       "      <td>15.20</td>\n",
       "      <td>0.89</td>\n",
       "      <td>6.3</td>\n",
       "      <td>16.631469</td>\n",
       "      <td>47.92</td>\n",
       "      <td>0.84</td>\n",
       "      <td>8.05</td>\n",
       "      <td>11.649395</td>\n",
       "      <td>8.515</td>\n",
       "      <td>0</td>\n",
       "      <td>0</td>\n",
       "    </tr>\n",
       "    <tr>\n",
       "      <th>207</th>\n",
       "      <td>VISC11</td>\n",
       "      <td>Shoppings</td>\n",
       "      <td>118.75</td>\n",
       "      <td>21.72</td>\n",
       "      <td>1.03</td>\n",
       "      <td>8.2</td>\n",
       "      <td>11.653582</td>\n",
       "      <td>10.19</td>\n",
       "      <td>0.84</td>\n",
       "      <td>8.05</td>\n",
       "      <td>11.649395</td>\n",
       "      <td>8.515</td>\n",
       "      <td>0</td>\n",
       "      <td>1</td>\n",
       "    </tr>\n",
       "    <tr>\n",
       "      <th>208</th>\n",
       "      <td>VSHO11</td>\n",
       "      <td>Shoppings</td>\n",
       "      <td>79.18</td>\n",
       "      <td>28.99</td>\n",
       "      <td>0.79</td>\n",
       "      <td>9.9</td>\n",
       "      <td>9.551267</td>\n",
       "      <td>8.29</td>\n",
       "      <td>0.84</td>\n",
       "      <td>8.05</td>\n",
       "      <td>11.649395</td>\n",
       "      <td>8.515</td>\n",
       "      <td>0</td>\n",
       "      <td>1</td>\n",
       "    </tr>\n",
       "    <tr>\n",
       "      <th>209</th>\n",
       "      <td>WPLZ11</td>\n",
       "      <td>Shoppings</td>\n",
       "      <td>64.00</td>\n",
       "      <td>-13.16</td>\n",
       "      <td>0.73</td>\n",
       "      <td>8.2</td>\n",
       "      <td>11.490126</td>\n",
       "      <td>5.57</td>\n",
       "      <td>0.84</td>\n",
       "      <td>8.05</td>\n",
       "      <td>11.649395</td>\n",
       "      <td>8.515</td>\n",
       "      <td>0</td>\n",
       "      <td>1</td>\n",
       "    </tr>\n",
       "    <tr>\n",
       "      <th>210</th>\n",
       "      <td>XPML11</td>\n",
       "      <td>Shoppings</td>\n",
       "      <td>113.56</td>\n",
       "      <td>29.26</td>\n",
       "      <td>1.01</td>\n",
       "      <td>8.1</td>\n",
       "      <td>14.652903</td>\n",
       "      <td>7.75</td>\n",
       "      <td>0.84</td>\n",
       "      <td>8.05</td>\n",
       "      <td>11.649395</td>\n",
       "      <td>8.515</td>\n",
       "      <td>0</td>\n",
       "      <td>1</td>\n",
       "    </tr>\n",
       "  </tbody>\n",
       "</table>\n",
       "</div>"
      ],
      "text/plain": [
       "         FII   SEGMENTO  COTACAO  OSCILACOES_%_2023  P_POR_VP  DIV_YIELD  \\\n",
       "193   ABCP11  Shoppings    69.19               4.95      0.75        8.0   \n",
       "194  ANCR11B  Shoppings  3465.99               3.53      0.95        1.8   \n",
       "195   ATSA11  Shoppings    56.37             -28.39      0.69        0.4   \n",
       "196   FIGS11  Shoppings    60.30              30.89      0.79        8.4   \n",
       "197   FLRP11  Shoppings  1949.99              34.15      1.07        8.2   \n",
       "198   FVPQ11  Shoppings   113.18              14.77      0.59       10.3   \n",
       "199   GSFI11  Shoppings     8.20              64.00      0.57        0.0   \n",
       "200   HGBS11  Shoppings   224.99              28.86      1.00        8.0   \n",
       "201   HPDP11  Shoppings    85.00              22.19      0.95        7.0   \n",
       "202   HSML11  Shoppings    91.85              23.18      0.97        9.0   \n",
       "203   MALL11  Shoppings   114.98              20.48      0.96        8.0   \n",
       "204   PQDP11  Shoppings  1939.16              -0.43      0.62       10.1   \n",
       "205   SCPF11  Shoppings     4.96               4.17      0.42        5.7   \n",
       "206   SHPH11  Shoppings   796.98              15.20      0.89        6.3   \n",
       "207   VISC11  Shoppings   118.75              21.72      1.03        8.2   \n",
       "208   VSHO11  Shoppings    79.18              28.99      0.79        9.9   \n",
       "209   WPLZ11  Shoppings    64.00             -13.16      0.73        8.2   \n",
       "210   XPML11  Shoppings   113.56              29.26      1.01        8.1   \n",
       "\n",
       "     RAZAO_COTACAO_DIVIDENDO  DIVIDENDO_POR_COTA  AGG_P_POR_VP  AGG_DIV_YIELD  \\\n",
       "193                10.250370                6.75          0.84           8.05   \n",
       "194                57.862938               59.90          0.84           8.05   \n",
       "195               281.850000                0.20          0.84           8.05   \n",
       "196                11.334586                5.32          0.84           8.05   \n",
       "197                11.645208              167.45          0.84           8.05   \n",
       "198                 9.807626               11.54          0.84           8.05   \n",
       "199                 0.000000                0.00          0.84           8.05   \n",
       "200                11.904233               18.90          0.84           8.05   \n",
       "201                13.776337                6.17          0.84           8.05   \n",
       "202                10.509153                8.74          0.84           8.05   \n",
       "203                12.128692                9.48          0.84           8.05   \n",
       "204                 9.344449              207.52          0.84           8.05   \n",
       "205                17.103448                0.29          0.84           8.05   \n",
       "206                16.631469               47.92          0.84           8.05   \n",
       "207                11.653582               10.19          0.84           8.05   \n",
       "208                 9.551267                8.29          0.84           8.05   \n",
       "209                11.490126                5.57          0.84           8.05   \n",
       "210                14.652903                7.75          0.84           8.05   \n",
       "\n",
       "     AGG_RAZAO_COTACAO_DIVIDENDO  AGG_DIVIDENDO_POR_COTA  FLAG_DY_ACIMA_10  \\\n",
       "193                    11.649395                   8.515                 0   \n",
       "194                    11.649395                   8.515                 0   \n",
       "195                    11.649395                   8.515                 0   \n",
       "196                    11.649395                   8.515                 0   \n",
       "197                    11.649395                   8.515                 0   \n",
       "198                    11.649395                   8.515                 1   \n",
       "199                    11.649395                   8.515                 0   \n",
       "200                    11.649395                   8.515                 0   \n",
       "201                    11.649395                   8.515                 0   \n",
       "202                    11.649395                   8.515                 0   \n",
       "203                    11.649395                   8.515                 0   \n",
       "204                    11.649395                   8.515                 1   \n",
       "205                    11.649395                   8.515                 0   \n",
       "206                    11.649395                   8.515                 0   \n",
       "207                    11.649395                   8.515                 0   \n",
       "208                    11.649395                   8.515                 0   \n",
       "209                    11.649395                   8.515                 0   \n",
       "210                    11.649395                   8.515                 0   \n",
       "\n",
       "     FLAG_DY_ACIMA_DY_SETOR  \n",
       "193                       0  \n",
       "194                       0  \n",
       "195                       0  \n",
       "196                       1  \n",
       "197                       1  \n",
       "198                       1  \n",
       "199                       0  \n",
       "200                       0  \n",
       "201                       0  \n",
       "202                       1  \n",
       "203                       0  \n",
       "204                       1  \n",
       "205                       0  \n",
       "206                       0  \n",
       "207                       1  \n",
       "208                       1  \n",
       "209                       1  \n",
       "210                       1  "
      ]
     },
     "execution_count": 18,
     "metadata": {},
     "output_type": "execute_result"
    }
   ],
   "source": [
    "# Visualizar um segmento específico\n",
    "df_aval.loc[df_aval['SEGMENTO'] == 'Shoppings', cols]"
   ]
  },
  {
   "cell_type": "markdown",
   "id": "7c7c41b7",
   "metadata": {},
   "source": [
    "# Análise Profunda - Estatística"
   ]
  },
  {
   "cell_type": "code",
   "execution_count": 29,
   "id": "5ad93c5f",
   "metadata": {},
   "outputs": [],
   "source": [
    "# Bibliotecas\n",
    "from sklearn.cluster import KMeans\n",
    "from sklearn.decomposition import PCA\n",
    "from sklearn.preprocessing import StandardScaler"
   ]
  },
  {
   "cell_type": "code",
   "execution_count": 20,
   "id": "c870ee42",
   "metadata": {},
   "outputs": [],
   "source": [
    "# Definir colunas informativas e indicadores\n",
    "cols_info = ['FII', 'NOME', 'SEGMENTO','FLAG_DY_ACIMA_10','FLAG_DY_ACIMA_DY_SETOR', 'FLAG_DY_ACIMA_10_E_SETOR', 'CARTEIRA']\n",
    "cols_indicadores = ['QTD_IMOVEIS','COTACAO','OSCILACOES_%_2023','FFO_12_MESES','FFO_POR_COTA','FFO_YIELD',\n",
    "                    'DIV_YIELD','P_POR_VP','VP_POR_COTA','DIVIDENDO_POR_COTA','RAZAO_COTACAO_DIVIDENDO',\n",
    "                    'RECEITA_12_MESES','REND_DISTRIBUIDO_12_MESES','VENDA_DE_ATIVOS_12_MESES']"
   ]
  },
  {
   "cell_type": "code",
   "execution_count": 21,
   "id": "f02ce82d",
   "metadata": {},
   "outputs": [],
   "source": [
    "# Tratar dados\n",
    "df_analise = df_aval[cols_info + cols_indicadores].copy()"
   ]
  },
  {
   "cell_type": "code",
   "execution_count": 22,
   "id": "c82f8094",
   "metadata": {},
   "outputs": [
    {
     "name": "stdout",
     "output_type": "stream",
     "text": [
      "<class 'pandas.core.frame.DataFrame'>\n",
      "Int64Index: 219 entries, 0 to 332\n",
      "Data columns (total 14 columns):\n",
      " #   Column                     Non-Null Count  Dtype  \n",
      "---  ------                     --------------  -----  \n",
      " 0   QTD_IMOVEIS                219 non-null    int64  \n",
      " 1   COTACAO                    219 non-null    float64\n",
      " 2   OSCILACOES_%_2023          219 non-null    float64\n",
      " 3   FFO_12_MESES               219 non-null    int64  \n",
      " 4   FFO_POR_COTA               219 non-null    float64\n",
      " 5   FFO_YIELD                  219 non-null    float64\n",
      " 6   DIV_YIELD                  219 non-null    float64\n",
      " 7   P_POR_VP                   219 non-null    float64\n",
      " 8   VP_POR_COTA                219 non-null    float64\n",
      " 9   DIVIDENDO_POR_COTA         219 non-null    float64\n",
      " 10  RAZAO_COTACAO_DIVIDENDO    219 non-null    float64\n",
      " 11  RECEITA_12_MESES           219 non-null    int64  \n",
      " 12  REND_DISTRIBUIDO_12_MESES  219 non-null    int64  \n",
      " 13  VENDA_DE_ATIVOS_12_MESES   219 non-null    int64  \n",
      "dtypes: float64(9), int64(5)\n",
      "memory usage: 25.7 KB\n"
     ]
    }
   ],
   "source": [
    "# Checar se temos nulos\n",
    "df_analise[cols_indicadores].info()"
   ]
  },
  {
   "cell_type": "code",
   "execution_count": 65,
   "id": "61d1564e",
   "metadata": {},
   "outputs": [],
   "source": [
    "# Criar PCA\n",
    "nc = len(cols_indicadores)\n",
    "pca = PCA(n_components=nc)\n",
    "df_pca = df_analise[cols_indicadores].copy()\n",
    "df_pca = StandardScaler().fit_transform(df_analise[cols_indicadores])\n",
    "df_pca = pd.DataFrame(pca.fit_transform(df_pca), columns=[f'PC_{i}' for i in range(1, nc+1)])\n",
    "df_pca = pd.concat([df_analise[cols_info + ['DIV_YIELD', 'P_POR_VP', 'OSCILACOES_%_2023']].reset_index(drop=True), df_pca], axis=1)"
   ]
  },
  {
   "cell_type": "code",
   "execution_count": 66,
   "id": "b68f718d",
   "metadata": {},
   "outputs": [
    {
     "name": "stdout",
     "output_type": "stream",
     "text": [
      "[0.25202993 0.22050789 0.12746024 0.10598624 0.08692784 0.06491781\n",
      " 0.05018409 0.03487181 0.02708425 0.01705212 0.00892922 0.00245753\n",
      " 0.00127495 0.00031607]\n"
     ]
    }
   ],
   "source": [
    "# Checar explicação por componente\n",
    "print(pca.explained_variance_ratio_)"
   ]
  },
  {
   "cell_type": "code",
   "execution_count": 67,
   "id": "cb8d0ca5",
   "metadata": {},
   "outputs": [
    {
     "data": {
      "application/vnd.plotly.v1+json": {
       "config": {
        "plotlyServerURL": "https://plot.ly"
       },
       "data": [
        {
         "customdata": [
          [
           true,
           1,
           1,
           "AGRX11"
          ],
          [
           true,
           1,
           1,
           "APTO11"
          ],
          [
           true,
           1,
           1,
           "BIME11"
          ],
          [
           true,
           1,
           1,
           "BMLC11"
          ],
          [
           true,
           1,
           1,
           "BRIP11"
          ],
          [
           true,
           1,
           1,
           "DPRO11"
          ],
          [
           true,
           1,
           1,
           "DVFF11"
          ],
          [
           true,
           1,
           1,
           "FATN11"
          ],
          [
           true,
           1,
           1,
           "FGAA11"
          ],
          [
           true,
           1,
           1,
           "FTCE11"
          ],
          [
           true,
           1,
           1,
           "HOSI11"
          ],
          [
           true,
           1,
           1,
           "IDFI11"
          ],
          [
           true,
           1,
           1,
           "IDGR11"
          ],
          [
           true,
           1,
           1,
           "IRIM11"
          ],
          [
           true,
           1,
           1,
           "JGPX11"
          ],
          [
           true,
           1,
           1,
           "JPPA11"
          ],
          [
           true,
           1,
           1,
           "MAXR11"
          ],
          [
           true,
           1,
           1,
           "MFCR11"
          ],
          [
           true,
           1,
           1,
           "MFII11"
          ],
          [
           true,
           1,
           1,
           "MXRF11"
          ],
          [
           true,
           1,
           1,
           "NEWL11"
          ],
          [
           true,
           1,
           1,
           "OIAG11"
          ],
          [
           true,
           1,
           1,
           "OUJP11"
          ],
          [
           true,
           1,
           1,
           "OURE11"
          ],
          [
           true,
           1,
           1,
           "RECT11"
          ],
          [
           true,
           1,
           1,
           "RZTR11"
          ],
          [
           true,
           1,
           1,
           "SARE11"
          ],
          [
           true,
           1,
           1,
           "SEED11"
          ],
          [
           true,
           1,
           1,
           "SNAG11"
          ],
          [
           true,
           1,
           1,
           "SPXS11"
          ],
          [
           true,
           1,
           1,
           "TGAR11"
          ],
          [
           true,
           1,
           1,
           "TORD11"
          ],
          [
           true,
           1,
           1,
           "VGHF11"
          ],
          [
           true,
           1,
           1,
           "WHGR11"
          ],
          [
           true,
           1,
           1,
           "FVPQ11"
          ],
          [
           true,
           1,
           1,
           "PQDP11"
          ],
          [
           true,
           1,
           1,
           "AAZQ11"
          ],
          [
           true,
           1,
           1,
           "AFHI11"
          ],
          [
           true,
           1,
           1,
           "ARRI11"
          ],
          [
           true,
           1,
           1,
           "BBGO11"
          ],
          [
           true,
           1,
           1,
           "BCRI11"
          ],
          [
           true,
           1,
           1,
           "BICE11"
          ],
          [
           true,
           1,
           1,
           "BICR11"
          ],
          [
           true,
           1,
           1,
           "BLUR11"
          ],
          [
           true,
           1,
           1,
           "CPTR11"
          ],
          [
           true,
           1,
           1,
           "CPTS11"
          ],
          [
           true,
           1,
           1,
           "CVBI11"
          ],
          [
           true,
           1,
           1,
           "DCRA11"
          ],
          [
           true,
           1,
           1,
           "DEVA11"
          ],
          [
           true,
           1,
           1,
           "EGAF11"
          ],
          [
           true,
           1,
           1,
           "EQIR11"
          ],
          [
           true,
           1,
           1,
           "FLCR11"
          ],
          [
           true,
           1,
           1,
           "GCRA11"
          ],
          [
           true,
           1,
           1,
           "GCRI11"
          ],
          [
           true,
           1,
           1,
           "HABT11"
          ],
          [
           true,
           1,
           1,
           "HCTR11"
          ],
          [
           true,
           1,
           1,
           "HGCR11"
          ],
          [
           true,
           1,
           1,
           "IAGR11"
          ],
          [
           true,
           1,
           1,
           "IBCR11"
          ],
          [
           true,
           1,
           1,
           "IRDM11"
          ],
          [
           true,
           1,
           1,
           "KIVO11"
          ],
          [
           true,
           1,
           1,
           "KNCA11"
          ],
          [
           true,
           1,
           1,
           "KNCR11"
          ],
          [
           true,
           1,
           1,
           "LSAG11"
          ],
          [
           true,
           1,
           1,
           "MANA11"
          ],
          [
           true,
           1,
           1,
           "MCCI11"
          ],
          [
           true,
           1,
           1,
           "MCHF11"
          ],
          [
           true,
           1,
           1,
           "MORC11"
          ],
          [
           true,
           1,
           1,
           "NCHB11"
          ],
          [
           true,
           1,
           1,
           "NCRA11"
          ],
          [
           true,
           1,
           1,
           "PEMA11"
          ],
          [
           true,
           1,
           1,
           "PLCA11"
          ],
          [
           true,
           1,
           1,
           "PLCR11"
          ],
          [
           true,
           1,
           1,
           "PLRI11"
          ],
          [
           true,
           1,
           1,
           "PORD11"
          ],
          [
           true,
           1,
           1,
           "RBHG11"
          ],
          [
           true,
           1,
           1,
           "RBHY11"
          ],
          [
           true,
           1,
           1,
           "RBRX11"
          ],
          [
           true,
           1,
           1,
           "RBRY11"
          ],
          [
           true,
           1,
           1,
           "RECR11"
          ],
          [
           true,
           1,
           1,
           "REIT11"
          ],
          [
           true,
           1,
           1,
           "RNDP11"
          ],
          [
           true,
           1,
           1,
           "RPRI11"
          ],
          [
           true,
           1,
           1,
           "RRCI11"
          ],
          [
           true,
           1,
           1,
           "RURA11"
          ],
          [
           true,
           1,
           1,
           "RZAG11"
          ],
          [
           true,
           1,
           1,
           "RZAK11"
          ],
          [
           true,
           1,
           1,
           "SADI11"
          ],
          [
           true,
           1,
           1,
           "SIGR11"
          ],
          [
           true,
           1,
           1,
           "SNCI11"
          ],
          [
           true,
           1,
           1,
           "VCRA11"
          ],
          [
           true,
           1,
           1,
           "VCRI11"
          ],
          [
           true,
           1,
           1,
           "VGIA11"
          ],
          [
           true,
           1,
           1,
           "VGIR11"
          ],
          [
           true,
           1,
           1,
           "VOTS11"
          ],
          [
           true,
           1,
           1,
           "WSEC11"
          ],
          [
           true,
           1,
           1,
           "XPCA11"
          ],
          [
           true,
           1,
           1,
           "XPCI11"
          ]
         ],
         "hovertemplate": "FLAG_DY_ACIMA_10_E_SETOR=%{customdata[0]}<br>PC_1=%{x}<br>PC_2=%{y}<br>DIV_YIELD=%{marker.size}<br>FLAG_DY_ACIMA_10=%{customdata[1]}<br>FLAG_DY_ACIMA_DY_SETOR=%{customdata[2]}<br>FII=%{customdata[3]}<extra></extra>",
         "legendgroup": "True",
         "marker": {
          "color": "#636efa",
          "size": [
           15.9,
           11.8,
           12.7,
           11.7,
           23.2,
           13.2,
           11.1,
           11.2,
           16.3,
           10.8,
           10.1,
           86.9,
           183.8,
           13.7,
           14.3,
           15.7,
           11.1,
           12.9,
           13.4,
           11.5,
           10.4,
           17.1,
           13.8,
           13.9,
           13.3,
           10.3,
           13.6,
           11.1,
           13.8,
           12.7,
           13.7,
           11.2,
           12.7,
           11.4,
           10.3,
           10.1,
           13.8,
           12.1,
           13.7,
           12.7,
           13.6,
           12.1,
           43.1,
           12.7,
           17.1,
           12.1,
           12.5,
           15.4,
           20.3,
           16.5,
           12.1,
           13.5,
           16.8,
           14.4,
           15.7,
           21.7,
           12.6,
           15.9,
           13.8,
           13.1,
           16.2,
           13.1,
           12.5,
           15.8,
           13.1,
           12.9,
           13.4,
           14,
           15.1,
           15.3,
           15.9,
           14.5,
           12.6,
           21.1,
           12.6,
           12.9,
           14,
           14.3,
           13.9,
           12.4,
           57.1,
           29.6,
           12.5,
           14.3,
           12.6,
           14.6,
           15.7,
           13.3,
           13.3,
           13.4,
           14.9,
           14.3,
           17.3,
           15.1,
           13.2,
           15.4,
           14.8,
           12.5
          ],
          "sizemode": "area",
          "sizeref": 0.4595,
          "symbol": "circle"
         },
         "mode": "markers",
         "name": "True",
         "orientation": "v",
         "showlegend": true,
         "type": "scatter",
         "x": [
          -0.7071659850205145,
          -0.6828828370618911,
          -0.7394204859980857,
          -0.19135385720192577,
          5.027067539914428,
          -0.5068518298626004,
          -0.469211211477977,
          0.14305146210556388,
          -0.58701109947392,
          10.63641299430493,
          -0.5529812094809724,
          -1.0626278626321586,
          -1.6743364931595022,
          -0.40496078166875754,
          -0.4681453666176583,
          -0.3341269533604176,
          -0.4225506463817169,
          -0.34425173985554447,
          -0.07646085543606808,
          0.47367047496629194,
          -0.17310002113415096,
          -0.7430743636282288,
          -0.23858697167779921,
          -0.3033440972080816,
          -0.44372987535251973,
          0.5854103586684467,
          -0.490068368887279,
          -0.2891044960229052,
          -0.5835678687877539,
          -1.1405809639479683,
          0.24287096730883512,
          -0.9966573262731144,
          -0.4212631251632401,
          -0.674367473884726,
          -0.3228416251117051,
          7.5326290756120775,
          -0.6857154908842047,
          -0.2718399650443182,
          -0.7138762003821418,
          -0.24488099015004905,
          -0.3947347127283149,
          2.7944178725491717,
          -0.618140185488119,
          -0.3724898144270311,
          -0.5618516440404707,
          1.1333951672340172,
          -0.1225550824132305,
          -0.7658794368390169,
          -0.42829350200944705,
          -0.32630783663967383,
          -0.7068507262187457,
          -0.35247010206065926,
          -0.3845788331091613,
          -0.37831055537289526,
          -0.12816925091014114,
          -0.40845001598598796,
          0.35997871813614085,
          -0.8589340366449074,
          -0.4627192403786251,
          0.6812842938807524,
          -0.3160724563549599,
          0.21572845663156592,
          1.6810146924873601,
          -0.24569698933043183,
          -0.674393697774271,
          0.21458262455117266,
          -0.6771216981019736,
          -0.39454055109172015,
          -0.3793463638693898,
          -0.7175332539662986,
          -0.7102193564261423,
          -0.40783308741869473,
          -0.31285443485218545,
          -0.8292802009951782,
          -0.3378071117118569,
          -0.29527630595421056,
          -0.255706702003212,
          -0.2669431880041543,
          -0.10072456882762913,
          0.3062137693064356,
          -0.28512355436196557,
          -0.46267934492433754,
          -0.23517656271699203,
          -0.4453071028451263,
          -0.3558937347937071,
          -0.5302028078815665,
          -0.10985241016370269,
          -0.2161379693018913,
          -0.34958802232840086,
          -0.199158469852263,
          -0.2612661122519124,
          -0.7197845662641176,
          -0.4367355207576653,
          -0.35554182847967347,
          -0.4282620650580139,
          -0.4499037384778139,
          -0.6237035767791732,
          -0.19420099845113775
         ],
         "xaxis": "x",
         "y": [
          -0.5469232683884958,
          -0.6265769498705637,
          -0.6888722792763776,
          -0.5767636794445493,
          -1.4164864468772098,
          -0.9735507391181862,
          -0.7648466760623441,
          -0.08767015828498383,
          0.14597922476859082,
          3.4924945313839064,
          -0.8271506588172803,
          -0.6009518675840285,
          -0.5028057976618545,
          -0.5855227359883509,
          -0.7426725538603365,
          -0.703294695805436,
          -0.7116403574259373,
          -0.87111010779102,
          0.16688459736073435,
          4.490616801664127,
          -0.12497401961475438,
          -0.701761850191259,
          -0.09197847294023784,
          -0.5663940938150196,
          -0.023287025413617934,
          2.401278696605372,
          0.0829796096819871,
          -0.5204208249661699,
          -0.1988930672174662,
          -0.7738937955226557,
          1.7594082175866064,
          -1.4467236588056265,
          0.519662511706973,
          -0.3118864401961942,
          -0.4281184540292493,
          -1.8485087081179334,
          -0.44229936478034254,
          -0.22194677363399273,
          -0.6279390543948543,
          0.22170382699900038,
          0.042299730228278765,
          -1.382489859592783,
          -0.7297912537882659,
          -0.86297798833554,
          0.4701434155426506,
          5.0701308031003345,
          1.192976360447918,
          -0.6185867028835608,
          0.6911972114335257,
          -0.5306928047484546,
          -0.6718354647457029,
          -0.7206098044233932,
          -0.5778370940075367,
          -0.6512509485485308,
          0.7898880301750032,
          1.4901521590294726,
          2.8771827634646203,
          -0.817484819413706,
          -0.8093191998486887,
          5.850047006553081,
          -0.5718647264473934,
          2.472839484888618,
          12.113392543720257,
          -0.5762317824388336,
          -0.5465930300525863,
          2.368761643808164,
          -0.17296324645180086,
          -0.6195650131592583,
          -0.5769593720061751,
          -0.6608024743644408,
          -0.9561388321164216,
          -0.8192964839124653,
          -0.34033894177590435,
          -1.2334448467009023,
          -0.3097157903107934,
          -0.4643339911959274,
          -0.3703823805305024,
          -0.3971838748688968,
          0.4550917261349194,
          3.928863607726103,
          -1.17316125402251,
          -0.9883417628700425,
          -0.30563175096991174,
          -0.832765928419808,
          1.379469523528924,
          0.9114018064596732,
          0.7295196453686601,
          -0.2508535829863646,
          -0.8041568149609155,
          -0.0067641167562549525,
          -0.04528583568931162,
          -0.5320816718376601,
          1.3442895890308282,
          1.7259855490178704,
          -0.7219007281702541,
          -0.9287198938232102,
          -0.06736055416701034,
          0.6016955394834583
         ],
         "yaxis": "y"
        },
        {
         "customdata": [
          [
           false,
           0,
           0,
           "ALZR11"
          ],
          [
           false,
           0,
           0,
           "ASMT11"
          ],
          [
           false,
           0,
           0,
           "ASRF11"
          ],
          [
           false,
           0,
           0,
           "BIPD11"
          ],
          [
           false,
           0,
           0,
           "BPML11"
          ],
          [
           false,
           0,
           1,
           "BRCR11"
          ],
          [
           false,
           0,
           0,
           "BREV11"
          ],
          [
           false,
           0,
           0,
           "BROF11"
          ],
          [
           false,
           0,
           0,
           "BTLG11"
          ],
          [
           false,
           0,
           0,
           "BTSI11"
          ],
          [
           false,
           0,
           0,
           "CARE11"
          ],
          [
           false,
           0,
           0,
           "DAMT11B"
          ],
          [
           false,
           0,
           0,
           "EVBI11"
          ],
          [
           false,
           0,
           0,
           "FIIB11"
          ],
          [
           false,
           0,
           1,
           "FIIP11B"
          ],
          [
           false,
           0,
           0,
           "FLMA11"
          ],
          [
           false,
           0,
           0,
           "GALG11"
          ],
          [
           false,
           0,
           0,
           "GCOI11"
          ],
          [
           false,
           0,
           0,
           "GURB11"
          ],
          [
           false,
           0,
           0,
           "HBRH11"
          ],
          [
           false,
           0,
           0,
           "HGRU11"
          ],
          [
           false,
           0,
           0,
           "HRDF11"
          ],
          [
           false,
           0,
           0,
           "HSRE11"
          ],
          [
           false,
           0,
           0,
           "JPPC11"
          ],
          [
           false,
           0,
           0,
           "JSRE11"
          ],
          [
           false,
           0,
           0,
           "KNHF11"
          ],
          [
           false,
           0,
           0,
           "KNRI11"
          ],
          [
           false,
           0,
           0,
           "LLAO11"
          ],
          [
           false,
           0,
           1,
           "MFAI11"
          ],
          [
           false,
           0,
           0,
           "NEWU11"
          ],
          [
           false,
           0,
           0,
           "PNRC11"
          ],
          [
           false,
           0,
           0,
           "RBRD11"
          ],
          [
           false,
           0,
           0,
           "RBRS11"
          ],
          [
           false,
           0,
           0,
           "RELG11"
          ],
          [
           false,
           0,
           0,
           "RMAI11"
          ],
          [
           false,
           0,
           1,
           "RZAT11"
          ],
          [
           false,
           0,
           0,
           "SHOP11"
          ],
          [
           false,
           0,
           0,
           "SNLG11"
          ],
          [
           false,
           0,
           0,
           "SPMO11"
          ],
          [
           false,
           0,
           0,
           "TRXB11"
          ],
          [
           false,
           0,
           1,
           "TRXF11"
          ],
          [
           false,
           0,
           0,
           "VVRI11"
          ],
          [
           false,
           0,
           0,
           "WTSP11"
          ],
          [
           false,
           0,
           1,
           "ZAVI11"
          ],
          [
           false,
           0,
           0,
           "ZIFI11"
          ],
          [
           false,
           0,
           0,
           "ABCP11"
          ],
          [
           false,
           0,
           0,
           "ANCR11B"
          ],
          [
           false,
           0,
           0,
           "ATSA11"
          ],
          [
           false,
           0,
           1,
           "FIGS11"
          ],
          [
           false,
           0,
           1,
           "FLRP11"
          ],
          [
           false,
           0,
           0,
           "GSFI11"
          ],
          [
           false,
           0,
           0,
           "HGBS11"
          ],
          [
           false,
           0,
           0,
           "HPDP11"
          ],
          [
           false,
           0,
           1,
           "HSML11"
          ],
          [
           false,
           0,
           0,
           "MALL11"
          ],
          [
           false,
           0,
           0,
           "SCPF11"
          ],
          [
           false,
           0,
           0,
           "SHPH11"
          ],
          [
           false,
           0,
           1,
           "VISC11"
          ],
          [
           false,
           0,
           1,
           "VSHO11"
          ],
          [
           false,
           0,
           1,
           "WPLZ11"
          ],
          [
           false,
           0,
           1,
           "XPML11"
          ],
          [
           false,
           1,
           0,
           "ALZM11"
          ],
          [
           false,
           0,
           0,
           "ARXD11"
          ],
          [
           false,
           1,
           0,
           "BARI11"
          ],
          [
           false,
           1,
           0,
           "BBFO11"
          ],
          [
           false,
           0,
           0,
           "BCFF11"
          ],
          [
           false,
           0,
           0,
           "BCIA11"
          ],
          [
           false,
           1,
           0,
           "BLMC11"
          ],
          [
           false,
           1,
           0,
           "BLMR11"
          ],
          [
           false,
           1,
           0,
           "BPFF11"
          ],
          [
           false,
           1,
           0,
           "BTCI11"
          ],
          [
           false,
           0,
           0,
           "CCRF11"
          ],
          [
           false,
           0,
           0,
           "CLIN11"
          ],
          [
           false,
           0,
           0,
           "CPFF11"
          ],
          [
           false,
           1,
           0,
           "CRAA11"
          ],
          [
           false,
           0,
           0,
           "CRFF11"
          ],
          [
           false,
           1,
           0,
           "CXCI11"
          ],
          [
           false,
           0,
           0,
           "CXRI11"
          ],
          [
           false,
           0,
           0,
           "EXES11"
          ],
          [
           false,
           0,
           0,
           "GRWA11"
          ],
          [
           false,
           0,
           0,
           "HFOF11"
          ],
          [
           false,
           0,
           0,
           "HGFF11"
          ],
          [
           false,
           1,
           0,
           "HREC11"
          ],
          [
           false,
           1,
           0,
           "HSAF11"
          ],
          [
           false,
           0,
           0,
           "IAAG11"
          ],
          [
           false,
           1,
           0,
           "ITIP11"
          ],
          [
           false,
           0,
           0,
           "ITIT11"
          ],
          [
           false,
           0,
           0,
           "JCCJ11"
          ],
          [
           false,
           1,
           0,
           "JSAF11"
          ],
          [
           false,
           1,
           0,
           "KCRE11"
          ],
          [
           false,
           0,
           0,
           "KFOF11"
          ],
          [
           false,
           1,
           0,
           "KISU11"
          ],
          [
           false,
           1,
           0,
           "KNHY11"
          ],
          [
           false,
           0,
           0,
           "KNIP11"
          ],
          [
           false,
           1,
           0,
           "KNSC11"
          ],
          [
           false,
           0,
           0,
           "KNUQ11"
          ],
          [
           false,
           0,
           0,
           "MGFF11"
          ],
          [
           false,
           0,
           0,
           "MORE11"
          ],
          [
           false,
           1,
           0,
           "NAVT11"
          ],
          [
           false,
           0,
           0,
           "NCRI11"
          ],
          [
           false,
           0,
           0,
           "OCRE11"
          ],
          [
           false,
           1,
           0,
           "OGHY11"
          ],
          [
           false,
           1,
           0,
           "OUFF11"
          ],
          [
           false,
           0,
           0,
           "PNDL11"
          ],
          [
           false,
           1,
           0,
           "QAMI11"
          ],
          [
           false,
           0,
           0,
           "RBFF11"
          ],
          [
           false,
           0,
           0,
           "RBRF11"
          ],
          [
           false,
           1,
           0,
           "RBRR11"
          ],
          [
           false,
           0,
           0,
           "RCFF11"
          ],
          [
           false,
           1,
           0,
           "RECX11"
          ],
          [
           false,
           1,
           0,
           "RFOF11"
          ],
          [
           false,
           0,
           0,
           "RINV11"
          ],
          [
           false,
           1,
           0,
           "RVBI11"
          ],
          [
           false,
           1,
           0,
           "SNFF11"
          ],
          [
           false,
           0,
           0,
           "TMPS11"
          ],
          [
           false,
           1,
           0,
           "VCJR11"
          ],
          [
           false,
           1,
           0,
           "VGIP11"
          ],
          [
           false,
           0,
           0,
           "VIFI11"
          ],
          [
           false,
           1,
           0,
           "VRTA11"
          ],
          [
           false,
           0,
           0,
           "VVCR11"
          ],
          [
           false,
           1,
           0,
           "XPSF11"
          ]
         ],
         "hovertemplate": "FLAG_DY_ACIMA_10_E_SETOR=%{customdata[0]}<br>PC_1=%{x}<br>PC_2=%{y}<br>DIV_YIELD=%{marker.size}<br>FLAG_DY_ACIMA_10=%{customdata[1]}<br>FLAG_DY_ACIMA_DY_SETOR=%{customdata[2]}<br>FII=%{customdata[3]}<extra></extra>",
         "legendgroup": "False",
         "marker": {
          "color": "#EF553B",
          "size": [
           8,
           5.3,
           0,
           0,
           1.2,
           9.6,
           6.2,
           5.5,
           8.5,
           2.2,
           0,
           6.1,
           8.9,
           7.8,
           9.3,
           8.1,
           9,
           0.8,
           3.9,
           7.3,
           8.6,
           0,
           6.9,
           0,
           7.4,
           2.8,
           7.2,
           6.9,
           9.3,
           2.3,
           4.2,
           9.2,
           9,
           6.3,
           5.4,
           9.8,
           0,
           2.5,
           0.4,
           7.9,
           9.4,
           8.3,
           6.4,
           9.9,
           0,
           8,
           1.8,
           0.4,
           8.4,
           8.2,
           0,
           8,
           7,
           9,
           8,
           5.7,
           6.3,
           8.2,
           9.9,
           8.2,
           8.1,
           11.5,
           6.3,
           11.3,
           10.5,
           9.5,
           9.1,
           10.8,
           10.9,
           10.1,
           11.7,
           9.6,
           1.1,
           9.4,
           10.6,
           9.6,
           12,
           8.6,
           9.9,
           8.6,
           9.7,
           8.8,
           11.9,
           11.9,
           3.1,
           11.1,
           8.9,
           0.5,
           10.3,
           11.2,
           9.2,
           10.1,
           11.8,
           9.8,
           11,
           0.9,
           9.4,
           8.9,
           11.6,
           9.9,
           6.5,
           11.4,
           11.3,
           0.5,
           10.9,
           9.4,
           9.7,
           11.2,
           1.4,
           10.4,
           11.5,
           9.8,
           11.3,
           10.7,
           5.5,
           11.1,
           11.7,
           9.4,
           11,
           6.6,
           10.7
          ],
          "sizemode": "area",
          "sizeref": 0.4595,
          "symbol": "circle"
         },
         "mode": "markers",
         "name": "False",
         "orientation": "v",
         "showlegend": true,
         "type": "scatter",
         "x": [
          0.7412030862130536,
          -0.5740781130392739,
          19.823511611710277,
          0.729482276723043,
          -0.32546336789339975,
          -0.05220231099156854,
          -0.5345111486555052,
          -0.5065644859672306,
          0.5519844823171215,
          -0.3969636129345755,
          -0.8795900880218416,
          -0.5430160593840625,
          -0.2612700451870697,
          1.2403758374602853,
          -0.0029810221878779045,
          -0.24061793952840396,
          -0.40401521595882006,
          -0.29479075076715444,
          -0.4156153732698566,
          -0.33274407234838055,
          1.9897259201201978,
          -0.8232756355148677,
          0.339460523381863,
          -0.5048023585664811,
          -0.09631805042553218,
          -0.40275242530866334,
          1.0783079715199855,
          -0.17716559352536893,
          -0.5781633450769614,
          -0.42386095905493315,
          -0.34999882952956624,
          -0.6365942116498349,
          -0.6129572597602665,
          -0.6187679569591541,
          -0.6198478922407624,
          -0.14224808206181783,
          -0.40636505295933023,
          -0.6721621055559369,
          -0.2513132531368664,
          0.09206799220335277,
          0.5595763208166582,
          -0.37031622664913266,
          -0.6888830552342561,
          -0.13374846395005444,
          0.3752311781884266,
          -0.43053745231092067,
          8.725633549268128,
          -0.36602825438598874,
          -0.5299486440396947,
          5.578893642948534,
          -0.8056212801031001,
          0.6911468470425766,
          -0.4184285542169597,
          0.11307644650255667,
          0.21114698778150456,
          -0.869514698499755,
          1.6107993666449494,
          0.602967330470282,
          -0.41175401146296314,
          -0.572233920167936,
          1.129946165264803,
          -0.41707851748484404,
          -0.42028944964195386,
          -0.36991198404717385,
          -0.3982595830025824,
          -0.018102807005932267,
          -0.3842052842388066,
          -0.468555253033925,
          -0.7491588724960098,
          -0.4146135010478053,
          -0.20865984572135735,
          -0.3814541831250737,
          -0.42507929007904477,
          -0.3859870609230332,
          -0.3963490171258738,
          -0.5010498128595214,
          -0.4307350216055748,
          -0.4858824558927173,
          -0.4414510470949443,
          -0.6673803954437357,
          -0.03224631582211556,
          -0.4186594840242043,
          -0.298108663603283,
          -0.3964343235403691,
          -0.6314077257337384,
          -0.40829448863350926,
          -0.4866166500669621,
          -0.3592933006615347,
          -0.30378903350582975,
          -0.2979802458475192,
          -0.29286486125127736,
          -0.6835664221979396,
          0.6784651073699142,
          1.4091916664346347,
          -1.0858537470835905,
          -0.39473020130679487,
          -0.39027925900092,
          -0.4665281796758083,
          -0.4102207787680813,
          -0.7839255851833821,
          -0.4145151002913084,
          -0.6896979657598747,
          -0.4736724373940656,
          1.2553295477155513,
          -0.39632869004259624,
          -0.5382154630357149,
          -0.25518176256626096,
          0.12727290050764967,
          -0.4737941734775485,
          -0.5460141166373161,
          -0.470295888591834,
          -0.4437557932073988,
          -0.45027041653141486,
          -0.37344167145041085,
          -0.44651059368720614,
          0.032294969306924715,
          -0.06167030467420734,
          -0.7690856807342615,
          0.04892171066586798,
          -0.7060661059174856,
          -0.6606501501094224
         ],
         "xaxis": "x",
         "y": [
          1.3400742298596182,
          -0.997321913440216,
          -5.722782134141255,
          -1.425807601299491,
          -0.3713821428123211,
          1.9643828054430894,
          -0.8826181151164065,
          -0.33816858532867083,
          2.659804501757326,
          -0.8016130325456636,
          -1.490505641865921,
          -0.6176664284218231,
          -0.46014347818524604,
          -0.3690810998919655,
          -0.562809752729339,
          -0.6853099094272783,
          0.41802886282241136,
          -1.1911631733366363,
          -0.831447523689974,
          -0.483802557801849,
          4.362681959913142,
          -1.1318281319914474,
          0.8175591531694453,
          -1.0808203967213503,
          1.2080110413178855,
          -0.6986186576615101,
          4.631187323654366,
          -1.0105013382831352,
          -0.8891727737549242,
          -0.5930570872958373,
          -0.8477667610922992,
          -0.8184020347762571,
          -0.8685225280329468,
          -0.9692686426515471,
          -0.9855192113054664,
          -0.05479013531368709,
          -0.7857383914116597,
          -1.11110614685172,
          -1.7647093016468016,
          0.11666944781469542,
          1.8102506835134038,
          -0.8324790673792335,
          -1.2120590394198942,
          -0.5642474624389334,
          -1.376679577292205,
          -0.18541477742896725,
          -0.8848914086304462,
          -1.9692343392853662,
          -0.6061937362616505,
          -1.8394572436954,
          -0.8595369979049255,
          2.391949081055181,
          -0.5546836106993,
          1.9364647287828893,
          1.7650099854073134,
          -1.1096462032245322,
          -0.8156417392032165,
          2.9187600475900517,
          -0.487046990407997,
          -0.9703374040154932,
          3.6843739978192516,
          -0.7881768010996372,
          -0.8989535996368023,
          -0.28828956680189205,
          -0.09506161140366184,
          2.1929501084719525,
          -0.47952805210789484,
          -0.8577221598395254,
          -0.633048216969656,
          -0.09364671614620157,
          2.378986736280694,
          -0.6544612923525058,
          -1.2062669380599311,
          -0.520846803378987,
          -0.8473895022310634,
          -0.77943999152627,
          -0.7254845271807182,
          -0.6486202870902695,
          -0.8893120429193906,
          -0.72483318914268,
          2.157087660282451,
          -0.46274972452388663,
          0.05554134540458518,
          -0.46044044927357486,
          -0.9422821592214545,
          -0.6787650115132211,
          -0.802850178691727,
          -1.5255681784641597,
          -0.498309588292625,
          -0.1658247915258978,
          -0.08572426324786869,
          -0.37782651050860383,
          3.328481702188575,
          10.260624379115361,
          1.5732330148208726,
          -0.738952485554882,
          0.12911061332136248,
          -0.6074086534579513,
          -0.6836809102453821,
          -0.8523970531104502,
          -0.8924457461400296,
          -0.7603168885792637,
          -0.5940417085058273,
          -1.91028044524282,
          -0.6497026197304309,
          -0.6633159285123542,
          0.8122862316065785,
          1.341544926220125,
          -1.1710421504183341,
          -0.9254559679237007,
          -0.776367606919979,
          -0.8500800350731642,
          -0.707989866253364,
          -0.5126562785335409,
          -0.8912294059406871,
          2.058162166343352,
          1.2019067672688903,
          -0.7538278313070976,
          2.094182015118783,
          -0.8751905753787417,
          -0.13726393993494776
         ],
         "yaxis": "y"
        }
       ],
       "layout": {
        "legend": {
         "itemsizing": "constant",
         "title": {
          "text": "FLAG_DY_ACIMA_10_E_SETOR"
         },
         "tracegroupgap": 0
        },
        "margin": {
         "t": 60
        },
        "template": {
         "data": {
          "bar": [
           {
            "error_x": {
             "color": "#2a3f5f"
            },
            "error_y": {
             "color": "#2a3f5f"
            },
            "marker": {
             "line": {
              "color": "#E5ECF6",
              "width": 0.5
             },
             "pattern": {
              "fillmode": "overlay",
              "size": 10,
              "solidity": 0.2
             }
            },
            "type": "bar"
           }
          ],
          "barpolar": [
           {
            "marker": {
             "line": {
              "color": "#E5ECF6",
              "width": 0.5
             },
             "pattern": {
              "fillmode": "overlay",
              "size": 10,
              "solidity": 0.2
             }
            },
            "type": "barpolar"
           }
          ],
          "carpet": [
           {
            "aaxis": {
             "endlinecolor": "#2a3f5f",
             "gridcolor": "white",
             "linecolor": "white",
             "minorgridcolor": "white",
             "startlinecolor": "#2a3f5f"
            },
            "baxis": {
             "endlinecolor": "#2a3f5f",
             "gridcolor": "white",
             "linecolor": "white",
             "minorgridcolor": "white",
             "startlinecolor": "#2a3f5f"
            },
            "type": "carpet"
           }
          ],
          "choropleth": [
           {
            "colorbar": {
             "outlinewidth": 0,
             "ticks": ""
            },
            "type": "choropleth"
           }
          ],
          "contour": [
           {
            "colorbar": {
             "outlinewidth": 0,
             "ticks": ""
            },
            "colorscale": [
             [
              0,
              "#0d0887"
             ],
             [
              0.1111111111111111,
              "#46039f"
             ],
             [
              0.2222222222222222,
              "#7201a8"
             ],
             [
              0.3333333333333333,
              "#9c179e"
             ],
             [
              0.4444444444444444,
              "#bd3786"
             ],
             [
              0.5555555555555556,
              "#d8576b"
             ],
             [
              0.6666666666666666,
              "#ed7953"
             ],
             [
              0.7777777777777778,
              "#fb9f3a"
             ],
             [
              0.8888888888888888,
              "#fdca26"
             ],
             [
              1,
              "#f0f921"
             ]
            ],
            "type": "contour"
           }
          ],
          "contourcarpet": [
           {
            "colorbar": {
             "outlinewidth": 0,
             "ticks": ""
            },
            "type": "contourcarpet"
           }
          ],
          "heatmap": [
           {
            "colorbar": {
             "outlinewidth": 0,
             "ticks": ""
            },
            "colorscale": [
             [
              0,
              "#0d0887"
             ],
             [
              0.1111111111111111,
              "#46039f"
             ],
             [
              0.2222222222222222,
              "#7201a8"
             ],
             [
              0.3333333333333333,
              "#9c179e"
             ],
             [
              0.4444444444444444,
              "#bd3786"
             ],
             [
              0.5555555555555556,
              "#d8576b"
             ],
             [
              0.6666666666666666,
              "#ed7953"
             ],
             [
              0.7777777777777778,
              "#fb9f3a"
             ],
             [
              0.8888888888888888,
              "#fdca26"
             ],
             [
              1,
              "#f0f921"
             ]
            ],
            "type": "heatmap"
           }
          ],
          "heatmapgl": [
           {
            "colorbar": {
             "outlinewidth": 0,
             "ticks": ""
            },
            "colorscale": [
             [
              0,
              "#0d0887"
             ],
             [
              0.1111111111111111,
              "#46039f"
             ],
             [
              0.2222222222222222,
              "#7201a8"
             ],
             [
              0.3333333333333333,
              "#9c179e"
             ],
             [
              0.4444444444444444,
              "#bd3786"
             ],
             [
              0.5555555555555556,
              "#d8576b"
             ],
             [
              0.6666666666666666,
              "#ed7953"
             ],
             [
              0.7777777777777778,
              "#fb9f3a"
             ],
             [
              0.8888888888888888,
              "#fdca26"
             ],
             [
              1,
              "#f0f921"
             ]
            ],
            "type": "heatmapgl"
           }
          ],
          "histogram": [
           {
            "marker": {
             "pattern": {
              "fillmode": "overlay",
              "size": 10,
              "solidity": 0.2
             }
            },
            "type": "histogram"
           }
          ],
          "histogram2d": [
           {
            "colorbar": {
             "outlinewidth": 0,
             "ticks": ""
            },
            "colorscale": [
             [
              0,
              "#0d0887"
             ],
             [
              0.1111111111111111,
              "#46039f"
             ],
             [
              0.2222222222222222,
              "#7201a8"
             ],
             [
              0.3333333333333333,
              "#9c179e"
             ],
             [
              0.4444444444444444,
              "#bd3786"
             ],
             [
              0.5555555555555556,
              "#d8576b"
             ],
             [
              0.6666666666666666,
              "#ed7953"
             ],
             [
              0.7777777777777778,
              "#fb9f3a"
             ],
             [
              0.8888888888888888,
              "#fdca26"
             ],
             [
              1,
              "#f0f921"
             ]
            ],
            "type": "histogram2d"
           }
          ],
          "histogram2dcontour": [
           {
            "colorbar": {
             "outlinewidth": 0,
             "ticks": ""
            },
            "colorscale": [
             [
              0,
              "#0d0887"
             ],
             [
              0.1111111111111111,
              "#46039f"
             ],
             [
              0.2222222222222222,
              "#7201a8"
             ],
             [
              0.3333333333333333,
              "#9c179e"
             ],
             [
              0.4444444444444444,
              "#bd3786"
             ],
             [
              0.5555555555555556,
              "#d8576b"
             ],
             [
              0.6666666666666666,
              "#ed7953"
             ],
             [
              0.7777777777777778,
              "#fb9f3a"
             ],
             [
              0.8888888888888888,
              "#fdca26"
             ],
             [
              1,
              "#f0f921"
             ]
            ],
            "type": "histogram2dcontour"
           }
          ],
          "mesh3d": [
           {
            "colorbar": {
             "outlinewidth": 0,
             "ticks": ""
            },
            "type": "mesh3d"
           }
          ],
          "parcoords": [
           {
            "line": {
             "colorbar": {
              "outlinewidth": 0,
              "ticks": ""
             }
            },
            "type": "parcoords"
           }
          ],
          "pie": [
           {
            "automargin": true,
            "type": "pie"
           }
          ],
          "scatter": [
           {
            "marker": {
             "colorbar": {
              "outlinewidth": 0,
              "ticks": ""
             }
            },
            "type": "scatter"
           }
          ],
          "scatter3d": [
           {
            "line": {
             "colorbar": {
              "outlinewidth": 0,
              "ticks": ""
             }
            },
            "marker": {
             "colorbar": {
              "outlinewidth": 0,
              "ticks": ""
             }
            },
            "type": "scatter3d"
           }
          ],
          "scattercarpet": [
           {
            "marker": {
             "colorbar": {
              "outlinewidth": 0,
              "ticks": ""
             }
            },
            "type": "scattercarpet"
           }
          ],
          "scattergeo": [
           {
            "marker": {
             "colorbar": {
              "outlinewidth": 0,
              "ticks": ""
             }
            },
            "type": "scattergeo"
           }
          ],
          "scattergl": [
           {
            "marker": {
             "colorbar": {
              "outlinewidth": 0,
              "ticks": ""
             }
            },
            "type": "scattergl"
           }
          ],
          "scattermapbox": [
           {
            "marker": {
             "colorbar": {
              "outlinewidth": 0,
              "ticks": ""
             }
            },
            "type": "scattermapbox"
           }
          ],
          "scatterpolar": [
           {
            "marker": {
             "colorbar": {
              "outlinewidth": 0,
              "ticks": ""
             }
            },
            "type": "scatterpolar"
           }
          ],
          "scatterpolargl": [
           {
            "marker": {
             "colorbar": {
              "outlinewidth": 0,
              "ticks": ""
             }
            },
            "type": "scatterpolargl"
           }
          ],
          "scatterternary": [
           {
            "marker": {
             "colorbar": {
              "outlinewidth": 0,
              "ticks": ""
             }
            },
            "type": "scatterternary"
           }
          ],
          "surface": [
           {
            "colorbar": {
             "outlinewidth": 0,
             "ticks": ""
            },
            "colorscale": [
             [
              0,
              "#0d0887"
             ],
             [
              0.1111111111111111,
              "#46039f"
             ],
             [
              0.2222222222222222,
              "#7201a8"
             ],
             [
              0.3333333333333333,
              "#9c179e"
             ],
             [
              0.4444444444444444,
              "#bd3786"
             ],
             [
              0.5555555555555556,
              "#d8576b"
             ],
             [
              0.6666666666666666,
              "#ed7953"
             ],
             [
              0.7777777777777778,
              "#fb9f3a"
             ],
             [
              0.8888888888888888,
              "#fdca26"
             ],
             [
              1,
              "#f0f921"
             ]
            ],
            "type": "surface"
           }
          ],
          "table": [
           {
            "cells": {
             "fill": {
              "color": "#EBF0F8"
             },
             "line": {
              "color": "white"
             }
            },
            "header": {
             "fill": {
              "color": "#C8D4E3"
             },
             "line": {
              "color": "white"
             }
            },
            "type": "table"
           }
          ]
         },
         "layout": {
          "annotationdefaults": {
           "arrowcolor": "#2a3f5f",
           "arrowhead": 0,
           "arrowwidth": 1
          },
          "autotypenumbers": "strict",
          "coloraxis": {
           "colorbar": {
            "outlinewidth": 0,
            "ticks": ""
           }
          },
          "colorscale": {
           "diverging": [
            [
             0,
             "#8e0152"
            ],
            [
             0.1,
             "#c51b7d"
            ],
            [
             0.2,
             "#de77ae"
            ],
            [
             0.3,
             "#f1b6da"
            ],
            [
             0.4,
             "#fde0ef"
            ],
            [
             0.5,
             "#f7f7f7"
            ],
            [
             0.6,
             "#e6f5d0"
            ],
            [
             0.7,
             "#b8e186"
            ],
            [
             0.8,
             "#7fbc41"
            ],
            [
             0.9,
             "#4d9221"
            ],
            [
             1,
             "#276419"
            ]
           ],
           "sequential": [
            [
             0,
             "#0d0887"
            ],
            [
             0.1111111111111111,
             "#46039f"
            ],
            [
             0.2222222222222222,
             "#7201a8"
            ],
            [
             0.3333333333333333,
             "#9c179e"
            ],
            [
             0.4444444444444444,
             "#bd3786"
            ],
            [
             0.5555555555555556,
             "#d8576b"
            ],
            [
             0.6666666666666666,
             "#ed7953"
            ],
            [
             0.7777777777777778,
             "#fb9f3a"
            ],
            [
             0.8888888888888888,
             "#fdca26"
            ],
            [
             1,
             "#f0f921"
            ]
           ],
           "sequentialminus": [
            [
             0,
             "#0d0887"
            ],
            [
             0.1111111111111111,
             "#46039f"
            ],
            [
             0.2222222222222222,
             "#7201a8"
            ],
            [
             0.3333333333333333,
             "#9c179e"
            ],
            [
             0.4444444444444444,
             "#bd3786"
            ],
            [
             0.5555555555555556,
             "#d8576b"
            ],
            [
             0.6666666666666666,
             "#ed7953"
            ],
            [
             0.7777777777777778,
             "#fb9f3a"
            ],
            [
             0.8888888888888888,
             "#fdca26"
            ],
            [
             1,
             "#f0f921"
            ]
           ]
          },
          "colorway": [
           "#636efa",
           "#EF553B",
           "#00cc96",
           "#ab63fa",
           "#FFA15A",
           "#19d3f3",
           "#FF6692",
           "#B6E880",
           "#FF97FF",
           "#FECB52"
          ],
          "font": {
           "color": "#2a3f5f"
          },
          "geo": {
           "bgcolor": "white",
           "lakecolor": "white",
           "landcolor": "#E5ECF6",
           "showlakes": true,
           "showland": true,
           "subunitcolor": "white"
          },
          "hoverlabel": {
           "align": "left"
          },
          "hovermode": "closest",
          "mapbox": {
           "style": "light"
          },
          "paper_bgcolor": "white",
          "plot_bgcolor": "#E5ECF6",
          "polar": {
           "angularaxis": {
            "gridcolor": "white",
            "linecolor": "white",
            "ticks": ""
           },
           "bgcolor": "#E5ECF6",
           "radialaxis": {
            "gridcolor": "white",
            "linecolor": "white",
            "ticks": ""
           }
          },
          "scene": {
           "xaxis": {
            "backgroundcolor": "#E5ECF6",
            "gridcolor": "white",
            "gridwidth": 2,
            "linecolor": "white",
            "showbackground": true,
            "ticks": "",
            "zerolinecolor": "white"
           },
           "yaxis": {
            "backgroundcolor": "#E5ECF6",
            "gridcolor": "white",
            "gridwidth": 2,
            "linecolor": "white",
            "showbackground": true,
            "ticks": "",
            "zerolinecolor": "white"
           },
           "zaxis": {
            "backgroundcolor": "#E5ECF6",
            "gridcolor": "white",
            "gridwidth": 2,
            "linecolor": "white",
            "showbackground": true,
            "ticks": "",
            "zerolinecolor": "white"
           }
          },
          "shapedefaults": {
           "line": {
            "color": "#2a3f5f"
           }
          },
          "ternary": {
           "aaxis": {
            "gridcolor": "white",
            "linecolor": "white",
            "ticks": ""
           },
           "baxis": {
            "gridcolor": "white",
            "linecolor": "white",
            "ticks": ""
           },
           "bgcolor": "#E5ECF6",
           "caxis": {
            "gridcolor": "white",
            "linecolor": "white",
            "ticks": ""
           }
          },
          "title": {
           "x": 0.05
          },
          "xaxis": {
           "automargin": true,
           "gridcolor": "white",
           "linecolor": "white",
           "ticks": "",
           "title": {
            "standoff": 15
           },
           "zerolinecolor": "white",
           "zerolinewidth": 2
          },
          "yaxis": {
           "automargin": true,
           "gridcolor": "white",
           "linecolor": "white",
           "ticks": "",
           "title": {
            "standoff": 15
           },
           "zerolinecolor": "white",
           "zerolinewidth": 2
          }
         }
        },
        "xaxis": {
         "anchor": "y",
         "domain": [
          0,
          1
         ],
         "title": {
          "text": "PC_1"
         }
        },
        "yaxis": {
         "anchor": "x",
         "domain": [
          0,
          1
         ],
         "title": {
          "text": "PC_2"
         }
        }
       }
      },
      "text/html": [
       "<div>                            <div id=\"f6c879f2-0070-41da-aea6-3c1c6f5a171a\" class=\"plotly-graph-div\" style=\"height:525px; width:100%;\"></div>            <script type=\"text/javascript\">                require([\"plotly\"], function(Plotly) {                    window.PLOTLYENV=window.PLOTLYENV || {};                                    if (document.getElementById(\"f6c879f2-0070-41da-aea6-3c1c6f5a171a\")) {                    Plotly.newPlot(                        \"f6c879f2-0070-41da-aea6-3c1c6f5a171a\",                        [{\"customdata\":[[true,1,1,\"AGRX11\"],[true,1,1,\"APTO11\"],[true,1,1,\"BIME11\"],[true,1,1,\"BMLC11\"],[true,1,1,\"BRIP11\"],[true,1,1,\"DPRO11\"],[true,1,1,\"DVFF11\"],[true,1,1,\"FATN11\"],[true,1,1,\"FGAA11\"],[true,1,1,\"FTCE11\"],[true,1,1,\"HOSI11\"],[true,1,1,\"IDFI11\"],[true,1,1,\"IDGR11\"],[true,1,1,\"IRIM11\"],[true,1,1,\"JGPX11\"],[true,1,1,\"JPPA11\"],[true,1,1,\"MAXR11\"],[true,1,1,\"MFCR11\"],[true,1,1,\"MFII11\"],[true,1,1,\"MXRF11\"],[true,1,1,\"NEWL11\"],[true,1,1,\"OIAG11\"],[true,1,1,\"OUJP11\"],[true,1,1,\"OURE11\"],[true,1,1,\"RECT11\"],[true,1,1,\"RZTR11\"],[true,1,1,\"SARE11\"],[true,1,1,\"SEED11\"],[true,1,1,\"SNAG11\"],[true,1,1,\"SPXS11\"],[true,1,1,\"TGAR11\"],[true,1,1,\"TORD11\"],[true,1,1,\"VGHF11\"],[true,1,1,\"WHGR11\"],[true,1,1,\"FVPQ11\"],[true,1,1,\"PQDP11\"],[true,1,1,\"AAZQ11\"],[true,1,1,\"AFHI11\"],[true,1,1,\"ARRI11\"],[true,1,1,\"BBGO11\"],[true,1,1,\"BCRI11\"],[true,1,1,\"BICE11\"],[true,1,1,\"BICR11\"],[true,1,1,\"BLUR11\"],[true,1,1,\"CPTR11\"],[true,1,1,\"CPTS11\"],[true,1,1,\"CVBI11\"],[true,1,1,\"DCRA11\"],[true,1,1,\"DEVA11\"],[true,1,1,\"EGAF11\"],[true,1,1,\"EQIR11\"],[true,1,1,\"FLCR11\"],[true,1,1,\"GCRA11\"],[true,1,1,\"GCRI11\"],[true,1,1,\"HABT11\"],[true,1,1,\"HCTR11\"],[true,1,1,\"HGCR11\"],[true,1,1,\"IAGR11\"],[true,1,1,\"IBCR11\"],[true,1,1,\"IRDM11\"],[true,1,1,\"KIVO11\"],[true,1,1,\"KNCA11\"],[true,1,1,\"KNCR11\"],[true,1,1,\"LSAG11\"],[true,1,1,\"MANA11\"],[true,1,1,\"MCCI11\"],[true,1,1,\"MCHF11\"],[true,1,1,\"MORC11\"],[true,1,1,\"NCHB11\"],[true,1,1,\"NCRA11\"],[true,1,1,\"PEMA11\"],[true,1,1,\"PLCA11\"],[true,1,1,\"PLCR11\"],[true,1,1,\"PLRI11\"],[true,1,1,\"PORD11\"],[true,1,1,\"RBHG11\"],[true,1,1,\"RBHY11\"],[true,1,1,\"RBRX11\"],[true,1,1,\"RBRY11\"],[true,1,1,\"RECR11\"],[true,1,1,\"REIT11\"],[true,1,1,\"RNDP11\"],[true,1,1,\"RPRI11\"],[true,1,1,\"RRCI11\"],[true,1,1,\"RURA11\"],[true,1,1,\"RZAG11\"],[true,1,1,\"RZAK11\"],[true,1,1,\"SADI11\"],[true,1,1,\"SIGR11\"],[true,1,1,\"SNCI11\"],[true,1,1,\"VCRA11\"],[true,1,1,\"VCRI11\"],[true,1,1,\"VGIA11\"],[true,1,1,\"VGIR11\"],[true,1,1,\"VOTS11\"],[true,1,1,\"WSEC11\"],[true,1,1,\"XPCA11\"],[true,1,1,\"XPCI11\"]],\"hovertemplate\":\"FLAG_DY_ACIMA_10_E_SETOR=%{customdata[0]}<br>PC_1=%{x}<br>PC_2=%{y}<br>DIV_YIELD=%{marker.size}<br>FLAG_DY_ACIMA_10=%{customdata[1]}<br>FLAG_DY_ACIMA_DY_SETOR=%{customdata[2]}<br>FII=%{customdata[3]}<extra></extra>\",\"legendgroup\":\"True\",\"marker\":{\"color\":\"#636efa\",\"size\":[15.9,11.8,12.7,11.7,23.2,13.2,11.1,11.2,16.3,10.8,10.1,86.9,183.8,13.7,14.3,15.7,11.1,12.9,13.4,11.5,10.4,17.1,13.8,13.9,13.3,10.3,13.6,11.1,13.8,12.7,13.7,11.2,12.7,11.4,10.3,10.1,13.8,12.1,13.7,12.7,13.6,12.1,43.1,12.7,17.1,12.1,12.5,15.4,20.3,16.5,12.1,13.5,16.8,14.4,15.7,21.7,12.6,15.9,13.8,13.1,16.2,13.1,12.5,15.8,13.1,12.9,13.4,14.0,15.1,15.3,15.9,14.5,12.6,21.1,12.6,12.9,14.0,14.3,13.9,12.4,57.1,29.6,12.5,14.3,12.6,14.6,15.7,13.3,13.3,13.4,14.9,14.3,17.3,15.1,13.2,15.4,14.8,12.5],\"sizemode\":\"area\",\"sizeref\":0.4595,\"symbol\":\"circle\"},\"mode\":\"markers\",\"name\":\"True\",\"orientation\":\"v\",\"showlegend\":true,\"x\":[-0.7071659850205145,-0.6828828370618911,-0.7394204859980857,-0.19135385720192577,5.027067539914428,-0.5068518298626004,-0.469211211477977,0.14305146210556388,-0.58701109947392,10.63641299430493,-0.5529812094809724,-1.0626278626321586,-1.6743364931595022,-0.40496078166875754,-0.4681453666176583,-0.3341269533604176,-0.4225506463817169,-0.34425173985554447,-0.07646085543606808,0.47367047496629194,-0.17310002113415096,-0.7430743636282288,-0.23858697167779921,-0.3033440972080816,-0.44372987535251973,0.5854103586684467,-0.490068368887279,-0.2891044960229052,-0.5835678687877539,-1.1405809639479683,0.24287096730883512,-0.9966573262731144,-0.4212631251632401,-0.674367473884726,-0.3228416251117051,7.5326290756120775,-0.6857154908842047,-0.2718399650443182,-0.7138762003821418,-0.24488099015004905,-0.3947347127283149,2.7944178725491717,-0.618140185488119,-0.3724898144270311,-0.5618516440404707,1.1333951672340172,-0.1225550824132305,-0.7658794368390169,-0.42829350200944705,-0.32630783663967383,-0.7068507262187457,-0.35247010206065926,-0.3845788331091613,-0.37831055537289526,-0.12816925091014114,-0.40845001598598796,0.35997871813614085,-0.8589340366449074,-0.4627192403786251,0.6812842938807524,-0.3160724563549599,0.21572845663156592,1.6810146924873601,-0.24569698933043183,-0.674393697774271,0.21458262455117266,-0.6771216981019736,-0.39454055109172015,-0.3793463638693898,-0.7175332539662986,-0.7102193564261423,-0.40783308741869473,-0.31285443485218545,-0.8292802009951782,-0.3378071117118569,-0.29527630595421056,-0.255706702003212,-0.2669431880041543,-0.10072456882762913,0.3062137693064356,-0.28512355436196557,-0.46267934492433754,-0.23517656271699203,-0.4453071028451263,-0.3558937347937071,-0.5302028078815665,-0.10985241016370269,-0.2161379693018913,-0.34958802232840086,-0.199158469852263,-0.2612661122519124,-0.7197845662641176,-0.4367355207576653,-0.35554182847967347,-0.4282620650580139,-0.4499037384778139,-0.6237035767791732,-0.19420099845113775],\"xaxis\":\"x\",\"y\":[-0.5469232683884958,-0.6265769498705637,-0.6888722792763776,-0.5767636794445493,-1.4164864468772098,-0.9735507391181862,-0.7648466760623441,-0.08767015828498383,0.14597922476859082,3.4924945313839064,-0.8271506588172803,-0.6009518675840285,-0.5028057976618545,-0.5855227359883509,-0.7426725538603365,-0.703294695805436,-0.7116403574259373,-0.87111010779102,0.16688459736073435,4.490616801664127,-0.12497401961475438,-0.701761850191259,-0.09197847294023784,-0.5663940938150196,-0.023287025413617934,2.401278696605372,0.0829796096819871,-0.5204208249661699,-0.1988930672174662,-0.7738937955226557,1.7594082175866064,-1.4467236588056265,0.519662511706973,-0.3118864401961942,-0.4281184540292493,-1.8485087081179334,-0.44229936478034254,-0.22194677363399273,-0.6279390543948543,0.22170382699900038,0.042299730228278765,-1.382489859592783,-0.7297912537882659,-0.86297798833554,0.4701434155426506,5.0701308031003345,1.192976360447918,-0.6185867028835608,0.6911972114335257,-0.5306928047484546,-0.6718354647457029,-0.7206098044233932,-0.5778370940075367,-0.6512509485485308,0.7898880301750032,1.4901521590294726,2.8771827634646203,-0.817484819413706,-0.8093191998486887,5.850047006553081,-0.5718647264473934,2.472839484888618,12.113392543720257,-0.5762317824388336,-0.5465930300525863,2.368761643808164,-0.17296324645180086,-0.6195650131592583,-0.5769593720061751,-0.6608024743644408,-0.9561388321164216,-0.8192964839124653,-0.34033894177590435,-1.2334448467009023,-0.3097157903107934,-0.4643339911959274,-0.3703823805305024,-0.3971838748688968,0.4550917261349194,3.928863607726103,-1.17316125402251,-0.9883417628700425,-0.30563175096991174,-0.832765928419808,1.379469523528924,0.9114018064596732,0.7295196453686601,-0.2508535829863646,-0.8041568149609155,-0.0067641167562549525,-0.04528583568931162,-0.5320816718376601,1.3442895890308282,1.7259855490178704,-0.7219007281702541,-0.9287198938232102,-0.06736055416701034,0.6016955394834583],\"yaxis\":\"y\",\"type\":\"scatter\"},{\"customdata\":[[false,0,0,\"ALZR11\"],[false,0,0,\"ASMT11\"],[false,0,0,\"ASRF11\"],[false,0,0,\"BIPD11\"],[false,0,0,\"BPML11\"],[false,0,1,\"BRCR11\"],[false,0,0,\"BREV11\"],[false,0,0,\"BROF11\"],[false,0,0,\"BTLG11\"],[false,0,0,\"BTSI11\"],[false,0,0,\"CARE11\"],[false,0,0,\"DAMT11B\"],[false,0,0,\"EVBI11\"],[false,0,0,\"FIIB11\"],[false,0,1,\"FIIP11B\"],[false,0,0,\"FLMA11\"],[false,0,0,\"GALG11\"],[false,0,0,\"GCOI11\"],[false,0,0,\"GURB11\"],[false,0,0,\"HBRH11\"],[false,0,0,\"HGRU11\"],[false,0,0,\"HRDF11\"],[false,0,0,\"HSRE11\"],[false,0,0,\"JPPC11\"],[false,0,0,\"JSRE11\"],[false,0,0,\"KNHF11\"],[false,0,0,\"KNRI11\"],[false,0,0,\"LLAO11\"],[false,0,1,\"MFAI11\"],[false,0,0,\"NEWU11\"],[false,0,0,\"PNRC11\"],[false,0,0,\"RBRD11\"],[false,0,0,\"RBRS11\"],[false,0,0,\"RELG11\"],[false,0,0,\"RMAI11\"],[false,0,1,\"RZAT11\"],[false,0,0,\"SHOP11\"],[false,0,0,\"SNLG11\"],[false,0,0,\"SPMO11\"],[false,0,0,\"TRXB11\"],[false,0,1,\"TRXF11\"],[false,0,0,\"VVRI11\"],[false,0,0,\"WTSP11\"],[false,0,1,\"ZAVI11\"],[false,0,0,\"ZIFI11\"],[false,0,0,\"ABCP11\"],[false,0,0,\"ANCR11B\"],[false,0,0,\"ATSA11\"],[false,0,1,\"FIGS11\"],[false,0,1,\"FLRP11\"],[false,0,0,\"GSFI11\"],[false,0,0,\"HGBS11\"],[false,0,0,\"HPDP11\"],[false,0,1,\"HSML11\"],[false,0,0,\"MALL11\"],[false,0,0,\"SCPF11\"],[false,0,0,\"SHPH11\"],[false,0,1,\"VISC11\"],[false,0,1,\"VSHO11\"],[false,0,1,\"WPLZ11\"],[false,0,1,\"XPML11\"],[false,1,0,\"ALZM11\"],[false,0,0,\"ARXD11\"],[false,1,0,\"BARI11\"],[false,1,0,\"BBFO11\"],[false,0,0,\"BCFF11\"],[false,0,0,\"BCIA11\"],[false,1,0,\"BLMC11\"],[false,1,0,\"BLMR11\"],[false,1,0,\"BPFF11\"],[false,1,0,\"BTCI11\"],[false,0,0,\"CCRF11\"],[false,0,0,\"CLIN11\"],[false,0,0,\"CPFF11\"],[false,1,0,\"CRAA11\"],[false,0,0,\"CRFF11\"],[false,1,0,\"CXCI11\"],[false,0,0,\"CXRI11\"],[false,0,0,\"EXES11\"],[false,0,0,\"GRWA11\"],[false,0,0,\"HFOF11\"],[false,0,0,\"HGFF11\"],[false,1,0,\"HREC11\"],[false,1,0,\"HSAF11\"],[false,0,0,\"IAAG11\"],[false,1,0,\"ITIP11\"],[false,0,0,\"ITIT11\"],[false,0,0,\"JCCJ11\"],[false,1,0,\"JSAF11\"],[false,1,0,\"KCRE11\"],[false,0,0,\"KFOF11\"],[false,1,0,\"KISU11\"],[false,1,0,\"KNHY11\"],[false,0,0,\"KNIP11\"],[false,1,0,\"KNSC11\"],[false,0,0,\"KNUQ11\"],[false,0,0,\"MGFF11\"],[false,0,0,\"MORE11\"],[false,1,0,\"NAVT11\"],[false,0,0,\"NCRI11\"],[false,0,0,\"OCRE11\"],[false,1,0,\"OGHY11\"],[false,1,0,\"OUFF11\"],[false,0,0,\"PNDL11\"],[false,1,0,\"QAMI11\"],[false,0,0,\"RBFF11\"],[false,0,0,\"RBRF11\"],[false,1,0,\"RBRR11\"],[false,0,0,\"RCFF11\"],[false,1,0,\"RECX11\"],[false,1,0,\"RFOF11\"],[false,0,0,\"RINV11\"],[false,1,0,\"RVBI11\"],[false,1,0,\"SNFF11\"],[false,0,0,\"TMPS11\"],[false,1,0,\"VCJR11\"],[false,1,0,\"VGIP11\"],[false,0,0,\"VIFI11\"],[false,1,0,\"VRTA11\"],[false,0,0,\"VVCR11\"],[false,1,0,\"XPSF11\"]],\"hovertemplate\":\"FLAG_DY_ACIMA_10_E_SETOR=%{customdata[0]}<br>PC_1=%{x}<br>PC_2=%{y}<br>DIV_YIELD=%{marker.size}<br>FLAG_DY_ACIMA_10=%{customdata[1]}<br>FLAG_DY_ACIMA_DY_SETOR=%{customdata[2]}<br>FII=%{customdata[3]}<extra></extra>\",\"legendgroup\":\"False\",\"marker\":{\"color\":\"#EF553B\",\"size\":[8.0,5.3,0.0,0.0,1.2,9.6,6.2,5.5,8.5,2.2,0.0,6.1,8.9,7.8,9.3,8.1,9.0,0.8,3.9,7.3,8.6,0.0,6.9,0.0,7.4,2.8,7.2,6.9,9.3,2.3,4.2,9.2,9.0,6.3,5.4,9.8,0.0,2.5,0.4,7.9,9.4,8.3,6.4,9.9,0.0,8.0,1.8,0.4,8.4,8.2,0.0,8.0,7.0,9.0,8.0,5.7,6.3,8.2,9.9,8.2,8.1,11.5,6.3,11.3,10.5,9.5,9.1,10.8,10.9,10.1,11.7,9.6,1.1,9.4,10.6,9.6,12.0,8.6,9.9,8.6,9.7,8.8,11.9,11.9,3.1,11.1,8.9,0.5,10.3,11.2,9.2,10.1,11.8,9.8,11.0,0.9,9.4,8.9,11.6,9.9,6.5,11.4,11.3,0.5,10.9,9.4,9.7,11.2,1.4,10.4,11.5,9.8,11.3,10.7,5.5,11.1,11.7,9.4,11.0,6.6,10.7],\"sizemode\":\"area\",\"sizeref\":0.4595,\"symbol\":\"circle\"},\"mode\":\"markers\",\"name\":\"False\",\"orientation\":\"v\",\"showlegend\":true,\"x\":[0.7412030862130536,-0.5740781130392739,19.823511611710277,0.729482276723043,-0.32546336789339975,-0.05220231099156854,-0.5345111486555052,-0.5065644859672306,0.5519844823171215,-0.3969636129345755,-0.8795900880218416,-0.5430160593840625,-0.2612700451870697,1.2403758374602853,-0.0029810221878779045,-0.24061793952840396,-0.40401521595882006,-0.29479075076715444,-0.4156153732698566,-0.33274407234838055,1.9897259201201978,-0.8232756355148677,0.339460523381863,-0.5048023585664811,-0.09631805042553218,-0.40275242530866334,1.0783079715199855,-0.17716559352536893,-0.5781633450769614,-0.42386095905493315,-0.34999882952956624,-0.6365942116498349,-0.6129572597602665,-0.6187679569591541,-0.6198478922407624,-0.14224808206181783,-0.40636505295933023,-0.6721621055559369,-0.2513132531368664,0.09206799220335277,0.5595763208166582,-0.37031622664913266,-0.6888830552342561,-0.13374846395005444,0.3752311781884266,-0.43053745231092067,8.725633549268128,-0.36602825438598874,-0.5299486440396947,5.578893642948534,-0.8056212801031001,0.6911468470425766,-0.4184285542169597,0.11307644650255667,0.21114698778150456,-0.869514698499755,1.6107993666449494,0.602967330470282,-0.41175401146296314,-0.572233920167936,1.129946165264803,-0.41707851748484404,-0.42028944964195386,-0.36991198404717385,-0.3982595830025824,-0.018102807005932267,-0.3842052842388066,-0.468555253033925,-0.7491588724960098,-0.4146135010478053,-0.20865984572135735,-0.3814541831250737,-0.42507929007904477,-0.3859870609230332,-0.3963490171258738,-0.5010498128595214,-0.4307350216055748,-0.4858824558927173,-0.4414510470949443,-0.6673803954437357,-0.03224631582211556,-0.4186594840242043,-0.298108663603283,-0.3964343235403691,-0.6314077257337384,-0.40829448863350926,-0.4866166500669621,-0.3592933006615347,-0.30378903350582975,-0.2979802458475192,-0.29286486125127736,-0.6835664221979396,0.6784651073699142,1.4091916664346347,-1.0858537470835905,-0.39473020130679487,-0.39027925900092,-0.4665281796758083,-0.4102207787680813,-0.7839255851833821,-0.4145151002913084,-0.6896979657598747,-0.4736724373940656,1.2553295477155513,-0.39632869004259624,-0.5382154630357149,-0.25518176256626096,0.12727290050764967,-0.4737941734775485,-0.5460141166373161,-0.470295888591834,-0.4437557932073988,-0.45027041653141486,-0.37344167145041085,-0.44651059368720614,0.032294969306924715,-0.06167030467420734,-0.7690856807342615,0.04892171066586798,-0.7060661059174856,-0.6606501501094224],\"xaxis\":\"x\",\"y\":[1.3400742298596182,-0.997321913440216,-5.722782134141255,-1.425807601299491,-0.3713821428123211,1.9643828054430894,-0.8826181151164065,-0.33816858532867083,2.659804501757326,-0.8016130325456636,-1.490505641865921,-0.6176664284218231,-0.46014347818524604,-0.3690810998919655,-0.562809752729339,-0.6853099094272783,0.41802886282241136,-1.1911631733366363,-0.831447523689974,-0.483802557801849,4.362681959913142,-1.1318281319914474,0.8175591531694453,-1.0808203967213503,1.2080110413178855,-0.6986186576615101,4.631187323654366,-1.0105013382831352,-0.8891727737549242,-0.5930570872958373,-0.8477667610922992,-0.8184020347762571,-0.8685225280329468,-0.9692686426515471,-0.9855192113054664,-0.05479013531368709,-0.7857383914116597,-1.11110614685172,-1.7647093016468016,0.11666944781469542,1.8102506835134038,-0.8324790673792335,-1.2120590394198942,-0.5642474624389334,-1.376679577292205,-0.18541477742896725,-0.8848914086304462,-1.9692343392853662,-0.6061937362616505,-1.8394572436954,-0.8595369979049255,2.391949081055181,-0.5546836106993,1.9364647287828893,1.7650099854073134,-1.1096462032245322,-0.8156417392032165,2.9187600475900517,-0.487046990407997,-0.9703374040154932,3.6843739978192516,-0.7881768010996372,-0.8989535996368023,-0.28828956680189205,-0.09506161140366184,2.1929501084719525,-0.47952805210789484,-0.8577221598395254,-0.633048216969656,-0.09364671614620157,2.378986736280694,-0.6544612923525058,-1.2062669380599311,-0.520846803378987,-0.8473895022310634,-0.77943999152627,-0.7254845271807182,-0.6486202870902695,-0.8893120429193906,-0.72483318914268,2.157087660282451,-0.46274972452388663,0.05554134540458518,-0.46044044927357486,-0.9422821592214545,-0.6787650115132211,-0.802850178691727,-1.5255681784641597,-0.498309588292625,-0.1658247915258978,-0.08572426324786869,-0.37782651050860383,3.328481702188575,10.260624379115361,1.5732330148208726,-0.738952485554882,0.12911061332136248,-0.6074086534579513,-0.6836809102453821,-0.8523970531104502,-0.8924457461400296,-0.7603168885792637,-0.5940417085058273,-1.91028044524282,-0.6497026197304309,-0.6633159285123542,0.8122862316065785,1.341544926220125,-1.1710421504183341,-0.9254559679237007,-0.776367606919979,-0.8500800350731642,-0.707989866253364,-0.5126562785335409,-0.8912294059406871,2.058162166343352,1.2019067672688903,-0.7538278313070976,2.094182015118783,-0.8751905753787417,-0.13726393993494776],\"yaxis\":\"y\",\"type\":\"scatter\"}],                        {\"template\":{\"data\":{\"bar\":[{\"error_x\":{\"color\":\"#2a3f5f\"},\"error_y\":{\"color\":\"#2a3f5f\"},\"marker\":{\"line\":{\"color\":\"#E5ECF6\",\"width\":0.5},\"pattern\":{\"fillmode\":\"overlay\",\"size\":10,\"solidity\":0.2}},\"type\":\"bar\"}],\"barpolar\":[{\"marker\":{\"line\":{\"color\":\"#E5ECF6\",\"width\":0.5},\"pattern\":{\"fillmode\":\"overlay\",\"size\":10,\"solidity\":0.2}},\"type\":\"barpolar\"}],\"carpet\":[{\"aaxis\":{\"endlinecolor\":\"#2a3f5f\",\"gridcolor\":\"white\",\"linecolor\":\"white\",\"minorgridcolor\":\"white\",\"startlinecolor\":\"#2a3f5f\"},\"baxis\":{\"endlinecolor\":\"#2a3f5f\",\"gridcolor\":\"white\",\"linecolor\":\"white\",\"minorgridcolor\":\"white\",\"startlinecolor\":\"#2a3f5f\"},\"type\":\"carpet\"}],\"choropleth\":[{\"colorbar\":{\"outlinewidth\":0,\"ticks\":\"\"},\"type\":\"choropleth\"}],\"contour\":[{\"colorbar\":{\"outlinewidth\":0,\"ticks\":\"\"},\"colorscale\":[[0.0,\"#0d0887\"],[0.1111111111111111,\"#46039f\"],[0.2222222222222222,\"#7201a8\"],[0.3333333333333333,\"#9c179e\"],[0.4444444444444444,\"#bd3786\"],[0.5555555555555556,\"#d8576b\"],[0.6666666666666666,\"#ed7953\"],[0.7777777777777778,\"#fb9f3a\"],[0.8888888888888888,\"#fdca26\"],[1.0,\"#f0f921\"]],\"type\":\"contour\"}],\"contourcarpet\":[{\"colorbar\":{\"outlinewidth\":0,\"ticks\":\"\"},\"type\":\"contourcarpet\"}],\"heatmap\":[{\"colorbar\":{\"outlinewidth\":0,\"ticks\":\"\"},\"colorscale\":[[0.0,\"#0d0887\"],[0.1111111111111111,\"#46039f\"],[0.2222222222222222,\"#7201a8\"],[0.3333333333333333,\"#9c179e\"],[0.4444444444444444,\"#bd3786\"],[0.5555555555555556,\"#d8576b\"],[0.6666666666666666,\"#ed7953\"],[0.7777777777777778,\"#fb9f3a\"],[0.8888888888888888,\"#fdca26\"],[1.0,\"#f0f921\"]],\"type\":\"heatmap\"}],\"heatmapgl\":[{\"colorbar\":{\"outlinewidth\":0,\"ticks\":\"\"},\"colorscale\":[[0.0,\"#0d0887\"],[0.1111111111111111,\"#46039f\"],[0.2222222222222222,\"#7201a8\"],[0.3333333333333333,\"#9c179e\"],[0.4444444444444444,\"#bd3786\"],[0.5555555555555556,\"#d8576b\"],[0.6666666666666666,\"#ed7953\"],[0.7777777777777778,\"#fb9f3a\"],[0.8888888888888888,\"#fdca26\"],[1.0,\"#f0f921\"]],\"type\":\"heatmapgl\"}],\"histogram\":[{\"marker\":{\"pattern\":{\"fillmode\":\"overlay\",\"size\":10,\"solidity\":0.2}},\"type\":\"histogram\"}],\"histogram2d\":[{\"colorbar\":{\"outlinewidth\":0,\"ticks\":\"\"},\"colorscale\":[[0.0,\"#0d0887\"],[0.1111111111111111,\"#46039f\"],[0.2222222222222222,\"#7201a8\"],[0.3333333333333333,\"#9c179e\"],[0.4444444444444444,\"#bd3786\"],[0.5555555555555556,\"#d8576b\"],[0.6666666666666666,\"#ed7953\"],[0.7777777777777778,\"#fb9f3a\"],[0.8888888888888888,\"#fdca26\"],[1.0,\"#f0f921\"]],\"type\":\"histogram2d\"}],\"histogram2dcontour\":[{\"colorbar\":{\"outlinewidth\":0,\"ticks\":\"\"},\"colorscale\":[[0.0,\"#0d0887\"],[0.1111111111111111,\"#46039f\"],[0.2222222222222222,\"#7201a8\"],[0.3333333333333333,\"#9c179e\"],[0.4444444444444444,\"#bd3786\"],[0.5555555555555556,\"#d8576b\"],[0.6666666666666666,\"#ed7953\"],[0.7777777777777778,\"#fb9f3a\"],[0.8888888888888888,\"#fdca26\"],[1.0,\"#f0f921\"]],\"type\":\"histogram2dcontour\"}],\"mesh3d\":[{\"colorbar\":{\"outlinewidth\":0,\"ticks\":\"\"},\"type\":\"mesh3d\"}],\"parcoords\":[{\"line\":{\"colorbar\":{\"outlinewidth\":0,\"ticks\":\"\"}},\"type\":\"parcoords\"}],\"pie\":[{\"automargin\":true,\"type\":\"pie\"}],\"scatter\":[{\"marker\":{\"colorbar\":{\"outlinewidth\":0,\"ticks\":\"\"}},\"type\":\"scatter\"}],\"scatter3d\":[{\"line\":{\"colorbar\":{\"outlinewidth\":0,\"ticks\":\"\"}},\"marker\":{\"colorbar\":{\"outlinewidth\":0,\"ticks\":\"\"}},\"type\":\"scatter3d\"}],\"scattercarpet\":[{\"marker\":{\"colorbar\":{\"outlinewidth\":0,\"ticks\":\"\"}},\"type\":\"scattercarpet\"}],\"scattergeo\":[{\"marker\":{\"colorbar\":{\"outlinewidth\":0,\"ticks\":\"\"}},\"type\":\"scattergeo\"}],\"scattergl\":[{\"marker\":{\"colorbar\":{\"outlinewidth\":0,\"ticks\":\"\"}},\"type\":\"scattergl\"}],\"scattermapbox\":[{\"marker\":{\"colorbar\":{\"outlinewidth\":0,\"ticks\":\"\"}},\"type\":\"scattermapbox\"}],\"scatterpolar\":[{\"marker\":{\"colorbar\":{\"outlinewidth\":0,\"ticks\":\"\"}},\"type\":\"scatterpolar\"}],\"scatterpolargl\":[{\"marker\":{\"colorbar\":{\"outlinewidth\":0,\"ticks\":\"\"}},\"type\":\"scatterpolargl\"}],\"scatterternary\":[{\"marker\":{\"colorbar\":{\"outlinewidth\":0,\"ticks\":\"\"}},\"type\":\"scatterternary\"}],\"surface\":[{\"colorbar\":{\"outlinewidth\":0,\"ticks\":\"\"},\"colorscale\":[[0.0,\"#0d0887\"],[0.1111111111111111,\"#46039f\"],[0.2222222222222222,\"#7201a8\"],[0.3333333333333333,\"#9c179e\"],[0.4444444444444444,\"#bd3786\"],[0.5555555555555556,\"#d8576b\"],[0.6666666666666666,\"#ed7953\"],[0.7777777777777778,\"#fb9f3a\"],[0.8888888888888888,\"#fdca26\"],[1.0,\"#f0f921\"]],\"type\":\"surface\"}],\"table\":[{\"cells\":{\"fill\":{\"color\":\"#EBF0F8\"},\"line\":{\"color\":\"white\"}},\"header\":{\"fill\":{\"color\":\"#C8D4E3\"},\"line\":{\"color\":\"white\"}},\"type\":\"table\"}]},\"layout\":{\"annotationdefaults\":{\"arrowcolor\":\"#2a3f5f\",\"arrowhead\":0,\"arrowwidth\":1},\"autotypenumbers\":\"strict\",\"coloraxis\":{\"colorbar\":{\"outlinewidth\":0,\"ticks\":\"\"}},\"colorscale\":{\"diverging\":[[0,\"#8e0152\"],[0.1,\"#c51b7d\"],[0.2,\"#de77ae\"],[0.3,\"#f1b6da\"],[0.4,\"#fde0ef\"],[0.5,\"#f7f7f7\"],[0.6,\"#e6f5d0\"],[0.7,\"#b8e186\"],[0.8,\"#7fbc41\"],[0.9,\"#4d9221\"],[1,\"#276419\"]],\"sequential\":[[0.0,\"#0d0887\"],[0.1111111111111111,\"#46039f\"],[0.2222222222222222,\"#7201a8\"],[0.3333333333333333,\"#9c179e\"],[0.4444444444444444,\"#bd3786\"],[0.5555555555555556,\"#d8576b\"],[0.6666666666666666,\"#ed7953\"],[0.7777777777777778,\"#fb9f3a\"],[0.8888888888888888,\"#fdca26\"],[1.0,\"#f0f921\"]],\"sequentialminus\":[[0.0,\"#0d0887\"],[0.1111111111111111,\"#46039f\"],[0.2222222222222222,\"#7201a8\"],[0.3333333333333333,\"#9c179e\"],[0.4444444444444444,\"#bd3786\"],[0.5555555555555556,\"#d8576b\"],[0.6666666666666666,\"#ed7953\"],[0.7777777777777778,\"#fb9f3a\"],[0.8888888888888888,\"#fdca26\"],[1.0,\"#f0f921\"]]},\"colorway\":[\"#636efa\",\"#EF553B\",\"#00cc96\",\"#ab63fa\",\"#FFA15A\",\"#19d3f3\",\"#FF6692\",\"#B6E880\",\"#FF97FF\",\"#FECB52\"],\"font\":{\"color\":\"#2a3f5f\"},\"geo\":{\"bgcolor\":\"white\",\"lakecolor\":\"white\",\"landcolor\":\"#E5ECF6\",\"showlakes\":true,\"showland\":true,\"subunitcolor\":\"white\"},\"hoverlabel\":{\"align\":\"left\"},\"hovermode\":\"closest\",\"mapbox\":{\"style\":\"light\"},\"paper_bgcolor\":\"white\",\"plot_bgcolor\":\"#E5ECF6\",\"polar\":{\"angularaxis\":{\"gridcolor\":\"white\",\"linecolor\":\"white\",\"ticks\":\"\"},\"bgcolor\":\"#E5ECF6\",\"radialaxis\":{\"gridcolor\":\"white\",\"linecolor\":\"white\",\"ticks\":\"\"}},\"scene\":{\"xaxis\":{\"backgroundcolor\":\"#E5ECF6\",\"gridcolor\":\"white\",\"gridwidth\":2,\"linecolor\":\"white\",\"showbackground\":true,\"ticks\":\"\",\"zerolinecolor\":\"white\"},\"yaxis\":{\"backgroundcolor\":\"#E5ECF6\",\"gridcolor\":\"white\",\"gridwidth\":2,\"linecolor\":\"white\",\"showbackground\":true,\"ticks\":\"\",\"zerolinecolor\":\"white\"},\"zaxis\":{\"backgroundcolor\":\"#E5ECF6\",\"gridcolor\":\"white\",\"gridwidth\":2,\"linecolor\":\"white\",\"showbackground\":true,\"ticks\":\"\",\"zerolinecolor\":\"white\"}},\"shapedefaults\":{\"line\":{\"color\":\"#2a3f5f\"}},\"ternary\":{\"aaxis\":{\"gridcolor\":\"white\",\"linecolor\":\"white\",\"ticks\":\"\"},\"baxis\":{\"gridcolor\":\"white\",\"linecolor\":\"white\",\"ticks\":\"\"},\"bgcolor\":\"#E5ECF6\",\"caxis\":{\"gridcolor\":\"white\",\"linecolor\":\"white\",\"ticks\":\"\"}},\"title\":{\"x\":0.05},\"xaxis\":{\"automargin\":true,\"gridcolor\":\"white\",\"linecolor\":\"white\",\"ticks\":\"\",\"title\":{\"standoff\":15},\"zerolinecolor\":\"white\",\"zerolinewidth\":2},\"yaxis\":{\"automargin\":true,\"gridcolor\":\"white\",\"linecolor\":\"white\",\"ticks\":\"\",\"title\":{\"standoff\":15},\"zerolinecolor\":\"white\",\"zerolinewidth\":2}}},\"xaxis\":{\"anchor\":\"y\",\"domain\":[0.0,1.0],\"title\":{\"text\":\"PC_1\"}},\"yaxis\":{\"anchor\":\"x\",\"domain\":[0.0,1.0],\"title\":{\"text\":\"PC_2\"}},\"legend\":{\"title\":{\"text\":\"FLAG_DY_ACIMA_10_E_SETOR\"},\"tracegroupgap\":0,\"itemsizing\":\"constant\"},\"margin\":{\"t\":60}},                        {\"responsive\": true}                    ).then(function(){\n",
       "                            \n",
       "var gd = document.getElementById('f6c879f2-0070-41da-aea6-3c1c6f5a171a');\n",
       "var x = new MutationObserver(function (mutations, observer) {{\n",
       "        var display = window.getComputedStyle(gd).display;\n",
       "        if (!display || display === 'none') {{\n",
       "            console.log([gd, 'removed!']);\n",
       "            Plotly.purge(gd);\n",
       "            observer.disconnect();\n",
       "        }}\n",
       "}});\n",
       "\n",
       "// Listen for the removal of the full notebook cells\n",
       "var notebookContainer = gd.closest('#notebook-container');\n",
       "if (notebookContainer) {{\n",
       "    x.observe(notebookContainer, {childList: true});\n",
       "}}\n",
       "\n",
       "// Listen for the clearing of the current output cell\n",
       "var outputEl = gd.closest('.output');\n",
       "if (outputEl) {{\n",
       "    x.observe(outputEl, {childList: true});\n",
       "}}\n",
       "\n",
       "                        })                };                });            </script>        </div>"
      ]
     },
     "metadata": {},
     "output_type": "display_data"
    }
   ],
   "source": [
    "# Visualizar os dois componentes\n",
    "fig = px.scatter(df_pca,\n",
    "                 x=\"PC_1\",\n",
    "                 y=\"PC_2\",\n",
    "                 color=\"FLAG_DY_ACIMA_10_E_SETOR\",\n",
    "                 size='DIV_YIELD',\n",
    "                 hover_data=['FLAG_DY_ACIMA_10_E_SETOR','FLAG_DY_ACIMA_10','FLAG_DY_ACIMA_DY_SETOR','FII',])\n",
    "fig.show()"
   ]
  },
  {
   "cell_type": "code",
   "execution_count": 68,
   "id": "d0c48f41",
   "metadata": {},
   "outputs": [
    {
     "data": {
      "text/plain": [
       "6"
      ]
     },
     "execution_count": 68,
     "metadata": {},
     "output_type": "execute_result"
    }
   ],
   "source": [
    "# Pegar explicada acumulada\n",
    "qtd_pc = (pca.explained_variance_ratio_.cumsum() <= 0.90).sum()\n",
    "qtd_pc"
   ]
  },
  {
   "cell_type": "code",
   "execution_count": 69,
   "id": "8945a1a0",
   "metadata": {},
   "outputs": [],
   "source": [
    "df_pca_cluster = df_pca[[f'PC_{i}' for i in range(1, qtd_pc + 1)]].copy()"
   ]
  },
  {
   "cell_type": "code",
   "execution_count": 70,
   "id": "55dfb1f6",
   "metadata": {},
   "outputs": [
    {
     "data": {
      "text/html": [
       "<div>\n",
       "<style scoped>\n",
       "    .dataframe tbody tr th:only-of-type {\n",
       "        vertical-align: middle;\n",
       "    }\n",
       "\n",
       "    .dataframe tbody tr th {\n",
       "        vertical-align: top;\n",
       "    }\n",
       "\n",
       "    .dataframe thead th {\n",
       "        text-align: right;\n",
       "    }\n",
       "</style>\n",
       "<table border=\"1\" class=\"dataframe\">\n",
       "  <thead>\n",
       "    <tr style=\"text-align: right;\">\n",
       "      <th></th>\n",
       "      <th>PC_1</th>\n",
       "      <th>PC_2</th>\n",
       "      <th>PC_3</th>\n",
       "      <th>PC_4</th>\n",
       "      <th>PC_5</th>\n",
       "      <th>PC_6</th>\n",
       "    </tr>\n",
       "  </thead>\n",
       "  <tbody>\n",
       "    <tr>\n",
       "      <th>0</th>\n",
       "      <td>-0.707166</td>\n",
       "      <td>-0.546923</td>\n",
       "      <td>-0.272864</td>\n",
       "      <td>-0.177751</td>\n",
       "      <td>-1.255466</td>\n",
       "      <td>0.151072</td>\n",
       "    </tr>\n",
       "    <tr>\n",
       "      <th>1</th>\n",
       "      <td>0.741203</td>\n",
       "      <td>1.340074</td>\n",
       "      <td>-1.864033</td>\n",
       "      <td>1.904342</td>\n",
       "      <td>-0.430736</td>\n",
       "      <td>0.230883</td>\n",
       "    </tr>\n",
       "    <tr>\n",
       "      <th>2</th>\n",
       "      <td>-0.682883</td>\n",
       "      <td>-0.626577</td>\n",
       "      <td>-0.298082</td>\n",
       "      <td>0.124879</td>\n",
       "      <td>-0.835893</td>\n",
       "      <td>-0.316001</td>\n",
       "    </tr>\n",
       "    <tr>\n",
       "      <th>3</th>\n",
       "      <td>-0.574078</td>\n",
       "      <td>-0.997322</td>\n",
       "      <td>0.280374</td>\n",
       "      <td>0.513709</td>\n",
       "      <td>1.797889</td>\n",
       "      <td>-0.184115</td>\n",
       "    </tr>\n",
       "    <tr>\n",
       "      <th>4</th>\n",
       "      <td>19.823512</td>\n",
       "      <td>-5.722782</td>\n",
       "      <td>3.153987</td>\n",
       "      <td>-3.757281</td>\n",
       "      <td>0.058485</td>\n",
       "      <td>0.114474</td>\n",
       "    </tr>\n",
       "    <tr>\n",
       "      <th>...</th>\n",
       "      <td>...</td>\n",
       "      <td>...</td>\n",
       "      <td>...</td>\n",
       "      <td>...</td>\n",
       "      <td>...</td>\n",
       "      <td>...</td>\n",
       "    </tr>\n",
       "    <tr>\n",
       "      <th>214</th>\n",
       "      <td>-0.706066</td>\n",
       "      <td>-0.875191</td>\n",
       "      <td>-0.017409</td>\n",
       "      <td>-0.057282</td>\n",
       "      <td>0.091445</td>\n",
       "      <td>0.236182</td>\n",
       "    </tr>\n",
       "    <tr>\n",
       "      <th>215</th>\n",
       "      <td>-0.449904</td>\n",
       "      <td>-0.928720</td>\n",
       "      <td>0.491514</td>\n",
       "      <td>0.308458</td>\n",
       "      <td>0.022848</td>\n",
       "      <td>0.011439</td>\n",
       "    </tr>\n",
       "    <tr>\n",
       "      <th>216</th>\n",
       "      <td>-0.623704</td>\n",
       "      <td>-0.067361</td>\n",
       "      <td>-0.067396</td>\n",
       "      <td>-0.155562</td>\n",
       "      <td>-0.480590</td>\n",
       "      <td>0.179977</td>\n",
       "    </tr>\n",
       "    <tr>\n",
       "      <th>217</th>\n",
       "      <td>-0.194201</td>\n",
       "      <td>0.601696</td>\n",
       "      <td>-0.024815</td>\n",
       "      <td>-0.472066</td>\n",
       "      <td>-0.607736</td>\n",
       "      <td>-0.127691</td>\n",
       "    </tr>\n",
       "    <tr>\n",
       "      <th>218</th>\n",
       "      <td>-0.660650</td>\n",
       "      <td>-0.137264</td>\n",
       "      <td>-0.092995</td>\n",
       "      <td>-0.262420</td>\n",
       "      <td>-0.469551</td>\n",
       "      <td>-0.216019</td>\n",
       "    </tr>\n",
       "  </tbody>\n",
       "</table>\n",
       "<p>219 rows × 6 columns</p>\n",
       "</div>"
      ],
      "text/plain": [
       "          PC_1      PC_2      PC_3      PC_4      PC_5      PC_6\n",
       "0    -0.707166 -0.546923 -0.272864 -0.177751 -1.255466  0.151072\n",
       "1     0.741203  1.340074 -1.864033  1.904342 -0.430736  0.230883\n",
       "2    -0.682883 -0.626577 -0.298082  0.124879 -0.835893 -0.316001\n",
       "3    -0.574078 -0.997322  0.280374  0.513709  1.797889 -0.184115\n",
       "4    19.823512 -5.722782  3.153987 -3.757281  0.058485  0.114474\n",
       "..         ...       ...       ...       ...       ...       ...\n",
       "214  -0.706066 -0.875191 -0.017409 -0.057282  0.091445  0.236182\n",
       "215  -0.449904 -0.928720  0.491514  0.308458  0.022848  0.011439\n",
       "216  -0.623704 -0.067361 -0.067396 -0.155562 -0.480590  0.179977\n",
       "217  -0.194201  0.601696 -0.024815 -0.472066 -0.607736 -0.127691\n",
       "218  -0.660650 -0.137264 -0.092995 -0.262420 -0.469551 -0.216019\n",
       "\n",
       "[219 rows x 6 columns]"
      ]
     },
     "execution_count": 70,
     "metadata": {},
     "output_type": "execute_result"
    }
   ],
   "source": [
    "df_pca_cluster"
   ]
  },
  {
   "cell_type": "code",
   "execution_count": 71,
   "id": "89059f36",
   "metadata": {},
   "outputs": [],
   "source": [
    "# Lista de clusters possíveis\n",
    "nc_candidatos = list(range(2, 20, 1))\n",
    "\n",
    "# Lista para salvar distorções\n",
    "distorsions = list()\n",
    "\n",
    "# Loop na possibilidade de grupos\n",
    "for nc in nc_candidatos:\n",
    "    # Iniciar objeto\n",
    "    kmeans = KMeans(n_clusters=nc, random_state=1206, init='k-means++', n_init=25, max_iter=500)\n",
    "    # Encontrar grupos\n",
    "    kmeans = kmeans.fit(df_pca_cluster)\n",
    "    # Salvar distorções para método do cotovelo\n",
    "    distorsions.append(kmeans.inertia_)"
   ]
  },
  {
   "cell_type": "code",
   "execution_count": 72,
   "id": "a237633a",
   "metadata": {},
   "outputs": [
    {
     "data": {
      "image/png": "[encoded data removed]",
      "text/plain": [
       "<Figure size 1080x360 with 1 Axes>"
      ]
     },
     "metadata": {
      "needs_background": "light"
     },
     "output_type": "display_data"
    }
   ],
   "source": [
    "# Visualizar\n",
    "fig = plt.figure(figsize=(15, 5))\n",
    "plt.plot(nc_candidatos, distorsions)\n",
    "plt.xticks(nc_candidatos)\n",
    "plt.grid(True)\n",
    "plt.title('Elbow curve');"
   ]
  },
  {
   "cell_type": "markdown",
   "id": "8e0f383e",
   "metadata": {},
   "source": [
    "Pela curva: 9 ou 10 clusters"
   ]
  },
  {
   "cell_type": "code",
   "execution_count": 73,
   "id": "7f969069",
   "metadata": {},
   "outputs": [],
   "source": [
    "# Calcular grupos\n",
    "kmeans = KMeans(n_clusters=9, random_state=1206, init='k-means++', n_init=25, max_iter=500).fit(df_pca_cluster)"
   ]
  },
  {
   "cell_type": "code",
   "execution_count": 74,
   "id": "c001a158",
   "metadata": {},
   "outputs": [],
   "source": [
    "# Salvar grupos\n",
    "df_pca['KMEANS_GRUPOS'] = kmeans.labels_"
   ]
  },
  {
   "cell_type": "code",
   "execution_count": 75,
   "id": "6ccb6950",
   "metadata": {},
   "outputs": [
    {
     "data": {
      "text/plain": [
       "1    145\n",
       "2     33\n",
       "0     24\n",
       "5      8\n",
       "7      4\n",
       "6      2\n",
       "3      1\n",
       "4      1\n",
       "8      1\n",
       "Name: KMEANS_GRUPOS, dtype: int64"
      ]
     },
     "execution_count": 75,
     "metadata": {},
     "output_type": "execute_result"
    }
   ],
   "source": [
    "# Contabilizar grupos\n",
    "df_pca['KMEANS_GRUPOS'].value_counts()"
   ]
  },
  {
   "cell_type": "code",
   "execution_count": 77,
   "id": "3f9e67e6",
   "metadata": {},
   "outputs": [
    {
     "data": {
      "application/vnd.plotly.v1+json": {
       "config": {
        "plotlyServerURL": "https://plot.ly"
       },
       "data": [
        {
         "customdata": [
          [
           true,
           1,
           "1",
           "AGRX11"
          ],
          [
           true,
           1,
           "1",
           "APTO11"
          ],
          [
           true,
           1,
           "1",
           "BIME11"
          ],
          [
           true,
           1,
           "1",
           "BMLC11"
          ],
          [
           false,
           0,
           "1",
           "BRCR11"
          ],
          [
           true,
           1,
           "1",
           "DPRO11"
          ],
          [
           true,
           1,
           "1",
           "DVFF11"
          ],
          [
           true,
           1,
           "1",
           "FATN11"
          ],
          [
           true,
           1,
           "1",
           "FGAA11"
          ],
          [
           false,
           0,
           "1",
           "FIIP11B"
          ],
          [
           true,
           1,
           "1",
           "FTCE11"
          ],
          [
           true,
           1,
           "1",
           "HOSI11"
          ],
          [
           true,
           1,
           "1",
           "IRIM11"
          ],
          [
           true,
           1,
           "1",
           "JGPX11"
          ],
          [
           true,
           1,
           "1",
           "JPPA11"
          ],
          [
           true,
           1,
           "1",
           "MAXR11"
          ],
          [
           false,
           0,
           "1",
           "MFAI11"
          ],
          [
           true,
           1,
           "1",
           "MFCR11"
          ],
          [
           true,
           1,
           "1",
           "MFII11"
          ],
          [
           true,
           1,
           "1",
           "MXRF11"
          ],
          [
           true,
           1,
           "1",
           "NEWL11"
          ],
          [
           true,
           1,
           "1",
           "OIAG11"
          ],
          [
           true,
           1,
           "1",
           "OUJP11"
          ],
          [
           true,
           1,
           "1",
           "OURE11"
          ],
          [
           true,
           1,
           "1",
           "RECT11"
          ],
          [
           false,
           0,
           "1",
           "RZAT11"
          ],
          [
           true,
           1,
           "1",
           "RZTR11"
          ],
          [
           true,
           1,
           "1",
           "SARE11"
          ],
          [
           true,
           1,
           "1",
           "SEED11"
          ],
          [
           true,
           1,
           "1",
           "SNAG11"
          ],
          [
           true,
           1,
           "1",
           "SPXS11"
          ],
          [
           true,
           1,
           "1",
           "TGAR11"
          ],
          [
           true,
           1,
           "1",
           "TORD11"
          ],
          [
           false,
           0,
           "1",
           "TRXF11"
          ],
          [
           true,
           1,
           "1",
           "VGHF11"
          ],
          [
           true,
           1,
           "1",
           "WHGR11"
          ],
          [
           false,
           0,
           "1",
           "ZAVI11"
          ],
          [
           false,
           0,
           "1",
           "FIGS11"
          ],
          [
           false,
           0,
           "1",
           "FLRP11"
          ],
          [
           true,
           1,
           "1",
           "FVPQ11"
          ],
          [
           false,
           0,
           "1",
           "HSML11"
          ],
          [
           true,
           1,
           "1",
           "PQDP11"
          ],
          [
           false,
           0,
           "1",
           "VISC11"
          ],
          [
           false,
           0,
           "1",
           "VSHO11"
          ],
          [
           false,
           0,
           "1",
           "WPLZ11"
          ],
          [
           false,
           0,
           "1",
           "XPML11"
          ],
          [
           true,
           1,
           "1",
           "AAZQ11"
          ],
          [
           true,
           1,
           "1",
           "AFHI11"
          ],
          [
           true,
           1,
           "1",
           "ARRI11"
          ],
          [
           true,
           1,
           "1",
           "BBGO11"
          ],
          [
           true,
           1,
           "1",
           "BCRI11"
          ],
          [
           true,
           1,
           "1",
           "BICE11"
          ],
          [
           true,
           1,
           "1",
           "BLUR11"
          ],
          [
           true,
           1,
           "1",
           "CPTR11"
          ],
          [
           true,
           1,
           "1",
           "CPTS11"
          ],
          [
           true,
           1,
           "1",
           "CVBI11"
          ],
          [
           true,
           1,
           "1",
           "DCRA11"
          ],
          [
           true,
           1,
           "1",
           "EGAF11"
          ],
          [
           true,
           1,
           "1",
           "EQIR11"
          ],
          [
           true,
           1,
           "1",
           "FLCR11"
          ],
          [
           true,
           1,
           "1",
           "GCRA11"
          ],
          [
           true,
           1,
           "1",
           "GCRI11"
          ],
          [
           true,
           1,
           "1",
           "HABT11"
          ],
          [
           true,
           1,
           "1",
           "HGCR11"
          ],
          [
           true,
           1,
           "1",
           "IAGR11"
          ],
          [
           true,
           1,
           "1",
           "IBCR11"
          ],
          [
           true,
           1,
           "1",
           "IRDM11"
          ],
          [
           true,
           1,
           "1",
           "KIVO11"
          ],
          [
           true,
           1,
           "1",
           "KNCA11"
          ],
          [
           true,
           1,
           "1",
           "KNCR11"
          ],
          [
           true,
           1,
           "1",
           "LSAG11"
          ],
          [
           true,
           1,
           "1",
           "MANA11"
          ],
          [
           true,
           1,
           "1",
           "MCCI11"
          ],
          [
           true,
           1,
           "1",
           "MCHF11"
          ],
          [
           true,
           1,
           "1",
           "MORC11"
          ],
          [
           true,
           1,
           "1",
           "NCHB11"
          ],
          [
           true,
           1,
           "1",
           "NCRA11"
          ],
          [
           true,
           1,
           "1",
           "PEMA11"
          ],
          [
           true,
           1,
           "1",
           "PLCA11"
          ],
          [
           true,
           1,
           "1",
           "PLCR11"
          ],
          [
           true,
           1,
           "1",
           "PORD11"
          ],
          [
           true,
           1,
           "1",
           "RBHG11"
          ],
          [
           true,
           1,
           "1",
           "RBHY11"
          ],
          [
           true,
           1,
           "1",
           "RBRX11"
          ],
          [
           true,
           1,
           "1",
           "RBRY11"
          ],
          [
           true,
           1,
           "1",
           "RECR11"
          ],
          [
           true,
           1,
           "1",
           "RPRI11"
          ],
          [
           true,
           1,
           "1",
           "RRCI11"
          ],
          [
           true,
           1,
           "1",
           "RURA11"
          ],
          [
           true,
           1,
           "1",
           "RZAG11"
          ],
          [
           true,
           1,
           "1",
           "RZAK11"
          ],
          [
           true,
           1,
           "1",
           "SADI11"
          ],
          [
           true,
           1,
           "1",
           "SIGR11"
          ],
          [
           true,
           1,
           "1",
           "SNCI11"
          ],
          [
           true,
           1,
           "1",
           "VCRA11"
          ],
          [
           true,
           1,
           "1",
           "VCRI11"
          ],
          [
           true,
           1,
           "1",
           "VGIA11"
          ],
          [
           true,
           1,
           "1",
           "VGIR11"
          ],
          [
           true,
           1,
           "1",
           "VOTS11"
          ],
          [
           true,
           1,
           "1",
           "WSEC11"
          ],
          [
           true,
           1,
           "1",
           "XPCA11"
          ],
          [
           true,
           1,
           "1",
           "XPCI11"
          ]
         ],
         "hovertemplate": "FLAG_DY_ACIMA_DY_SETOR=%{customdata[2]}<br>DIV_YIELD=%{marker.size}<br>OSCILACOES_%_2023=%{y}<br>FLAG_DY_ACIMA_10_E_SETOR=%{customdata[0]}<br>FLAG_DY_ACIMA_10=%{customdata[1]}<br>FII=%{customdata[3]}<extra></extra>",
         "legendgroup": "1",
         "marker": {
          "color": "rgb(133, 92, 117)",
          "size": [
           15.9,
           11.8,
           12.7,
           11.7,
           9.6,
           13.2,
           11.1,
           11.2,
           16.3,
           9.3,
           10.8,
           10.1,
           13.7,
           14.3,
           15.7,
           11.1,
           9.3,
           12.9,
           13.4,
           11.5,
           10.4,
           17.1,
           13.8,
           13.9,
           13.3,
           9.8,
           10.3,
           13.6,
           11.1,
           13.8,
           12.7,
           13.7,
           11.2,
           9.4,
           12.7,
           11.4,
           9.9,
           8.4,
           8.2,
           10.3,
           9,
           10.1,
           8.2,
           9.9,
           8.2,
           8.1,
           13.8,
           12.1,
           13.7,
           12.7,
           13.6,
           12.1,
           12.7,
           17.1,
           12.1,
           12.5,
           15.4,
           16.5,
           12.1,
           13.5,
           16.8,
           14.4,
           15.7,
           12.6,
           15.9,
           13.8,
           13.1,
           16.2,
           13.1,
           12.5,
           15.8,
           13.1,
           12.9,
           13.4,
           14,
           15.1,
           15.3,
           15.9,
           14.5,
           12.6,
           12.6,
           12.9,
           14,
           14.3,
           13.9,
           12.4,
           12.5,
           14.3,
           12.6,
           14.6,
           15.7,
           13.3,
           13.3,
           13.4,
           14.9,
           14.3,
           17.3,
           15.1,
           13.2,
           15.4,
           14.8,
           12.5
          ],
          "sizemode": "area",
          "sizeref": 0.043250000000000004,
          "symbol": "circle"
         },
         "mode": "markers",
         "name": "1",
         "orientation": "v",
         "showlegend": true,
         "type": "scatter",
         "x": [
          15.9,
          11.8,
          12.7,
          11.7,
          9.6,
          13.2,
          11.1,
          11.2,
          16.3,
          9.3,
          10.8,
          10.1,
          13.7,
          14.3,
          15.7,
          11.1,
          9.3,
          12.9,
          13.4,
          11.5,
          10.4,
          17.1,
          13.8,
          13.9,
          13.3,
          9.8,
          10.3,
          13.6,
          11.1,
          13.8,
          12.7,
          13.7,
          11.2,
          9.4,
          12.7,
          11.4,
          9.9,
          8.4,
          8.2,
          10.3,
          9,
          10.1,
          8.2,
          9.9,
          8.2,
          8.1,
          13.8,
          12.1,
          13.7,
          12.7,
          13.6,
          12.1,
          12.7,
          17.1,
          12.1,
          12.5,
          15.4,
          16.5,
          12.1,
          13.5,
          16.8,
          14.4,
          15.7,
          12.6,
          15.9,
          13.8,
          13.1,
          16.2,
          13.1,
          12.5,
          15.8,
          13.1,
          12.9,
          13.4,
          14,
          15.1,
          15.3,
          15.9,
          14.5,
          12.6,
          12.6,
          12.9,
          14,
          14.3,
          13.9,
          12.4,
          12.5,
          14.3,
          12.6,
          14.6,
          15.7,
          13.3,
          13.3,
          13.4,
          14.9,
          14.3,
          17.3,
          15.1,
          13.2,
          15.4,
          14.8,
          12.5
         ],
         "xaxis": "x",
         "y": [
          24.04,
          23.64,
          10.53,
          12.19,
          6.76,
          -13.38,
          26.88,
          8.48,
          12.76,
          26.37,
          0,
          39.95,
          -2.97,
          11.86,
          -0.18,
          16.71,
          16.21,
          14.13,
          10.84,
          21.83,
          23.54,
          7.08,
          10.48,
          6.59,
          -12.32,
          13.65,
          15.54,
          -22.33,
          11.55,
          13.33,
          11.66,
          12.52,
          -71.01,
          13.75,
          13.65,
          26.17,
          9.22,
          30.89,
          34.15,
          14.77,
          23.18,
          -0.43,
          21.72,
          28.99,
          -13.16,
          29.26,
          6.07,
          13.86,
          6.84,
          19.91,
          -20.56,
          17.3,
          7.57,
          5.21,
          7.94,
          17.41,
          17.3,
          15.25,
          19.48,
          16.13,
          -0.48,
          6.97,
          12.45,
          13.96,
          -8.05,
          5.1,
          -5.9,
          7.12,
          11.68,
          17.25,
          4.55,
          4.73,
          16.28,
          7.9,
          4.93,
          1.96,
          24.64,
          0.29,
          1.04,
          16.54,
          12.22,
          20.91,
          10.77,
          19.19,
          16.39,
          8.03,
          18.08,
          5.87,
          16.27,
          13.41,
          5.95,
          5.51,
          11.78,
          13.05,
          2.26,
          1.01,
          7.37,
          13.2,
          11.99,
          1.56,
          12.14,
          21.57
         ],
         "yaxis": "y"
        },
        {
         "customdata": [
          [
           false,
           0,
           "0",
           "ALZR11"
          ],
          [
           false,
           0,
           "0",
           "ASMT11"
          ],
          [
           false,
           0,
           "0",
           "ASRF11"
          ],
          [
           false,
           0,
           "0",
           "BIPD11"
          ],
          [
           false,
           0,
           "0",
           "BPML11"
          ],
          [
           false,
           0,
           "0",
           "BREV11"
          ],
          [
           false,
           0,
           "0",
           "BROF11"
          ],
          [
           false,
           0,
           "0",
           "BTLG11"
          ],
          [
           false,
           0,
           "0",
           "BTSI11"
          ],
          [
           false,
           0,
           "0",
           "CARE11"
          ],
          [
           false,
           0,
           "0",
           "DAMT11B"
          ],
          [
           false,
           0,
           "0",
           "EVBI11"
          ],
          [
           false,
           0,
           "0",
           "FIIB11"
          ],
          [
           false,
           0,
           "0",
           "FLMA11"
          ],
          [
           false,
           0,
           "0",
           "GALG11"
          ],
          [
           false,
           0,
           "0",
           "GCOI11"
          ],
          [
           false,
           0,
           "0",
           "GURB11"
          ],
          [
           false,
           0,
           "0",
           "HBRH11"
          ],
          [
           false,
           0,
           "0",
           "HGRU11"
          ],
          [
           false,
           0,
           "0",
           "HRDF11"
          ],
          [
           false,
           0,
           "0",
           "HSRE11"
          ],
          [
           false,
           0,
           "0",
           "JPPC11"
          ],
          [
           false,
           0,
           "0",
           "JSRE11"
          ],
          [
           false,
           0,
           "0",
           "KNHF11"
          ],
          [
           false,
           0,
           "0",
           "KNRI11"
          ],
          [
           false,
           0,
           "0",
           "LLAO11"
          ],
          [
           false,
           0,
           "0",
           "NEWU11"
          ],
          [
           false,
           0,
           "0",
           "PNRC11"
          ],
          [
           false,
           0,
           "0",
           "RBRD11"
          ],
          [
           false,
           0,
           "0",
           "RBRS11"
          ],
          [
           false,
           0,
           "0",
           "RELG11"
          ],
          [
           false,
           0,
           "0",
           "RMAI11"
          ],
          [
           false,
           0,
           "0",
           "SHOP11"
          ],
          [
           false,
           0,
           "0",
           "SNLG11"
          ],
          [
           false,
           0,
           "0",
           "SPMO11"
          ],
          [
           false,
           0,
           "0",
           "TRXB11"
          ],
          [
           false,
           0,
           "0",
           "VVRI11"
          ],
          [
           false,
           0,
           "0",
           "WTSP11"
          ],
          [
           false,
           0,
           "0",
           "ZIFI11"
          ],
          [
           false,
           0,
           "0",
           "ABCP11"
          ],
          [
           false,
           0,
           "0",
           "ANCR11B"
          ],
          [
           false,
           0,
           "0",
           "ATSA11"
          ],
          [
           false,
           0,
           "0",
           "GSFI11"
          ],
          [
           false,
           0,
           "0",
           "HGBS11"
          ],
          [
           false,
           0,
           "0",
           "HPDP11"
          ],
          [
           false,
           0,
           "0",
           "MALL11"
          ],
          [
           false,
           0,
           "0",
           "SCPF11"
          ],
          [
           false,
           0,
           "0",
           "SHPH11"
          ],
          [
           false,
           1,
           "0",
           "ALZM11"
          ],
          [
           false,
           0,
           "0",
           "ARXD11"
          ],
          [
           false,
           1,
           "0",
           "BARI11"
          ],
          [
           false,
           1,
           "0",
           "BBFO11"
          ],
          [
           false,
           0,
           "0",
           "BCFF11"
          ],
          [
           false,
           0,
           "0",
           "BCIA11"
          ],
          [
           false,
           1,
           "0",
           "BLMC11"
          ],
          [
           false,
           1,
           "0",
           "BLMR11"
          ],
          [
           false,
           1,
           "0",
           "BPFF11"
          ],
          [
           false,
           1,
           "0",
           "BTCI11"
          ],
          [
           false,
           0,
           "0",
           "CCRF11"
          ],
          [
           false,
           0,
           "0",
           "CLIN11"
          ],
          [
           false,
           0,
           "0",
           "CPFF11"
          ],
          [
           false,
           1,
           "0",
           "CRAA11"
          ],
          [
           false,
           0,
           "0",
           "CRFF11"
          ],
          [
           false,
           1,
           "0",
           "CXCI11"
          ],
          [
           false,
           0,
           "0",
           "CXRI11"
          ],
          [
           false,
           0,
           "0",
           "EXES11"
          ],
          [
           false,
           0,
           "0",
           "GRWA11"
          ],
          [
           false,
           0,
           "0",
           "HFOF11"
          ],
          [
           false,
           0,
           "0",
           "HGFF11"
          ],
          [
           false,
           1,
           "0",
           "HREC11"
          ],
          [
           false,
           1,
           "0",
           "HSAF11"
          ],
          [
           false,
           0,
           "0",
           "IAAG11"
          ],
          [
           false,
           1,
           "0",
           "ITIP11"
          ],
          [
           false,
           0,
           "0",
           "ITIT11"
          ],
          [
           false,
           0,
           "0",
           "JCCJ11"
          ],
          [
           false,
           1,
           "0",
           "JSAF11"
          ],
          [
           false,
           1,
           "0",
           "KCRE11"
          ],
          [
           false,
           0,
           "0",
           "KFOF11"
          ],
          [
           false,
           1,
           "0",
           "KISU11"
          ],
          [
           false,
           1,
           "0",
           "KNHY11"
          ],
          [
           false,
           0,
           "0",
           "KNIP11"
          ],
          [
           false,
           1,
           "0",
           "KNSC11"
          ],
          [
           false,
           0,
           "0",
           "KNUQ11"
          ],
          [
           false,
           0,
           "0",
           "MGFF11"
          ],
          [
           false,
           0,
           "0",
           "MORE11"
          ],
          [
           false,
           1,
           "0",
           "NAVT11"
          ],
          [
           false,
           0,
           "0",
           "NCRI11"
          ],
          [
           false,
           0,
           "0",
           "OCRE11"
          ],
          [
           false,
           1,
           "0",
           "OGHY11"
          ],
          [
           false,
           1,
           "0",
           "OUFF11"
          ],
          [
           false,
           0,
           "0",
           "PNDL11"
          ],
          [
           false,
           1,
           "0",
           "QAMI11"
          ],
          [
           false,
           0,
           "0",
           "RBFF11"
          ],
          [
           false,
           0,
           "0",
           "RBRF11"
          ],
          [
           false,
           1,
           "0",
           "RBRR11"
          ],
          [
           false,
           0,
           "0",
           "RCFF11"
          ],
          [
           false,
           1,
           "0",
           "RECX11"
          ],
          [
           false,
           1,
           "0",
           "RFOF11"
          ],
          [
           false,
           0,
           "0",
           "RINV11"
          ],
          [
           false,
           1,
           "0",
           "RVBI11"
          ],
          [
           false,
           1,
           "0",
           "SNFF11"
          ],
          [
           false,
           0,
           "0",
           "TMPS11"
          ],
          [
           false,
           1,
           "0",
           "VCJR11"
          ],
          [
           false,
           1,
           "0",
           "VGIP11"
          ],
          [
           false,
           0,
           "0",
           "VIFI11"
          ],
          [
           false,
           1,
           "0",
           "VRTA11"
          ],
          [
           false,
           0,
           "0",
           "VVCR11"
          ],
          [
           false,
           1,
           "0",
           "XPSF11"
          ]
         ],
         "hovertemplate": "FLAG_DY_ACIMA_DY_SETOR=%{customdata[2]}<br>DIV_YIELD=%{marker.size}<br>OSCILACOES_%_2023=%{y}<br>FLAG_DY_ACIMA_10_E_SETOR=%{customdata[0]}<br>FLAG_DY_ACIMA_10=%{customdata[1]}<br>FII=%{customdata[3]}<extra></extra>",
         "legendgroup": "0",
         "marker": {
          "color": "rgb(217, 175, 107)",
          "size": [
           8,
           5.3,
           0,
           0,
           1.2,
           6.2,
           5.5,
           8.5,
           2.2,
           0,
           6.1,
           8.9,
           7.8,
           8.1,
           9,
           0.8,
           3.9,
           7.3,
           8.6,
           0,
           6.9,
           0,
           7.4,
           2.8,
           7.2,
           6.9,
           2.3,
           4.2,
           9.2,
           9,
           6.3,
           5.4,
           0,
           2.5,
           0.4,
           7.9,
           8.3,
           6.4,
           0,
           8,
           1.8,
           0.4,
           0,
           8,
           7,
           8,
           5.7,
           6.3,
           11.5,
           6.3,
           11.3,
           10.5,
           9.5,
           9.1,
           10.8,
           10.9,
           10.1,
           11.7,
           9.6,
           1.1,
           9.4,
           10.6,
           9.6,
           12,
           8.6,
           9.9,
           8.6,
           9.7,
           8.8,
           11.9,
           11.9,
           3.1,
           11.1,
           8.9,
           0.5,
           10.3,
           11.2,
           9.2,
           10.1,
           11.8,
           9.8,
           11,
           0.9,
           9.4,
           8.9,
           11.6,
           9.9,
           6.5,
           11.4,
           11.3,
           0.5,
           10.9,
           9.4,
           9.7,
           11.2,
           1.4,
           10.4,
           11.5,
           9.8,
           11.3,
           10.7,
           5.5,
           11.1,
           11.7,
           9.4,
           11,
           6.6,
           10.7
          ],
          "sizemode": "area",
          "sizeref": 0.043250000000000004,
          "symbol": "circle"
         },
         "mode": "markers",
         "name": "0",
         "orientation": "v",
         "showlegend": true,
         "type": "scatter",
         "x": [
          8,
          5.3,
          0,
          0,
          1.2,
          6.2,
          5.5,
          8.5,
          2.2,
          0,
          6.1,
          8.9,
          7.8,
          8.1,
          9,
          0.8,
          3.9,
          7.3,
          8.6,
          0,
          6.9,
          0,
          7.4,
          2.8,
          7.2,
          6.9,
          2.3,
          4.2,
          9.2,
          9,
          6.3,
          5.4,
          0,
          2.5,
          0.4,
          7.9,
          8.3,
          6.4,
          0,
          8,
          1.8,
          0.4,
          0,
          8,
          7,
          8,
          5.7,
          6.3,
          11.5,
          6.3,
          11.3,
          10.5,
          9.5,
          9.1,
          10.8,
          10.9,
          10.1,
          11.7,
          9.6,
          1.1,
          9.4,
          10.6,
          9.6,
          12,
          8.6,
          9.9,
          8.6,
          9.7,
          8.8,
          11.9,
          11.9,
          3.1,
          11.1,
          8.9,
          0.5,
          10.3,
          11.2,
          9.2,
          10.1,
          11.8,
          9.8,
          11,
          0.9,
          9.4,
          8.9,
          11.6,
          9.9,
          6.5,
          11.4,
          11.3,
          0.5,
          10.9,
          9.4,
          9.7,
          11.2,
          1.4,
          10.4,
          11.5,
          9.8,
          11.3,
          10.7,
          5.5,
          11.1,
          11.7,
          9.4,
          11,
          6.6,
          10.7
         ],
         "xaxis": "x",
         "y": [
          12.97,
          -20.76,
          0,
          0,
          50.91,
          24.2,
          2.09,
          8.19,
          -5.24,
          -50.35,
          9.74,
          12.89,
          20.07,
          9.31,
          12.35,
          0.82,
          12.14,
          15.63,
          16.46,
          -20.21,
          8.39,
          36.98,
          7.46,
          0.99,
          23.62,
          0,
          88.37,
          4.61,
          14.66,
          5.94,
          -28.66,
          0.63,
          -27.07,
          -29.56,
          21.73,
          17.39,
          4.44,
          2.78,
          -21.74,
          4.95,
          3.53,
          -28.39,
          64,
          28.86,
          22.19,
          20.48,
          4.17,
          15.2,
          10.29,
          6.49,
          3.7,
          20.84,
          20.09,
          28.58,
          16.91,
          11.82,
          19.38,
          24.09,
          19.51,
          -1.86,
          23.47,
          10.14,
          32.49,
          19.89,
          40.84,
          -3.82,
          25.83,
          16.02,
          31.2,
          15.9,
          18.17,
          4.45,
          9.87,
          3.4,
          22.62,
          36.42,
          18.12,
          32.74,
          14.22,
          16.19,
          10.59,
          15.87,
          0.95,
          26.79,
          24.83,
          28.36,
          -2.79,
          8.01,
          14.72,
          24.41,
          6.73,
          17.14,
          27.19,
          23.76,
          18.03,
          -7.46,
          1.58,
          21.53,
          22.52,
          24.23,
          7.72,
          -0.73,
          11.75,
          13.96,
          27.75,
          10.18,
          -0.85,
          18.18
         ],
         "yaxis": "y"
        }
       ],
       "layout": {
        "legend": {
         "itemsizing": "constant",
         "title": {
          "text": "FLAG_DY_ACIMA_DY_SETOR"
         },
         "tracegroupgap": 0
        },
        "margin": {
         "t": 60
        },
        "template": {
         "data": {
          "bar": [
           {
            "error_x": {
             "color": "#2a3f5f"
            },
            "error_y": {
             "color": "#2a3f5f"
            },
            "marker": {
             "line": {
              "color": "#E5ECF6",
              "width": 0.5
             },
             "pattern": {
              "fillmode": "overlay",
              "size": 10,
              "solidity": 0.2
             }
            },
            "type": "bar"
           }
          ],
          "barpolar": [
           {
            "marker": {
             "line": {
              "color": "#E5ECF6",
              "width": 0.5
             },
             "pattern": {
              "fillmode": "overlay",
              "size": 10,
              "solidity": 0.2
             }
            },
            "type": "barpolar"
           }
          ],
          "carpet": [
           {
            "aaxis": {
             "endlinecolor": "#2a3f5f",
             "gridcolor": "white",
             "linecolor": "white",
             "minorgridcolor": "white",
             "startlinecolor": "#2a3f5f"
            },
            "baxis": {
             "endlinecolor": "#2a3f5f",
             "gridcolor": "white",
             "linecolor": "white",
             "minorgridcolor": "white",
             "startlinecolor": "#2a3f5f"
            },
            "type": "carpet"
           }
          ],
          "choropleth": [
           {
            "colorbar": {
             "outlinewidth": 0,
             "ticks": ""
            },
            "type": "choropleth"
           }
          ],
          "contour": [
           {
            "colorbar": {
             "outlinewidth": 0,
             "ticks": ""
            },
            "colorscale": [
             [
              0,
              "#0d0887"
             ],
             [
              0.1111111111111111,
              "#46039f"
             ],
             [
              0.2222222222222222,
              "#7201a8"
             ],
             [
              0.3333333333333333,
              "#9c179e"
             ],
             [
              0.4444444444444444,
              "#bd3786"
             ],
             [
              0.5555555555555556,
              "#d8576b"
             ],
             [
              0.6666666666666666,
              "#ed7953"
             ],
             [
              0.7777777777777778,
              "#fb9f3a"
             ],
             [
              0.8888888888888888,
              "#fdca26"
             ],
             [
              1,
              "#f0f921"
             ]
            ],
            "type": "contour"
           }
          ],
          "contourcarpet": [
           {
            "colorbar": {
             "outlinewidth": 0,
             "ticks": ""
            },
            "type": "contourcarpet"
           }
          ],
          "heatmap": [
           {
            "colorbar": {
             "outlinewidth": 0,
             "ticks": ""
            },
            "colorscale": [
             [
              0,
              "#0d0887"
             ],
             [
              0.1111111111111111,
              "#46039f"
             ],
             [
              0.2222222222222222,
              "#7201a8"
             ],
             [
              0.3333333333333333,
              "#9c179e"
             ],
             [
              0.4444444444444444,
              "#bd3786"
             ],
             [
              0.5555555555555556,
              "#d8576b"
             ],
             [
              0.6666666666666666,
              "#ed7953"
             ],
             [
              0.7777777777777778,
              "#fb9f3a"
             ],
             [
              0.8888888888888888,
              "#fdca26"
             ],
             [
              1,
              "#f0f921"
             ]
            ],
            "type": "heatmap"
           }
          ],
          "heatmapgl": [
           {
            "colorbar": {
             "outlinewidth": 0,
             "ticks": ""
            },
            "colorscale": [
             [
              0,
              "#0d0887"
             ],
             [
              0.1111111111111111,
              "#46039f"
             ],
             [
              0.2222222222222222,
              "#7201a8"
             ],
             [
              0.3333333333333333,
              "#9c179e"
             ],
             [
              0.4444444444444444,
              "#bd3786"
             ],
             [
              0.5555555555555556,
              "#d8576b"
             ],
             [
              0.6666666666666666,
              "#ed7953"
             ],
             [
              0.7777777777777778,
              "#fb9f3a"
             ],
             [
              0.8888888888888888,
              "#fdca26"
             ],
             [
              1,
              "#f0f921"
             ]
            ],
            "type": "heatmapgl"
           }
          ],
          "histogram": [
           {
            "marker": {
             "pattern": {
              "fillmode": "overlay",
              "size": 10,
              "solidity": 0.2
             }
            },
            "type": "histogram"
           }
          ],
          "histogram2d": [
           {
            "colorbar": {
             "outlinewidth": 0,
             "ticks": ""
            },
            "colorscale": [
             [
              0,
              "#0d0887"
             ],
             [
              0.1111111111111111,
              "#46039f"
             ],
             [
              0.2222222222222222,
              "#7201a8"
             ],
             [
              0.3333333333333333,
              "#9c179e"
             ],
             [
              0.4444444444444444,
              "#bd3786"
             ],
             [
              0.5555555555555556,
              "#d8576b"
             ],
             [
              0.6666666666666666,
              "#ed7953"
             ],
             [
              0.7777777777777778,
              "#fb9f3a"
             ],
             [
              0.8888888888888888,
              "#fdca26"
             ],
             [
              1,
              "#f0f921"
             ]
            ],
            "type": "histogram2d"
           }
          ],
          "histogram2dcontour": [
           {
            "colorbar": {
             "outlinewidth": 0,
             "ticks": ""
            },
            "colorscale": [
             [
              0,
              "#0d0887"
             ],
             [
              0.1111111111111111,
              "#46039f"
             ],
             [
              0.2222222222222222,
              "#7201a8"
             ],
             [
              0.3333333333333333,
              "#9c179e"
             ],
             [
              0.4444444444444444,
              "#bd3786"
             ],
             [
              0.5555555555555556,
              "#d8576b"
             ],
             [
              0.6666666666666666,
              "#ed7953"
             ],
             [
              0.7777777777777778,
              "#fb9f3a"
             ],
             [
              0.8888888888888888,
              "#fdca26"
             ],
             [
              1,
              "#f0f921"
             ]
            ],
            "type": "histogram2dcontour"
           }
          ],
          "mesh3d": [
           {
            "colorbar": {
             "outlinewidth": 0,
             "ticks": ""
            },
            "type": "mesh3d"
           }
          ],
          "parcoords": [
           {
            "line": {
             "colorbar": {
              "outlinewidth": 0,
              "ticks": ""
             }
            },
            "type": "parcoords"
           }
          ],
          "pie": [
           {
            "automargin": true,
            "type": "pie"
           }
          ],
          "scatter": [
           {
            "marker": {
             "colorbar": {
              "outlinewidth": 0,
              "ticks": ""
             }
            },
            "type": "scatter"
           }
          ],
          "scatter3d": [
           {
            "line": {
             "colorbar": {
              "outlinewidth": 0,
              "ticks": ""
             }
            },
            "marker": {
             "colorbar": {
              "outlinewidth": 0,
              "ticks": ""
             }
            },
            "type": "scatter3d"
           }
          ],
          "scattercarpet": [
           {
            "marker": {
             "colorbar": {
              "outlinewidth": 0,
              "ticks": ""
             }
            },
            "type": "scattercarpet"
           }
          ],
          "scattergeo": [
           {
            "marker": {
             "colorbar": {
              "outlinewidth": 0,
              "ticks": ""
             }
            },
            "type": "scattergeo"
           }
          ],
          "scattergl": [
           {
            "marker": {
             "colorbar": {
              "outlinewidth": 0,
              "ticks": ""
             }
            },
            "type": "scattergl"
           }
          ],
          "scattermapbox": [
           {
            "marker": {
             "colorbar": {
              "outlinewidth": 0,
              "ticks": ""
             }
            },
            "type": "scattermapbox"
           }
          ],
          "scatterpolar": [
           {
            "marker": {
             "colorbar": {
              "outlinewidth": 0,
              "ticks": ""
             }
            },
            "type": "scatterpolar"
           }
          ],
          "scatterpolargl": [
           {
            "marker": {
             "colorbar": {
              "outlinewidth": 0,
              "ticks": ""
             }
            },
            "type": "scatterpolargl"
           }
          ],
          "scatterternary": [
           {
            "marker": {
             "colorbar": {
              "outlinewidth": 0,
              "ticks": ""
             }
            },
            "type": "scatterternary"
           }
          ],
          "surface": [
           {
            "colorbar": {
             "outlinewidth": 0,
             "ticks": ""
            },
            "colorscale": [
             [
              0,
              "#0d0887"
             ],
             [
              0.1111111111111111,
              "#46039f"
             ],
             [
              0.2222222222222222,
              "#7201a8"
             ],
             [
              0.3333333333333333,
              "#9c179e"
             ],
             [
              0.4444444444444444,
              "#bd3786"
             ],
             [
              0.5555555555555556,
              "#d8576b"
             ],
             [
              0.6666666666666666,
              "#ed7953"
             ],
             [
              0.7777777777777778,
              "#fb9f3a"
             ],
             [
              0.8888888888888888,
              "#fdca26"
             ],
             [
              1,
              "#f0f921"
             ]
            ],
            "type": "surface"
           }
          ],
          "table": [
           {
            "cells": {
             "fill": {
              "color": "#EBF0F8"
             },
             "line": {
              "color": "white"
             }
            },
            "header": {
             "fill": {
              "color": "#C8D4E3"
             },
             "line": {
              "color": "white"
             }
            },
            "type": "table"
           }
          ]
         },
         "layout": {
          "annotationdefaults": {
           "arrowcolor": "#2a3f5f",
           "arrowhead": 0,
           "arrowwidth": 1
          },
          "autotypenumbers": "strict",
          "coloraxis": {
           "colorbar": {
            "outlinewidth": 0,
            "ticks": ""
           }
          },
          "colorscale": {
           "diverging": [
            [
             0,
             "#8e0152"
            ],
            [
             0.1,
             "#c51b7d"
            ],
            [
             0.2,
             "#de77ae"
            ],
            [
             0.3,
             "#f1b6da"
            ],
            [
             0.4,
             "#fde0ef"
            ],
            [
             0.5,
             "#f7f7f7"
            ],
            [
             0.6,
             "#e6f5d0"
            ],
            [
             0.7,
             "#b8e186"
            ],
            [
             0.8,
             "#7fbc41"
            ],
            [
             0.9,
             "#4d9221"
            ],
            [
             1,
             "#276419"
            ]
           ],
           "sequential": [
            [
             0,
             "#0d0887"
            ],
            [
             0.1111111111111111,
             "#46039f"
            ],
            [
             0.2222222222222222,
             "#7201a8"
            ],
            [
             0.3333333333333333,
             "#9c179e"
            ],
            [
             0.4444444444444444,
             "#bd3786"
            ],
            [
             0.5555555555555556,
             "#d8576b"
            ],
            [
             0.6666666666666666,
             "#ed7953"
            ],
            [
             0.7777777777777778,
             "#fb9f3a"
            ],
            [
             0.8888888888888888,
             "#fdca26"
            ],
            [
             1,
             "#f0f921"
            ]
           ],
           "sequentialminus": [
            [
             0,
             "#0d0887"
            ],
            [
             0.1111111111111111,
             "#46039f"
            ],
            [
             0.2222222222222222,
             "#7201a8"
            ],
            [
             0.3333333333333333,
             "#9c179e"
            ],
            [
             0.4444444444444444,
             "#bd3786"
            ],
            [
             0.5555555555555556,
             "#d8576b"
            ],
            [
             0.6666666666666666,
             "#ed7953"
            ],
            [
             0.7777777777777778,
             "#fb9f3a"
            ],
            [
             0.8888888888888888,
             "#fdca26"
            ],
            [
             1,
             "#f0f921"
            ]
           ]
          },
          "colorway": [
           "#636efa",
           "#EF553B",
           "#00cc96",
           "#ab63fa",
           "#FFA15A",
           "#19d3f3",
           "#FF6692",
           "#B6E880",
           "#FF97FF",
           "#FECB52"
          ],
          "font": {
           "color": "#2a3f5f"
          },
          "geo": {
           "bgcolor": "white",
           "lakecolor": "white",
           "landcolor": "#E5ECF6",
           "showlakes": true,
           "showland": true,
           "subunitcolor": "white"
          },
          "hoverlabel": {
           "align": "left"
          },
          "hovermode": "closest",
          "mapbox": {
           "style": "light"
          },
          "paper_bgcolor": "white",
          "plot_bgcolor": "#E5ECF6",
          "polar": {
           "angularaxis": {
            "gridcolor": "white",
            "linecolor": "white",
            "ticks": ""
           },
           "bgcolor": "#E5ECF6",
           "radialaxis": {
            "gridcolor": "white",
            "linecolor": "white",
            "ticks": ""
           }
          },
          "scene": {
           "xaxis": {
            "backgroundcolor": "#E5ECF6",
            "gridcolor": "white",
            "gridwidth": 2,
            "linecolor": "white",
            "showbackground": true,
            "ticks": "",
            "zerolinecolor": "white"
           },
           "yaxis": {
            "backgroundcolor": "#E5ECF6",
            "gridcolor": "white",
            "gridwidth": 2,
            "linecolor": "white",
            "showbackground": true,
            "ticks": "",
            "zerolinecolor": "white"
           },
           "zaxis": {
            "backgroundcolor": "#E5ECF6",
            "gridcolor": "white",
            "gridwidth": 2,
            "linecolor": "white",
            "showbackground": true,
            "ticks": "",
            "zerolinecolor": "white"
           }
          },
          "shapedefaults": {
           "line": {
            "color": "#2a3f5f"
           }
          },
          "ternary": {
           "aaxis": {
            "gridcolor": "white",
            "linecolor": "white",
            "ticks": ""
           },
           "baxis": {
            "gridcolor": "white",
            "linecolor": "white",
            "ticks": ""
           },
           "bgcolor": "#E5ECF6",
           "caxis": {
            "gridcolor": "white",
            "linecolor": "white",
            "ticks": ""
           }
          },
          "title": {
           "x": 0.05
          },
          "xaxis": {
           "automargin": true,
           "gridcolor": "white",
           "linecolor": "white",
           "ticks": "",
           "title": {
            "standoff": 15
           },
           "zerolinecolor": "white",
           "zerolinewidth": 2
          },
          "yaxis": {
           "automargin": true,
           "gridcolor": "white",
           "linecolor": "white",
           "ticks": "",
           "title": {
            "standoff": 15
           },
           "zerolinecolor": "white",
           "zerolinewidth": 2
          }
         }
        },
        "xaxis": {
         "anchor": "y",
         "domain": [
          0,
          1
         ],
         "title": {
          "text": "DIV_YIELD"
         }
        },
        "yaxis": {
         "anchor": "x",
         "domain": [
          0,
          1
         ],
         "title": {
          "text": "OSCILACOES_%_2023"
         }
        }
       }
      },
      "text/html": [
       "<div>                            <div id=\"9b1be3cd-c699-4a54-a02e-5d864d276609\" class=\"plotly-graph-div\" style=\"height:525px; width:100%;\"></div>            <script type=\"text/javascript\">                require([\"plotly\"], function(Plotly) {                    window.PLOTLYENV=window.PLOTLYENV || {};                                    if (document.getElementById(\"9b1be3cd-c699-4a54-a02e-5d864d276609\")) {                    Plotly.newPlot(                        \"9b1be3cd-c699-4a54-a02e-5d864d276609\",                        [{\"customdata\":[[true,1,\"1\",\"AGRX11\"],[true,1,\"1\",\"APTO11\"],[true,1,\"1\",\"BIME11\"],[true,1,\"1\",\"BMLC11\"],[false,0,\"1\",\"BRCR11\"],[true,1,\"1\",\"DPRO11\"],[true,1,\"1\",\"DVFF11\"],[true,1,\"1\",\"FATN11\"],[true,1,\"1\",\"FGAA11\"],[false,0,\"1\",\"FIIP11B\"],[true,1,\"1\",\"FTCE11\"],[true,1,\"1\",\"HOSI11\"],[true,1,\"1\",\"IRIM11\"],[true,1,\"1\",\"JGPX11\"],[true,1,\"1\",\"JPPA11\"],[true,1,\"1\",\"MAXR11\"],[false,0,\"1\",\"MFAI11\"],[true,1,\"1\",\"MFCR11\"],[true,1,\"1\",\"MFII11\"],[true,1,\"1\",\"MXRF11\"],[true,1,\"1\",\"NEWL11\"],[true,1,\"1\",\"OIAG11\"],[true,1,\"1\",\"OUJP11\"],[true,1,\"1\",\"OURE11\"],[true,1,\"1\",\"RECT11\"],[false,0,\"1\",\"RZAT11\"],[true,1,\"1\",\"RZTR11\"],[true,1,\"1\",\"SARE11\"],[true,1,\"1\",\"SEED11\"],[true,1,\"1\",\"SNAG11\"],[true,1,\"1\",\"SPXS11\"],[true,1,\"1\",\"TGAR11\"],[true,1,\"1\",\"TORD11\"],[false,0,\"1\",\"TRXF11\"],[true,1,\"1\",\"VGHF11\"],[true,1,\"1\",\"WHGR11\"],[false,0,\"1\",\"ZAVI11\"],[false,0,\"1\",\"FIGS11\"],[false,0,\"1\",\"FLRP11\"],[true,1,\"1\",\"FVPQ11\"],[false,0,\"1\",\"HSML11\"],[true,1,\"1\",\"PQDP11\"],[false,0,\"1\",\"VISC11\"],[false,0,\"1\",\"VSHO11\"],[false,0,\"1\",\"WPLZ11\"],[false,0,\"1\",\"XPML11\"],[true,1,\"1\",\"AAZQ11\"],[true,1,\"1\",\"AFHI11\"],[true,1,\"1\",\"ARRI11\"],[true,1,\"1\",\"BBGO11\"],[true,1,\"1\",\"BCRI11\"],[true,1,\"1\",\"BICE11\"],[true,1,\"1\",\"BLUR11\"],[true,1,\"1\",\"CPTR11\"],[true,1,\"1\",\"CPTS11\"],[true,1,\"1\",\"CVBI11\"],[true,1,\"1\",\"DCRA11\"],[true,1,\"1\",\"EGAF11\"],[true,1,\"1\",\"EQIR11\"],[true,1,\"1\",\"FLCR11\"],[true,1,\"1\",\"GCRA11\"],[true,1,\"1\",\"GCRI11\"],[true,1,\"1\",\"HABT11\"],[true,1,\"1\",\"HGCR11\"],[true,1,\"1\",\"IAGR11\"],[true,1,\"1\",\"IBCR11\"],[true,1,\"1\",\"IRDM11\"],[true,1,\"1\",\"KIVO11\"],[true,1,\"1\",\"KNCA11\"],[true,1,\"1\",\"KNCR11\"],[true,1,\"1\",\"LSAG11\"],[true,1,\"1\",\"MANA11\"],[true,1,\"1\",\"MCCI11\"],[true,1,\"1\",\"MCHF11\"],[true,1,\"1\",\"MORC11\"],[true,1,\"1\",\"NCHB11\"],[true,1,\"1\",\"NCRA11\"],[true,1,\"1\",\"PEMA11\"],[true,1,\"1\",\"PLCA11\"],[true,1,\"1\",\"PLCR11\"],[true,1,\"1\",\"PORD11\"],[true,1,\"1\",\"RBHG11\"],[true,1,\"1\",\"RBHY11\"],[true,1,\"1\",\"RBRX11\"],[true,1,\"1\",\"RBRY11\"],[true,1,\"1\",\"RECR11\"],[true,1,\"1\",\"RPRI11\"],[true,1,\"1\",\"RRCI11\"],[true,1,\"1\",\"RURA11\"],[true,1,\"1\",\"RZAG11\"],[true,1,\"1\",\"RZAK11\"],[true,1,\"1\",\"SADI11\"],[true,1,\"1\",\"SIGR11\"],[true,1,\"1\",\"SNCI11\"],[true,1,\"1\",\"VCRA11\"],[true,1,\"1\",\"VCRI11\"],[true,1,\"1\",\"VGIA11\"],[true,1,\"1\",\"VGIR11\"],[true,1,\"1\",\"VOTS11\"],[true,1,\"1\",\"WSEC11\"],[true,1,\"1\",\"XPCA11\"],[true,1,\"1\",\"XPCI11\"]],\"hovertemplate\":\"FLAG_DY_ACIMA_DY_SETOR=%{customdata[2]}<br>DIV_YIELD=%{marker.size}<br>OSCILACOES_%_2023=%{y}<br>FLAG_DY_ACIMA_10_E_SETOR=%{customdata[0]}<br>FLAG_DY_ACIMA_10=%{customdata[1]}<br>FII=%{customdata[3]}<extra></extra>\",\"legendgroup\":\"1\",\"marker\":{\"color\":\"rgb(133, 92, 117)\",\"size\":[15.9,11.8,12.7,11.7,9.6,13.2,11.1,11.2,16.3,9.3,10.8,10.1,13.7,14.3,15.7,11.1,9.3,12.9,13.4,11.5,10.4,17.1,13.8,13.9,13.3,9.8,10.3,13.6,11.1,13.8,12.7,13.7,11.2,9.4,12.7,11.4,9.9,8.4,8.2,10.3,9.0,10.1,8.2,9.9,8.2,8.1,13.8,12.1,13.7,12.7,13.6,12.1,12.7,17.1,12.1,12.5,15.4,16.5,12.1,13.5,16.8,14.4,15.7,12.6,15.9,13.8,13.1,16.2,13.1,12.5,15.8,13.1,12.9,13.4,14.0,15.1,15.3,15.9,14.5,12.6,12.6,12.9,14.0,14.3,13.9,12.4,12.5,14.3,12.6,14.6,15.7,13.3,13.3,13.4,14.9,14.3,17.3,15.1,13.2,15.4,14.8,12.5],\"sizemode\":\"area\",\"sizeref\":0.043250000000000004,\"symbol\":\"circle\"},\"mode\":\"markers\",\"name\":\"1\",\"orientation\":\"v\",\"showlegend\":true,\"x\":[15.9,11.8,12.7,11.7,9.6,13.2,11.1,11.2,16.3,9.3,10.8,10.1,13.7,14.3,15.7,11.1,9.3,12.9,13.4,11.5,10.4,17.1,13.8,13.9,13.3,9.8,10.3,13.6,11.1,13.8,12.7,13.7,11.2,9.4,12.7,11.4,9.9,8.4,8.2,10.3,9.0,10.1,8.2,9.9,8.2,8.1,13.8,12.1,13.7,12.7,13.6,12.1,12.7,17.1,12.1,12.5,15.4,16.5,12.1,13.5,16.8,14.4,15.7,12.6,15.9,13.8,13.1,16.2,13.1,12.5,15.8,13.1,12.9,13.4,14.0,15.1,15.3,15.9,14.5,12.6,12.6,12.9,14.0,14.3,13.9,12.4,12.5,14.3,12.6,14.6,15.7,13.3,13.3,13.4,14.9,14.3,17.3,15.1,13.2,15.4,14.8,12.5],\"xaxis\":\"x\",\"y\":[24.04,23.64,10.53,12.19,6.76,-13.38,26.88,8.48,12.76,26.37,0.0,39.95,-2.97,11.86,-0.18,16.71,16.21,14.13,10.84,21.83,23.54,7.08,10.48,6.59,-12.32,13.65,15.54,-22.33,11.55,13.33,11.66,12.52,-71.01,13.75,13.65,26.17,9.22,30.89,34.15,14.77,23.18,-0.43,21.72,28.99,-13.16,29.26,6.07,13.86,6.84,19.91,-20.56,17.3,7.57,5.21,7.94,17.41,17.3,15.25,19.48,16.13,-0.48,6.97,12.45,13.96,-8.05,5.1,-5.9,7.12,11.68,17.25,4.55,4.73,16.28,7.9,4.93,1.96,24.64,0.29,1.04,16.54,12.22,20.91,10.77,19.19,16.39,8.03,18.08,5.87,16.27,13.41,5.95,5.51,11.78,13.05,2.26,1.01,7.37,13.2,11.99,1.56,12.14,21.57],\"yaxis\":\"y\",\"type\":\"scatter\"},{\"customdata\":[[false,0,\"0\",\"ALZR11\"],[false,0,\"0\",\"ASMT11\"],[false,0,\"0\",\"ASRF11\"],[false,0,\"0\",\"BIPD11\"],[false,0,\"0\",\"BPML11\"],[false,0,\"0\",\"BREV11\"],[false,0,\"0\",\"BROF11\"],[false,0,\"0\",\"BTLG11\"],[false,0,\"0\",\"BTSI11\"],[false,0,\"0\",\"CARE11\"],[false,0,\"0\",\"DAMT11B\"],[false,0,\"0\",\"EVBI11\"],[false,0,\"0\",\"FIIB11\"],[false,0,\"0\",\"FLMA11\"],[false,0,\"0\",\"GALG11\"],[false,0,\"0\",\"GCOI11\"],[false,0,\"0\",\"GURB11\"],[false,0,\"0\",\"HBRH11\"],[false,0,\"0\",\"HGRU11\"],[false,0,\"0\",\"HRDF11\"],[false,0,\"0\",\"HSRE11\"],[false,0,\"0\",\"JPPC11\"],[false,0,\"0\",\"JSRE11\"],[false,0,\"0\",\"KNHF11\"],[false,0,\"0\",\"KNRI11\"],[false,0,\"0\",\"LLAO11\"],[false,0,\"0\",\"NEWU11\"],[false,0,\"0\",\"PNRC11\"],[false,0,\"0\",\"RBRD11\"],[false,0,\"0\",\"RBRS11\"],[false,0,\"0\",\"RELG11\"],[false,0,\"0\",\"RMAI11\"],[false,0,\"0\",\"SHOP11\"],[false,0,\"0\",\"SNLG11\"],[false,0,\"0\",\"SPMO11\"],[false,0,\"0\",\"TRXB11\"],[false,0,\"0\",\"VVRI11\"],[false,0,\"0\",\"WTSP11\"],[false,0,\"0\",\"ZIFI11\"],[false,0,\"0\",\"ABCP11\"],[false,0,\"0\",\"ANCR11B\"],[false,0,\"0\",\"ATSA11\"],[false,0,\"0\",\"GSFI11\"],[false,0,\"0\",\"HGBS11\"],[false,0,\"0\",\"HPDP11\"],[false,0,\"0\",\"MALL11\"],[false,0,\"0\",\"SCPF11\"],[false,0,\"0\",\"SHPH11\"],[false,1,\"0\",\"ALZM11\"],[false,0,\"0\",\"ARXD11\"],[false,1,\"0\",\"BARI11\"],[false,1,\"0\",\"BBFO11\"],[false,0,\"0\",\"BCFF11\"],[false,0,\"0\",\"BCIA11\"],[false,1,\"0\",\"BLMC11\"],[false,1,\"0\",\"BLMR11\"],[false,1,\"0\",\"BPFF11\"],[false,1,\"0\",\"BTCI11\"],[false,0,\"0\",\"CCRF11\"],[false,0,\"0\",\"CLIN11\"],[false,0,\"0\",\"CPFF11\"],[false,1,\"0\",\"CRAA11\"],[false,0,\"0\",\"CRFF11\"],[false,1,\"0\",\"CXCI11\"],[false,0,\"0\",\"CXRI11\"],[false,0,\"0\",\"EXES11\"],[false,0,\"0\",\"GRWA11\"],[false,0,\"0\",\"HFOF11\"],[false,0,\"0\",\"HGFF11\"],[false,1,\"0\",\"HREC11\"],[false,1,\"0\",\"HSAF11\"],[false,0,\"0\",\"IAAG11\"],[false,1,\"0\",\"ITIP11\"],[false,0,\"0\",\"ITIT11\"],[false,0,\"0\",\"JCCJ11\"],[false,1,\"0\",\"JSAF11\"],[false,1,\"0\",\"KCRE11\"],[false,0,\"0\",\"KFOF11\"],[false,1,\"0\",\"KISU11\"],[false,1,\"0\",\"KNHY11\"],[false,0,\"0\",\"KNIP11\"],[false,1,\"0\",\"KNSC11\"],[false,0,\"0\",\"KNUQ11\"],[false,0,\"0\",\"MGFF11\"],[false,0,\"0\",\"MORE11\"],[false,1,\"0\",\"NAVT11\"],[false,0,\"0\",\"NCRI11\"],[false,0,\"0\",\"OCRE11\"],[false,1,\"0\",\"OGHY11\"],[false,1,\"0\",\"OUFF11\"],[false,0,\"0\",\"PNDL11\"],[false,1,\"0\",\"QAMI11\"],[false,0,\"0\",\"RBFF11\"],[false,0,\"0\",\"RBRF11\"],[false,1,\"0\",\"RBRR11\"],[false,0,\"0\",\"RCFF11\"],[false,1,\"0\",\"RECX11\"],[false,1,\"0\",\"RFOF11\"],[false,0,\"0\",\"RINV11\"],[false,1,\"0\",\"RVBI11\"],[false,1,\"0\",\"SNFF11\"],[false,0,\"0\",\"TMPS11\"],[false,1,\"0\",\"VCJR11\"],[false,1,\"0\",\"VGIP11\"],[false,0,\"0\",\"VIFI11\"],[false,1,\"0\",\"VRTA11\"],[false,0,\"0\",\"VVCR11\"],[false,1,\"0\",\"XPSF11\"]],\"hovertemplate\":\"FLAG_DY_ACIMA_DY_SETOR=%{customdata[2]}<br>DIV_YIELD=%{marker.size}<br>OSCILACOES_%_2023=%{y}<br>FLAG_DY_ACIMA_10_E_SETOR=%{customdata[0]}<br>FLAG_DY_ACIMA_10=%{customdata[1]}<br>FII=%{customdata[3]}<extra></extra>\",\"legendgroup\":\"0\",\"marker\":{\"color\":\"rgb(217, 175, 107)\",\"size\":[8.0,5.3,0.0,0.0,1.2,6.2,5.5,8.5,2.2,0.0,6.1,8.9,7.8,8.1,9.0,0.8,3.9,7.3,8.6,0.0,6.9,0.0,7.4,2.8,7.2,6.9,2.3,4.2,9.2,9.0,6.3,5.4,0.0,2.5,0.4,7.9,8.3,6.4,0.0,8.0,1.8,0.4,0.0,8.0,7.0,8.0,5.7,6.3,11.5,6.3,11.3,10.5,9.5,9.1,10.8,10.9,10.1,11.7,9.6,1.1,9.4,10.6,9.6,12.0,8.6,9.9,8.6,9.7,8.8,11.9,11.9,3.1,11.1,8.9,0.5,10.3,11.2,9.2,10.1,11.8,9.8,11.0,0.9,9.4,8.9,11.6,9.9,6.5,11.4,11.3,0.5,10.9,9.4,9.7,11.2,1.4,10.4,11.5,9.8,11.3,10.7,5.5,11.1,11.7,9.4,11.0,6.6,10.7],\"sizemode\":\"area\",\"sizeref\":0.043250000000000004,\"symbol\":\"circle\"},\"mode\":\"markers\",\"name\":\"0\",\"orientation\":\"v\",\"showlegend\":true,\"x\":[8.0,5.3,0.0,0.0,1.2,6.2,5.5,8.5,2.2,0.0,6.1,8.9,7.8,8.1,9.0,0.8,3.9,7.3,8.6,0.0,6.9,0.0,7.4,2.8,7.2,6.9,2.3,4.2,9.2,9.0,6.3,5.4,0.0,2.5,0.4,7.9,8.3,6.4,0.0,8.0,1.8,0.4,0.0,8.0,7.0,8.0,5.7,6.3,11.5,6.3,11.3,10.5,9.5,9.1,10.8,10.9,10.1,11.7,9.6,1.1,9.4,10.6,9.6,12.0,8.6,9.9,8.6,9.7,8.8,11.9,11.9,3.1,11.1,8.9,0.5,10.3,11.2,9.2,10.1,11.8,9.8,11.0,0.9,9.4,8.9,11.6,9.9,6.5,11.4,11.3,0.5,10.9,9.4,9.7,11.2,1.4,10.4,11.5,9.8,11.3,10.7,5.5,11.1,11.7,9.4,11.0,6.6,10.7],\"xaxis\":\"x\",\"y\":[12.97,-20.76,0.0,0.0,50.91,24.2,2.09,8.19,-5.24,-50.35,9.74,12.89,20.07,9.31,12.35,0.82,12.14,15.63,16.46,-20.21,8.39,36.98,7.46,0.99,23.62,0.0,88.37,4.61,14.66,5.94,-28.66,0.63,-27.07,-29.56,21.73,17.39,4.44,2.78,-21.74,4.95,3.53,-28.39,64.0,28.86,22.19,20.48,4.17,15.2,10.29,6.49,3.7,20.84,20.09,28.58,16.91,11.82,19.38,24.09,19.51,-1.86,23.47,10.14,32.49,19.89,40.84,-3.82,25.83,16.02,31.2,15.9,18.17,4.45,9.87,3.4,22.62,36.42,18.12,32.74,14.22,16.19,10.59,15.87,0.95,26.79,24.83,28.36,-2.79,8.01,14.72,24.41,6.73,17.14,27.19,23.76,18.03,-7.46,1.58,21.53,22.52,24.23,7.72,-0.73,11.75,13.96,27.75,10.18,-0.85,18.18],\"yaxis\":\"y\",\"type\":\"scatter\"}],                        {\"template\":{\"data\":{\"bar\":[{\"error_x\":{\"color\":\"#2a3f5f\"},\"error_y\":{\"color\":\"#2a3f5f\"},\"marker\":{\"line\":{\"color\":\"#E5ECF6\",\"width\":0.5},\"pattern\":{\"fillmode\":\"overlay\",\"size\":10,\"solidity\":0.2}},\"type\":\"bar\"}],\"barpolar\":[{\"marker\":{\"line\":{\"color\":\"#E5ECF6\",\"width\":0.5},\"pattern\":{\"fillmode\":\"overlay\",\"size\":10,\"solidity\":0.2}},\"type\":\"barpolar\"}],\"carpet\":[{\"aaxis\":{\"endlinecolor\":\"#2a3f5f\",\"gridcolor\":\"white\",\"linecolor\":\"white\",\"minorgridcolor\":\"white\",\"startlinecolor\":\"#2a3f5f\"},\"baxis\":{\"endlinecolor\":\"#2a3f5f\",\"gridcolor\":\"white\",\"linecolor\":\"white\",\"minorgridcolor\":\"white\",\"startlinecolor\":\"#2a3f5f\"},\"type\":\"carpet\"}],\"choropleth\":[{\"colorbar\":{\"outlinewidth\":0,\"ticks\":\"\"},\"type\":\"choropleth\"}],\"contour\":[{\"colorbar\":{\"outlinewidth\":0,\"ticks\":\"\"},\"colorscale\":[[0.0,\"#0d0887\"],[0.1111111111111111,\"#46039f\"],[0.2222222222222222,\"#7201a8\"],[0.3333333333333333,\"#9c179e\"],[0.4444444444444444,\"#bd3786\"],[0.5555555555555556,\"#d8576b\"],[0.6666666666666666,\"#ed7953\"],[0.7777777777777778,\"#fb9f3a\"],[0.8888888888888888,\"#fdca26\"],[1.0,\"#f0f921\"]],\"type\":\"contour\"}],\"contourcarpet\":[{\"colorbar\":{\"outlinewidth\":0,\"ticks\":\"\"},\"type\":\"contourcarpet\"}],\"heatmap\":[{\"colorbar\":{\"outlinewidth\":0,\"ticks\":\"\"},\"colorscale\":[[0.0,\"#0d0887\"],[0.1111111111111111,\"#46039f\"],[0.2222222222222222,\"#7201a8\"],[0.3333333333333333,\"#9c179e\"],[0.4444444444444444,\"#bd3786\"],[0.5555555555555556,\"#d8576b\"],[0.6666666666666666,\"#ed7953\"],[0.7777777777777778,\"#fb9f3a\"],[0.8888888888888888,\"#fdca26\"],[1.0,\"#f0f921\"]],\"type\":\"heatmap\"}],\"heatmapgl\":[{\"colorbar\":{\"outlinewidth\":0,\"ticks\":\"\"},\"colorscale\":[[0.0,\"#0d0887\"],[0.1111111111111111,\"#46039f\"],[0.2222222222222222,\"#7201a8\"],[0.3333333333333333,\"#9c179e\"],[0.4444444444444444,\"#bd3786\"],[0.5555555555555556,\"#d8576b\"],[0.6666666666666666,\"#ed7953\"],[0.7777777777777778,\"#fb9f3a\"],[0.8888888888888888,\"#fdca26\"],[1.0,\"#f0f921\"]],\"type\":\"heatmapgl\"}],\"histogram\":[{\"marker\":{\"pattern\":{\"fillmode\":\"overlay\",\"size\":10,\"solidity\":0.2}},\"type\":\"histogram\"}],\"histogram2d\":[{\"colorbar\":{\"outlinewidth\":0,\"ticks\":\"\"},\"colorscale\":[[0.0,\"#0d0887\"],[0.1111111111111111,\"#46039f\"],[0.2222222222222222,\"#7201a8\"],[0.3333333333333333,\"#9c179e\"],[0.4444444444444444,\"#bd3786\"],[0.5555555555555556,\"#d8576b\"],[0.6666666666666666,\"#ed7953\"],[0.7777777777777778,\"#fb9f3a\"],[0.8888888888888888,\"#fdca26\"],[1.0,\"#f0f921\"]],\"type\":\"histogram2d\"}],\"histogram2dcontour\":[{\"colorbar\":{\"outlinewidth\":0,\"ticks\":\"\"},\"colorscale\":[[0.0,\"#0d0887\"],[0.1111111111111111,\"#46039f\"],[0.2222222222222222,\"#7201a8\"],[0.3333333333333333,\"#9c179e\"],[0.4444444444444444,\"#bd3786\"],[0.5555555555555556,\"#d8576b\"],[0.6666666666666666,\"#ed7953\"],[0.7777777777777778,\"#fb9f3a\"],[0.8888888888888888,\"#fdca26\"],[1.0,\"#f0f921\"]],\"type\":\"histogram2dcontour\"}],\"mesh3d\":[{\"colorbar\":{\"outlinewidth\":0,\"ticks\":\"\"},\"type\":\"mesh3d\"}],\"parcoords\":[{\"line\":{\"colorbar\":{\"outlinewidth\":0,\"ticks\":\"\"}},\"type\":\"parcoords\"}],\"pie\":[{\"automargin\":true,\"type\":\"pie\"}],\"scatter\":[{\"marker\":{\"colorbar\":{\"outlinewidth\":0,\"ticks\":\"\"}},\"type\":\"scatter\"}],\"scatter3d\":[{\"line\":{\"colorbar\":{\"outlinewidth\":0,\"ticks\":\"\"}},\"marker\":{\"colorbar\":{\"outlinewidth\":0,\"ticks\":\"\"}},\"type\":\"scatter3d\"}],\"scattercarpet\":[{\"marker\":{\"colorbar\":{\"outlinewidth\":0,\"ticks\":\"\"}},\"type\":\"scattercarpet\"}],\"scattergeo\":[{\"marker\":{\"colorbar\":{\"outlinewidth\":0,\"ticks\":\"\"}},\"type\":\"scattergeo\"}],\"scattergl\":[{\"marker\":{\"colorbar\":{\"outlinewidth\":0,\"ticks\":\"\"}},\"type\":\"scattergl\"}],\"scattermapbox\":[{\"marker\":{\"colorbar\":{\"outlinewidth\":0,\"ticks\":\"\"}},\"type\":\"scattermapbox\"}],\"scatterpolar\":[{\"marker\":{\"colorbar\":{\"outlinewidth\":0,\"ticks\":\"\"}},\"type\":\"scatterpolar\"}],\"scatterpolargl\":[{\"marker\":{\"colorbar\":{\"outlinewidth\":0,\"ticks\":\"\"}},\"type\":\"scatterpolargl\"}],\"scatterternary\":[{\"marker\":{\"colorbar\":{\"outlinewidth\":0,\"ticks\":\"\"}},\"type\":\"scatterternary\"}],\"surface\":[{\"colorbar\":{\"outlinewidth\":0,\"ticks\":\"\"},\"colorscale\":[[0.0,\"#0d0887\"],[0.1111111111111111,\"#46039f\"],[0.2222222222222222,\"#7201a8\"],[0.3333333333333333,\"#9c179e\"],[0.4444444444444444,\"#bd3786\"],[0.5555555555555556,\"#d8576b\"],[0.6666666666666666,\"#ed7953\"],[0.7777777777777778,\"#fb9f3a\"],[0.8888888888888888,\"#fdca26\"],[1.0,\"#f0f921\"]],\"type\":\"surface\"}],\"table\":[{\"cells\":{\"fill\":{\"color\":\"#EBF0F8\"},\"line\":{\"color\":\"white\"}},\"header\":{\"fill\":{\"color\":\"#C8D4E3\"},\"line\":{\"color\":\"white\"}},\"type\":\"table\"}]},\"layout\":{\"annotationdefaults\":{\"arrowcolor\":\"#2a3f5f\",\"arrowhead\":0,\"arrowwidth\":1},\"autotypenumbers\":\"strict\",\"coloraxis\":{\"colorbar\":{\"outlinewidth\":0,\"ticks\":\"\"}},\"colorscale\":{\"diverging\":[[0,\"#8e0152\"],[0.1,\"#c51b7d\"],[0.2,\"#de77ae\"],[0.3,\"#f1b6da\"],[0.4,\"#fde0ef\"],[0.5,\"#f7f7f7\"],[0.6,\"#e6f5d0\"],[0.7,\"#b8e186\"],[0.8,\"#7fbc41\"],[0.9,\"#4d9221\"],[1,\"#276419\"]],\"sequential\":[[0.0,\"#0d0887\"],[0.1111111111111111,\"#46039f\"],[0.2222222222222222,\"#7201a8\"],[0.3333333333333333,\"#9c179e\"],[0.4444444444444444,\"#bd3786\"],[0.5555555555555556,\"#d8576b\"],[0.6666666666666666,\"#ed7953\"],[0.7777777777777778,\"#fb9f3a\"],[0.8888888888888888,\"#fdca26\"],[1.0,\"#f0f921\"]],\"sequentialminus\":[[0.0,\"#0d0887\"],[0.1111111111111111,\"#46039f\"],[0.2222222222222222,\"#7201a8\"],[0.3333333333333333,\"#9c179e\"],[0.4444444444444444,\"#bd3786\"],[0.5555555555555556,\"#d8576b\"],[0.6666666666666666,\"#ed7953\"],[0.7777777777777778,\"#fb9f3a\"],[0.8888888888888888,\"#fdca26\"],[1.0,\"#f0f921\"]]},\"colorway\":[\"#636efa\",\"#EF553B\",\"#00cc96\",\"#ab63fa\",\"#FFA15A\",\"#19d3f3\",\"#FF6692\",\"#B6E880\",\"#FF97FF\",\"#FECB52\"],\"font\":{\"color\":\"#2a3f5f\"},\"geo\":{\"bgcolor\":\"white\",\"lakecolor\":\"white\",\"landcolor\":\"#E5ECF6\",\"showlakes\":true,\"showland\":true,\"subunitcolor\":\"white\"},\"hoverlabel\":{\"align\":\"left\"},\"hovermode\":\"closest\",\"mapbox\":{\"style\":\"light\"},\"paper_bgcolor\":\"white\",\"plot_bgcolor\":\"#E5ECF6\",\"polar\":{\"angularaxis\":{\"gridcolor\":\"white\",\"linecolor\":\"white\",\"ticks\":\"\"},\"bgcolor\":\"#E5ECF6\",\"radialaxis\":{\"gridcolor\":\"white\",\"linecolor\":\"white\",\"ticks\":\"\"}},\"scene\":{\"xaxis\":{\"backgroundcolor\":\"#E5ECF6\",\"gridcolor\":\"white\",\"gridwidth\":2,\"linecolor\":\"white\",\"showbackground\":true,\"ticks\":\"\",\"zerolinecolor\":\"white\"},\"yaxis\":{\"backgroundcolor\":\"#E5ECF6\",\"gridcolor\":\"white\",\"gridwidth\":2,\"linecolor\":\"white\",\"showbackground\":true,\"ticks\":\"\",\"zerolinecolor\":\"white\"},\"zaxis\":{\"backgroundcolor\":\"#E5ECF6\",\"gridcolor\":\"white\",\"gridwidth\":2,\"linecolor\":\"white\",\"showbackground\":true,\"ticks\":\"\",\"zerolinecolor\":\"white\"}},\"shapedefaults\":{\"line\":{\"color\":\"#2a3f5f\"}},\"ternary\":{\"aaxis\":{\"gridcolor\":\"white\",\"linecolor\":\"white\",\"ticks\":\"\"},\"baxis\":{\"gridcolor\":\"white\",\"linecolor\":\"white\",\"ticks\":\"\"},\"bgcolor\":\"#E5ECF6\",\"caxis\":{\"gridcolor\":\"white\",\"linecolor\":\"white\",\"ticks\":\"\"}},\"title\":{\"x\":0.05},\"xaxis\":{\"automargin\":true,\"gridcolor\":\"white\",\"linecolor\":\"white\",\"ticks\":\"\",\"title\":{\"standoff\":15},\"zerolinecolor\":\"white\",\"zerolinewidth\":2},\"yaxis\":{\"automargin\":true,\"gridcolor\":\"white\",\"linecolor\":\"white\",\"ticks\":\"\",\"title\":{\"standoff\":15},\"zerolinecolor\":\"white\",\"zerolinewidth\":2}}},\"xaxis\":{\"anchor\":\"y\",\"domain\":[0.0,1.0],\"title\":{\"text\":\"DIV_YIELD\"}},\"yaxis\":{\"anchor\":\"x\",\"domain\":[0.0,1.0],\"title\":{\"text\":\"OSCILACOES_%_2023\"}},\"legend\":{\"title\":{\"text\":\"FLAG_DY_ACIMA_DY_SETOR\"},\"tracegroupgap\":0,\"itemsizing\":\"constant\"},\"margin\":{\"t\":60}},                        {\"responsive\": true}                    ).then(function(){\n",
       "                            \n",
       "var gd = document.getElementById('9b1be3cd-c699-4a54-a02e-5d864d276609');\n",
       "var x = new MutationObserver(function (mutations, observer) {{\n",
       "        var display = window.getComputedStyle(gd).display;\n",
       "        if (!display || display === 'none') {{\n",
       "            console.log([gd, 'removed!']);\n",
       "            Plotly.purge(gd);\n",
       "            observer.disconnect();\n",
       "        }}\n",
       "}});\n",
       "\n",
       "// Listen for the removal of the full notebook cells\n",
       "var notebookContainer = gd.closest('#notebook-container');\n",
       "if (notebookContainer) {{\n",
       "    x.observe(notebookContainer, {childList: true});\n",
       "}}\n",
       "\n",
       "// Listen for the clearing of the current output cell\n",
       "var outputEl = gd.closest('.output');\n",
       "if (outputEl) {{\n",
       "    x.observe(outputEl, {childList: true});\n",
       "}}\n",
       "\n",
       "                        })                };                });            </script>        </div>"
      ]
     },
     "metadata": {},
     "output_type": "display_data"
    }
   ],
   "source": [
    "# Visualizar os dois componentes\n",
    "df_pca['FLAG_DY_ACIMA_DY_SETOR'] = df_pca['FLAG_DY_ACIMA_DY_SETOR'].astype(str) \n",
    "fig = px.scatter(df_pca[df_pca['DIV_YIELD'] <= 20],\n",
    "                 x=\"DIV_YIELD\",\n",
    "                 y=\"OSCILACOES_%_2023\",\n",
    "                 color=\"FLAG_DY_ACIMA_DY_SETOR\",\n",
    "                 color_discrete_sequence=px.colors.qualitative.Antique,\n",
    "                 size='DIV_YIELD',\n",
    "                 hover_data=['FLAG_DY_ACIMA_10_E_SETOR','FLAG_DY_ACIMA_10','FLAG_DY_ACIMA_DY_SETOR','FII',])\n",
    "fig.show()"
   ]
  },
  {
   "cell_type": "markdown",
   "id": "f2e3a564",
   "metadata": {},
   "source": [
    "- Flag 1 para ambas\n",
    "- Não tenha oscilações negativas\n",
    "- P/VP próximo de 1\n",
    "- Alto DY"
   ]
  },
  {
   "cell_type": "code",
   "execution_count": null,
   "id": "774edee3",
   "metadata": {},
   "outputs": [],
   "source": []
  }
 ],
 "metadata": {
  "kernelspec": {
   "display_name": "Python 3 (ipykernel)",
   "language": "python",
   "name": "python3"
  },
  "language_info": {
   "codemirror_mode": {
    "name": "ipython",
    "version": 3
   },
   "file_extension": ".py",
   "mimetype": "text/x-python",
   "name": "python",
   "nbconvert_exporter": "python",
   "pygments_lexer": "ipython3",
   "version": "3.9.12"
  }
 },
 "nbformat": 4,
 "nbformat_minor": 5
}
